{
 "cells": [
  {
   "cell_type": "code",
   "execution_count": 114,
   "metadata": {},
   "outputs": [
    {
     "data": {
      "text/plain": [
       "3"
      ]
     },
     "execution_count": 114,
     "metadata": {},
     "output_type": "execute_result"
    }
   ],
   "source": [
    "### O(log(n)) time, O(d) time (d is digits), O(1) space\n",
    "def CountOnes(n):\n",
    "    cnt=0\n",
    "    while n > 0:\n",
    "        if n % 2 == 1:\n",
    "            cnt += 1\n",
    "        n //= 2\n",
    "    return cnt\n",
    "\n",
    "CountOnes(100)"
   ]
  },
  {
   "cell_type": "code",
   "execution_count": 29,
   "metadata": {},
   "outputs": [
    {
     "name": "stdout",
     "output_type": "stream",
     "text": [
      "0\n",
      "1\n",
      "0\n"
     ]
    }
   ],
   "source": [
    "### TC: O(log n), SC: O(1)\n",
    "def Parity(n):\n",
    "    res = 0\n",
    "    while n>0:\n",
    "        res = (res + n%2)%2\n",
    "        n //= 2\n",
    "    return res\n",
    "\n",
    "print(Parity(3)) # 11\n",
    "print(Parity(11)) # 1011\n",
    "print(Parity(75)) # 1001011"
   ]
  },
  {
   "cell_type": "code",
   "execution_count": 31,
   "metadata": {},
   "outputs": [
    {
     "name": "stdout",
     "output_type": "stream",
     "text": [
      "0\n",
      "1\n",
      "0\n"
     ]
    }
   ],
   "source": [
    "### TC: O(s), SC: O(1), where s is number of bits in n set to 1\n",
    "def Parity2(n):\n",
    "    res = 0\n",
    "    while n>0:\n",
    "        res = (res + 1)%2\n",
    "        y = x & ~(x-1)\n",
    "        x = x^y\n",
    "    return res\n",
    "print(Parity(3)) # 11\n",
    "print(Parity(11)) # 1011\n",
    "print(Parity(75)) # 1001011"
   ]
  },
  {
   "cell_type": "code",
   "execution_count": 47,
   "metadata": {},
   "outputs": [
    {
     "data": {
      "text/plain": [
       "[0, 0, 0, 0, 1, 0, 1, 1]"
      ]
     },
     "execution_count": 47,
     "metadata": {},
     "output_type": "execute_result"
    }
   ],
   "source": [
    "### TC: O(log n), SC: O(log n)\n",
    "\n",
    "def SwapBits(x, i, j):\n",
    "    arr = [0]*8\n",
    "    k = 0\n",
    "    while x>0:\n",
    "        arr[k] = x%2\n",
    "        x //= 2; k += 1\n",
    "    arr = list(reversed(arr))\n",
    "    \n",
    "    arr[i], arr[j] = arr[j], arr[i]  \n",
    "    return arr\n",
    "\n",
    "SwapBits(73, 1, 6)"
   ]
  },
  {
   "cell_type": "code",
   "execution_count": 50,
   "metadata": {},
   "outputs": [
    {
     "data": {
      "text/plain": [
       "[0, 1, 1, 0, 0, 0, 1, 0]"
      ]
     },
     "execution_count": 50,
     "metadata": {},
     "output_type": "execute_result"
    }
   ],
   "source": [
    "### TC: O(log n), SC: O(log n)\n",
    "\n",
    "def ReverseBits(x):\n",
    "    arr = [0]*8\n",
    "    k = 0\n",
    "    while x>0:\n",
    "        arr[k] = x%2\n",
    "        x //= 2; k += 1\n",
    "    \n",
    "    return arr\n",
    "\n",
    "ReverseBits(70)"
   ]
  },
  {
   "cell_type": "code",
   "execution_count": 63,
   "metadata": {},
   "outputs": [
    {
     "name": "stdout",
     "output_type": "stream",
     "text": [
      "True\n",
      "True\n",
      "True\n",
      "False\n",
      "True\n"
     ]
    }
   ],
   "source": [
    "###TC: O(log n), SC: O(log n)\n",
    "def IsPal(n):\n",
    "    s = str(n)\n",
    "    \n",
    "    i, j = 0, len(s)-1\n",
    "    while i<j:\n",
    "        if s[i] != s[j]:\n",
    "            return False\n",
    "        i += 1\n",
    "        j -= 1\n",
    "    \n",
    "    return True\n",
    "\n",
    "print(IsPal(1))\n",
    "print(IsPal(777))\n",
    "print(IsPal(131))\n",
    "print(IsPal(123))\n",
    "print(IsPal(9008009))"
   ]
  },
  {
   "cell_type": "code",
   "execution_count": null,
   "metadata": {},
   "outputs": [],
   "source": []
  },
  {
   "cell_type": "code",
   "execution_count": 64,
   "metadata": {},
   "outputs": [
    {
     "name": "stdout",
     "output_type": "stream",
     "text": [
      "True\n",
      "True\n",
      "True\n",
      "False\n",
      "True\n"
     ]
    }
   ],
   "source": [
    "from math import floor, log\n",
    "\n",
    "### TC: O(log n), SC: O(1)\n",
    "def IsPal2(n):\n",
    "    d = floor(log(n, 10))+1\n",
    "    mask = 10**(d-1)\n",
    "    \n",
    "    while d>1:\n",
    "        first = n//mask\n",
    "        last = n%10\n",
    "        if first != last:\n",
    "            return False\n",
    "        \n",
    "        n=n%mask\n",
    "        n=n//10\n",
    "        d=d-2\n",
    "        mask = 10**(d-1)\n",
    "    return True  \n",
    "\n",
    "print(IsPal2(1))\n",
    "print(IsPal2(777))\n",
    "print(IsPal2(131))\n",
    "print(IsPal2(123))\n",
    "print(IsPal2(9008009))"
   ]
  },
  {
   "cell_type": "code",
   "execution_count": 108,
   "metadata": {},
   "outputs": [
    {
     "name": "stdout",
     "output_type": "stream",
     "text": [
      "4\n",
      "[0.2049, 0.2048, 0.2049, 0.2047, 0.2048]\n"
     ]
    }
   ],
   "source": [
    "from random import randint\n",
    "from math import log, floor, inf\n",
    "\n",
    "def RNG(a, b):\n",
    "    n = floor(log(b - a + 1, 2))\n",
    "    \n",
    "    final_code = inf\n",
    "    while final_code > b-a:\n",
    "        \n",
    "        code = 0\n",
    "        k = 0\n",
    "        while k <= n:\n",
    "            RV = randint(0, 1)\n",
    "            code += RV*(2**(k))\n",
    "            k += 1\n",
    "\n",
    "        final_code = code\n",
    "    \n",
    "    return final_code + a\n",
    "    \n",
    "print(RNG(1, 5))\n",
    "\n",
    "### check if unbiased \n",
    "res_arr = [0]*5\n",
    "for _ in range(10000):\n",
    "    res_arr[RNG(1, 5)-1] = res_arr[RNG(1, 5)-1] + 1\n",
    "\n",
    "print([x/10000 for x in res_arr])"
   ]
  },
  {
   "cell_type": "markdown",
   "metadata": {},
   "source": [
    "The expected time complexity is $O(E[X]\\log (b-a))$, where $X$ is the number of times that the outer loop is run.  The number of times it is run can be computed by noting that the probability of success (i.e, that the binary representation of the sequences is $\\le b-a$) is:\n",
    "\\begin{align}\n",
    "p &= \\frac{b-a+1}{2^n} \\\\\n",
    "& = \\frac{b-a+1}{2^{\\mathrm{ceil}(\\lg (b-a+1))}} \\\\\n",
    "& = \\frac{b-a+1}{2^{\\mathrm{rem}} (b-a+1)} \\\\\n",
    "& = \\left(\\frac{1}{2}\\right)^{\\mathrm{rem}},\n",
    "\\end{align}\n",
    "where $\\mathrm{rem} \\in (0, 1)$. \n",
    "\n",
    "This process represents a geometric distribution, so that the mean number of trials $E[X] = 1/p = 2^{rem} \\in (1, 2)$.  Therefore, the expected time complexity is $O(\\log (b-a))$ (assuming the RNG takes $O(1)$ time) and the space complexity is $O(1)$."
   ]
  },
  {
   "cell_type": "code",
   "execution_count": 123,
   "metadata": {},
   "outputs": [
    {
     "name": "stdout",
     "output_type": "stream",
     "text": [
      "5\n",
      "4\n"
     ]
    }
   ],
   "source": [
    "## TC: O(x/y), SC:O(1)\n",
    "def divide(x,y):\n",
    "    if x == 0:\n",
    "        return 0\n",
    "    \n",
    "    q = 0\n",
    "    yc = 0\n",
    "    while yc <= x:\n",
    "        q += 1\n",
    "        yc += y\n",
    "        \n",
    "    return q - 1\n",
    "                \n",
    "print(divide(25,5))\n",
    "print(divide(24,5))"
   ]
  },
  {
   "cell_type": "code",
   "execution_count": 131,
   "metadata": {},
   "outputs": [
    {
     "name": "stdout",
     "output_type": "stream",
     "text": [
      "5\n",
      "4\n"
     ]
    }
   ],
   "source": [
    "def divide2(x, y):\n",
    "    q = 1\n",
    "    yc = y\n",
    "    \n",
    "    while yc < x:\n",
    "        yc = yc << 1\n",
    "        q = q << 1\n",
    "    \n",
    "    if yc>x:\n",
    "        yc = yc >> 1\n",
    "        q = q >> 1\n",
    "    \n",
    "    while yc <= x:\n",
    "        q += 1\n",
    "        yc += y\n",
    "        \n",
    "    return q-1\n",
    "\n",
    "print(divide2(25,5))\n",
    "print(divide2(24,5))"
   ]
  },
  {
   "cell_type": "code",
   "execution_count": 133,
   "metadata": {},
   "outputs": [
    {
     "name": "stdout",
     "output_type": "stream",
     "text": [
      "23.425600000000006\n",
      "27\n"
     ]
    }
   ],
   "source": [
    "### TC: O(log(y)), SC: O(log(y))\n",
    "def Expon(x, y):\n",
    "    if y == 1:\n",
    "        return x\n",
    "    \n",
    "    z = Expon(x, y//2)\n",
    "    \n",
    "    if y%2 == 0:\n",
    "        return z*z\n",
    "    return z*z*x\n",
    "\n",
    "print(Expon(2.2, 4))\n",
    "print(Expon(3, 3))"
   ]
  },
  {
   "cell_type": "code",
   "execution_count": 136,
   "metadata": {},
   "outputs": [
    {
     "data": {
      "text/plain": [
       "231"
      ]
     },
     "execution_count": 136,
     "metadata": {},
     "output_type": "execute_result"
    }
   ],
   "source": [
    "### TC: O(log(n)), SC: O(1)\n",
    "def ReverseDigits(n):\n",
    "    res = 0\n",
    "    while n>0:\n",
    "        res = res*10 +n%10\n",
    "        n //=10\n",
    "        \n",
    "    return res\n",
    "ReverseDigits(132)  "
   ]
  },
  {
   "cell_type": "code",
   "execution_count": 145,
   "metadata": {},
   "outputs": [
    {
     "name": "stdout",
     "output_type": "stream",
     "text": [
      "True\n",
      "False\n",
      "True\n"
     ]
    }
   ],
   "source": [
    "### TC:O(log n), SC: O(1)\n",
    "def IsPal(n):\n",
    "    if n < 0:\n",
    "        return False\n",
    "    \n",
    "    number_digits = floor(log(n, 10))+1\n",
    "    mask = 10**(number_digits-1)\n",
    "    \n",
    "    while n>0:\n",
    "        last_dig = n % 10\n",
    "        first_dig = n//mask\n",
    "        if last_dig != first_dig:\n",
    "            return False\n",
    "        else:\n",
    "            n %= mask\n",
    "            n //= 10\n",
    "            mask //= 100\n",
    "            \n",
    "    return True\n",
    "   \n",
    "print(IsPal(10101))\n",
    "print(IsPal(1234))\n",
    "print(IsPal(111))"
   ]
  }
 ],
 "metadata": {
  "kernelspec": {
   "display_name": "Python 3",
   "language": "python",
   "name": "python3"
  },
  "language_info": {
   "codemirror_mode": {
    "name": "ipython",
    "version": 3
   },
   "file_extension": ".py",
   "mimetype": "text/x-python",
   "name": "python",
   "nbconvert_exporter": "python",
   "pygments_lexer": "ipython3",
   "version": "3.6.5"
  }
 },
 "nbformat": 4,
 "nbformat_minor": 2
}
