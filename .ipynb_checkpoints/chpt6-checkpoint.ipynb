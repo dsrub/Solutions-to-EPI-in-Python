{
 "cells": [
  {
   "cell_type": "code",
   "execution_count": 48,
   "metadata": {},
   "outputs": [
    {
     "name": "stdout",
     "output_type": "stream",
     "text": [
      "1A7\n",
      "7CA916443CA8BB831480CB47A1674\n"
     ]
    }
   ],
   "source": [
    "##this algorithm takes O(log n), where n is the number in question and O(log n) space for an internal array.  \n",
    "## This can also be expressed as O(d) where d is the size of the input string (i.e., the number of digits)\n",
    "def ConvertBase(x, b1, b2):\n",
    "    D1={'0':0, '1':1, '2':2, '3':3, '4':4, '5':5, '6':6, '7':7, '8':8, '9':9, \\\n",
    "       'A':10, 'B':11, 'C':12, 'D':13, 'E':14, 'F':15}\n",
    "    \n",
    "    D2={0:'0', 1:'1', 2:'2', 3:'3', 4:'4', 5:'5', 6:'6', 7:'7', 8:'8', 9:'9', \n",
    "       10:'A', 11:'B', 12:'C', 13:'D', 14:'E', 15:'F'}\n",
    "    \n",
    "    ### convert x in b1 to dec \n",
    "    dec = 0\n",
    "    i = len(x) - 1\n",
    "    power = 0\n",
    "    while i >= 0:\n",
    "        dec += D1[x[i]]*(b1**power)\n",
    "        power += 1\n",
    "        i -= 1\n",
    "    \n",
    "    ### convert dec to b2\n",
    "    s=[]\n",
    "    while dec > 0:\n",
    "        s.append(D2[dec % b2])\n",
    "        dec //= b2\n",
    "    return \"\".join(list(reversed(s)))\n",
    "\n",
    "        \n",
    "print(ConvertBase('615', 7, 13))\n",
    "print(ConvertBase('61ABC039457823457ADCDED5ABE', 16, 13)) \n",
    "    "
   ]
  },
  {
   "cell_type": "code",
   "execution_count": 8,
   "metadata": {},
   "outputs": [
    {
     "data": {
      "text/plain": [
       "1"
      ]
     },
     "execution_count": 8,
     "metadata": {},
     "output_type": "execute_result"
    }
   ],
   "source": [
    "\n",
    "\n",
    "### compute alphabet to integer dict\n",
    "alph = string.ascii_uppercase\n",
    "D={}\n",
    "for i in range(26):\n",
    "    D[alph[i]] = i+1\n",
    "    \n",
    "def StoD(S, j):\n",
    "    if j == 0: return D[S[0]]\n",
    "    return StoD(S, j-1) + D[S[j]]\n",
    "\n",
    "StoD('AA', 0)"
   ]
  },
  {
   "cell_type": "code",
   "execution_count": 15,
   "metadata": {},
   "outputs": [
    {
     "data": {
      "text/plain": [
       "0.0"
      ]
     },
     "execution_count": 15,
     "metadata": {},
     "output_type": "execute_result"
    }
   ],
   "source": [
    "(1-26**(2-1-0))/(-25) - 1"
   ]
  },
  {
   "cell_type": "code",
   "execution_count": 21,
   "metadata": {},
   "outputs": [
    {
     "ename": "TypeError",
     "evalue": "StoD() missing 1 required positional argument: 'S'",
     "output_type": "error",
     "traceback": [
      "\u001b[0;31m------------------------------------------------------------\u001b[0m",
      "\u001b[0;31mTypeError\u001b[0m                  Traceback (most recent call last)",
      "\u001b[0;32m<ipython-input-21-ec7982903985>\u001b[0m in \u001b[0;36m<module>\u001b[0;34m()\u001b[0m\n\u001b[1;32m     19\u001b[0m     \u001b[0;32mreturn\u001b[0m \u001b[0mres\u001b[0m \u001b[0;34m+\u001b[0m \u001b[0mStoD\u001b[0m\u001b[0;34m(\u001b[0m\u001b[0mj\u001b[0m\u001b[0;34m+\u001b[0m\u001b[0;36m1\u001b[0m\u001b[0;34m,\u001b[0m \u001b[0mS\u001b[0m\u001b[0;34m)\u001b[0m\u001b[0;34m\u001b[0m\u001b[0m\n\u001b[1;32m     20\u001b[0m \u001b[0;34m\u001b[0m\u001b[0m\n\u001b[0;32m---> 21\u001b[0;31m \u001b[0mprint\u001b[0m\u001b[0;34m(\u001b[0m\u001b[0mStoD\u001b[0m\u001b[0;34m(\u001b[0m\u001b[0;34m'D'\u001b[0m\u001b[0;34m)\u001b[0m\u001b[0;34m)\u001b[0m\u001b[0;34m\u001b[0m\u001b[0m\n\u001b[0m\u001b[1;32m     22\u001b[0m \u001b[0mprint\u001b[0m\u001b[0;34m(\u001b[0m\u001b[0mStoD\u001b[0m\u001b[0;34m(\u001b[0m\u001b[0;34m'AA'\u001b[0m\u001b[0;34m)\u001b[0m\u001b[0;34m)\u001b[0m\u001b[0;34m\u001b[0m\u001b[0m\n\u001b[1;32m     23\u001b[0m \u001b[0mprint\u001b[0m\u001b[0;34m(\u001b[0m\u001b[0mStoD\u001b[0m\u001b[0;34m(\u001b[0m\u001b[0;34m'ZZ'\u001b[0m\u001b[0;34m)\u001b[0m\u001b[0;34m)\u001b[0m\u001b[0;34m\u001b[0m\u001b[0m\n",
      "\u001b[0;31mTypeError\u001b[0m: StoD() missing 1 required positional argument: 'S'"
     ]
    }
   ],
   "source": [
    "import string\n",
    "\n",
    "### the following algo satisfies T(n) = T(n-1)+C, so that the running time is O(n), and\n",
    "### the space complexity is O(n) (from the stack)\n",
    "\n",
    "### compute alphabet to integer dict\n",
    "alph = string.ascii_uppercase\n",
    "D={}\n",
    "for i in range(26):\n",
    "    D[alph[i]] = i+1\n",
    "\n",
    "\n",
    "def StoD(j, S):\n",
    "    if j == len(S)-1:\n",
    "        return D[S[j]]\n",
    "    \n",
    "    res = int((1-26**(len(S)-j))/(-25) - 1)\n",
    "    res += int((D[S[j]]-1)*26**(len(S)-1-j))\n",
    "    return res + StoD(j+1, S)\n",
    "\n",
    "print(StoD('D'))  \n",
    "print(StoD('AA'))  \n",
    "print(StoD('ZZ'))  \n",
    "print(StoD('AZ')) "
   ]
  },
  {
   "cell_type": "code",
   "execution_count": 22,
   "metadata": {},
   "outputs": [
    {
     "name": "stdout",
     "output_type": "stream",
     "text": [
      "4\n",
      "27\n",
      "702\n",
      "52\n"
     ]
    }
   ],
   "source": [
    "import string\n",
    "\n",
    "### TC:O(n) (where n is the length of the string), SC:O(1)\n",
    "def Spreadsheet_to_Int(s):\n",
    "    \n",
    "    ### compute alphabet to integer dict\n",
    "    alph = string.ascii_uppercase\n",
    "    D={}\n",
    "    for i in range(26):\n",
    "        D[alph[i]] = i+1\n",
    "    \n",
    "    n = len(s)\n",
    "    if n == 1:\n",
    "        return D[s]\n",
    "    \n",
    "    res = int((26**n-1)/25 - 1)\n",
    "    \n",
    "    for i in range(n):\n",
    "        res += (D[s[i]]-1)*(26**(n-i-1))\n",
    "    \n",
    "    return res + 1\n",
    "    \n",
    "print(Spreadsheet_to_Int('D'))  \n",
    "print(Spreadsheet_to_Int('AA'))  \n",
    "print(Spreadsheet_to_Int('ZZ'))  \n",
    "print(Spreadsheet_to_Int('AZ'))  "
   ]
  },
  {
   "cell_type": "code",
   "execution_count": 217,
   "metadata": {},
   "outputs": [
    {
     "name": "stdout",
     "output_type": "stream",
     "text": [
      "2\n",
      "26\n",
      "['B', None]\n"
     ]
    },
    {
     "ename": "TypeError",
     "evalue": "sequence item 1: expected str instance, NoneType found",
     "output_type": "error",
     "traceback": [
      "\u001b[0;31m---------------------------------------------------------------------------\u001b[0m",
      "\u001b[0;31mTypeError\u001b[0m                                 Traceback (most recent call last)",
      "\u001b[0;32m<ipython-input-217-f9db348743e4>\u001b[0m in \u001b[0;36m<module>\u001b[0;34m()\u001b[0m\n\u001b[1;32m     45\u001b[0m \u001b[0;34m\u001b[0m\u001b[0m\n\u001b[1;32m     46\u001b[0m \u001b[0;34m\u001b[0m\u001b[0m\n\u001b[0;32m---> 47\u001b[0;31m \u001b[0mInt_to_Spreadsheet\u001b[0m\u001b[0;34m(\u001b[0m\u001b[0;36m52\u001b[0m\u001b[0;34m)\u001b[0m\u001b[0;34m\u001b[0m\u001b[0m\n\u001b[0m",
      "\u001b[0;32m<ipython-input-217-f9db348743e4>\u001b[0m in \u001b[0;36mInt_to_Spreadsheet\u001b[0;34m(n)\u001b[0m\n\u001b[1;32m     42\u001b[0m         \u001b[0mseq\u001b[0m\u001b[0;34m[\u001b[0m\u001b[0mi\u001b[0m\u001b[0;34m]\u001b[0m \u001b[0;34m=\u001b[0m \u001b[0mD\u001b[0m\u001b[0;34m[\u001b[0m\u001b[0mrem\u001b[0m\u001b[0;34m]\u001b[0m\u001b[0;34m\u001b[0m\u001b[0m\n\u001b[1;32m     43\u001b[0m \u001b[0;34m\u001b[0m\u001b[0m\n\u001b[0;32m---> 44\u001b[0;31m     \u001b[0;32mreturn\u001b[0m \u001b[0;34m''\u001b[0m\u001b[0;34m.\u001b[0m\u001b[0mjoin\u001b[0m\u001b[0;34m(\u001b[0m\u001b[0mseq\u001b[0m\u001b[0;34m)\u001b[0m\u001b[0;34m\u001b[0m\u001b[0m\n\u001b[0m\u001b[1;32m     45\u001b[0m \u001b[0;34m\u001b[0m\u001b[0m\n\u001b[1;32m     46\u001b[0m \u001b[0;34m\u001b[0m\u001b[0m\n",
      "\u001b[0;31mTypeError\u001b[0m: sequence item 1: expected str instance, NoneType found"
     ]
    }
   ],
   "source": [
    "from math import floor, log\n",
    "\n",
    "def Int_to_Spreadsheet(n):\n",
    "    \n",
    "    ### compute int to char dictionary\n",
    "    alph = string.ascii_uppercase\n",
    "    D={}\n",
    "    for i in range(26):\n",
    "        D[i+1] = alph[i]\n",
    "\n",
    "    ### compute number of characters of output sequence\n",
    "    z = log(25*n+26, 26)\n",
    "    if z % 1 == 0:\n",
    "        k = int(z - 1)\n",
    "    else:\n",
    "        k = floor(z)\n",
    "\n",
    "    ### compute \"remainder\"\n",
    "    summ = int(((26**k) - 1)/25-1)\n",
    "    if summ+26**k == n:\n",
    "        return 'z'*k\n",
    "\n",
    "    else:\n",
    "        rem = n - summ\n",
    "        \n",
    "    i = 0\n",
    "    seq = [None]*k\n",
    "    print(k)\n",
    "    print(rem)\n",
    "    for l in range(k-1, 0, -1):\n",
    "        x = rem//26**l\n",
    "        seq[i] = D[x + 1]\n",
    "        i += 1\n",
    "        rem = rem -x*rem\n",
    "        \n",
    "        \n",
    "    print(seq)\n",
    "    \n",
    "    \n",
    "    ### get last char\n",
    "    if rem>0:\n",
    "        seq[i] = D[rem]\n",
    "        \n",
    "    return ''.join(seq)\n",
    "    \n",
    "\n",
    "Int_to_Spreadsheet(52)    \n",
    "\n"
   ]
  },
  {
   "cell_type": "code",
   "execution_count": 84,
   "metadata": {},
   "outputs": [
    {
     "name": "stdout",
     "output_type": "stream",
     "text": [
      "True\n",
      "True\n",
      "False\n"
     ]
    }
   ],
   "source": [
    "## TC: O(n), SC: O(1)\n",
    "def IsPal(s):  \n",
    "    \n",
    "    i, j = 0, len(s) - 1\n",
    "    \n",
    "    while i < j:\n",
    "        if s[i].isalnum() and s[j].isalnum():\n",
    "            if s[i].lower() == s[j].lower():\n",
    "                i += 1; j -= 1\n",
    "            else:\n",
    "                return False\n",
    "        elif s[i].isalnum() and not s[j].isalnum():\n",
    "            j -= 1\n",
    "        elif not s[i].isalnum() and s[j].isalnum():\n",
    "            i += 1\n",
    "        else:\n",
    "            i += 1; j -= 1\n",
    "            \n",
    "    return True\n",
    "\n",
    "print(IsPal('A man, a plan, a canal, Panama'))\n",
    "print(IsPal('Able was I, ere I saw Elba!'))\n",
    "print(IsPal('Ray a Ray'))"
   ]
  },
  {
   "cell_type": "code",
   "execution_count": 113,
   "metadata": {},
   "outputs": [
    {
     "data": {
      "text/plain": [
       "'Bob likes Alice'"
      ]
     },
     "execution_count": 113,
     "metadata": {},
     "output_type": "execute_result"
    }
   ],
   "source": [
    "### Assuming input comes as a string\n",
    "#TC: O(n), SC:O(n)\n",
    "def ReverseSent(sen):\n",
    "    A = sen.split() ##O(n) time, O(n) space\n",
    "    A.reverse() ##O(n) time, O(1) space (inplace)\n",
    "    return ' '.join(A) ##O(n) time, O(n) space (inplace)\n",
    "\n",
    "ReverseSent('Alice likes Bob')\n",
    "    "
   ]
  },
  {
   "cell_type": "code",
   "execution_count": 124,
   "metadata": {},
   "outputs": [
    {
     "data": {
      "text/plain": [
       "['B', 'o', 'b', ' ', 'l', 'i', 'k', 'e', 's', ' ', 'A', 'l', 'i', 'c', 'e']"
      ]
     },
     "execution_count": 124,
     "metadata": {},
     "output_type": "execute_result"
    }
   ],
   "source": [
    "### Assuming input comes as an array\n",
    "\n",
    "def ReverseIP(i,j,A):\n",
    "    while i<j:\n",
    "        A[i], A[j] = A[j], A[i]\n",
    "        i += 1; j -= 1\n",
    "\n",
    "def ReverseSent2(sen):\n",
    "    ## reverse inplace\n",
    "    sen.reverse()\n",
    "    \n",
    "    ### now reverse all words to get them into the right orientation\n",
    "    i = 0\n",
    "    for j in range(len(sen)):\n",
    "        if sen[j] == ' ':\n",
    "            ReverseIP(i,j-1,sen)\n",
    "            i = j+1\n",
    "            \n",
    "    ## reverse last word\n",
    "    ReverseIP(i,len(sen)-1,sen)\n",
    "            \n",
    "    return sen\n",
    "            \n",
    "ReverseSent2(list('Alice likes Bob'))  "
   ]
  },
  {
   "cell_type": "code",
   "execution_count": 44,
   "metadata": {},
   "outputs": [
    {
     "name": "stdout",
     "output_type": "stream",
     "text": [
      "['TTG1TWG', 'TTG1TWH', 'TTG1TWI', 'TTG1TXG', 'TTG1TXH', 'TTG1TXI', 'TTG1TYG', 'TTG1TYH', 'TTG1TYI', 'TTG1TZG', 'TTG1TZH', 'TTG1TZI', 'TTG1UWG', 'TTG1UWH', 'TTG1UWI', 'TTG1UXG', 'TTG1UXH', 'TTG1UXI', 'TTG1UYG', 'TTG1UYH', 'TTG1UYI', 'TTG1UZG', 'TTG1UZH', 'TTG1UZI', 'TTG1VWG', 'TTG1VWH', 'TTG1VWI', 'TTG1VXG', 'TTG1VXH', 'TTG1VXI', 'TTG1VYG', 'TTG1VYH', 'TTG1VYI', 'TTG1VZG', 'TTG1VZH', 'TTG1VZI', 'TTH1TWG', 'TTH1TWH', 'TTH1TWI', 'TTH1TXG', 'TTH1TXH', 'TTH1TXI', 'TTH1TYG', 'TTH1TYH', 'TTH1TYI', 'TTH1TZG', 'TTH1TZH', 'TTH1TZI', 'TTH1UWG', 'TTH1UWH', 'TTH1UWI', 'TTH1UXG', 'TTH1UXH', 'TTH1UXI', 'TTH1UYG', 'TTH1UYH', 'TTH1UYI', 'TTH1UZG', 'TTH1UZH', 'TTH1UZI', 'TTH1VWG', 'TTH1VWH', 'TTH1VWI', 'TTH1VXG', 'TTH1VXH', 'TTH1VXI', 'TTH1VYG', 'TTH1VYH', 'TTH1VYI', 'TTH1VZG', 'TTH1VZH', 'TTH1VZI', 'TTI1TWG', 'TTI1TWH', 'TTI1TWI', 'TTI1TXG', 'TTI1TXH', 'TTI1TXI', 'TTI1TYG', 'TTI1TYH', 'TTI1TYI', 'TTI1TZG', 'TTI1TZH', 'TTI1TZI', 'TTI1UWG', 'TTI1UWH', 'TTI1UWI', 'TTI1UXG', 'TTI1UXH', 'TTI1UXI', 'TTI1UYG', 'TTI1UYH', 'TTI1UYI', 'TTI1UZG', 'TTI1UZH', 'TTI1UZI', 'TTI1VWG', 'TTI1VWH', 'TTI1VWI', 'TTI1VXG', 'TTI1VXH', 'TTI1VXI', 'TTI1VYG', 'TTI1VYH', 'TTI1VYI', 'TTI1VZG', 'TTI1VZH', 'TTI1VZI', 'TUG1TWG', 'TUG1TWH', 'TUG1TWI', 'TUG1TXG', 'TUG1TXH', 'TUG1TXI', 'TUG1TYG', 'TUG1TYH', 'TUG1TYI', 'TUG1TZG', 'TUG1TZH', 'TUG1TZI', 'TUG1UWG', 'TUG1UWH', 'TUG1UWI', 'TUG1UXG', 'TUG1UXH', 'TUG1UXI', 'TUG1UYG', 'TUG1UYH', 'TUG1UYI', 'TUG1UZG', 'TUG1UZH', 'TUG1UZI', 'TUG1VWG', 'TUG1VWH', 'TUG1VWI', 'TUG1VXG', 'TUG1VXH', 'TUG1VXI', 'TUG1VYG', 'TUG1VYH', 'TUG1VYI', 'TUG1VZG', 'TUG1VZH', 'TUG1VZI', 'TUH1TWG', 'TUH1TWH', 'TUH1TWI', 'TUH1TXG', 'TUH1TXH', 'TUH1TXI', 'TUH1TYG', 'TUH1TYH', 'TUH1TYI', 'TUH1TZG', 'TUH1TZH', 'TUH1TZI', 'TUH1UWG', 'TUH1UWH', 'TUH1UWI', 'TUH1UXG', 'TUH1UXH', 'TUH1UXI', 'TUH1UYG', 'TUH1UYH', 'TUH1UYI', 'TUH1UZG', 'TUH1UZH', 'TUH1UZI', 'TUH1VWG', 'TUH1VWH', 'TUH1VWI', 'TUH1VXG', 'TUH1VXH', 'TUH1VXI', 'TUH1VYG', 'TUH1VYH', 'TUH1VYI', 'TUH1VZG', 'TUH1VZH', 'TUH1VZI', 'TUI1TWG', 'TUI1TWH', 'TUI1TWI', 'TUI1TXG', 'TUI1TXH', 'TUI1TXI', 'TUI1TYG', 'TUI1TYH', 'TUI1TYI', 'TUI1TZG', 'TUI1TZH', 'TUI1TZI', 'TUI1UWG', 'TUI1UWH', 'TUI1UWI', 'TUI1UXG', 'TUI1UXH', 'TUI1UXI', 'TUI1UYG', 'TUI1UYH', 'TUI1UYI', 'TUI1UZG', 'TUI1UZH', 'TUI1UZI', 'TUI1VWG', 'TUI1VWH', 'TUI1VWI', 'TUI1VXG', 'TUI1VXH', 'TUI1VXI', 'TUI1VYG', 'TUI1VYH', 'TUI1VYI', 'TUI1VZG', 'TUI1VZH', 'TUI1VZI', 'TVG1TWG', 'TVG1TWH', 'TVG1TWI', 'TVG1TXG', 'TVG1TXH', 'TVG1TXI', 'TVG1TYG', 'TVG1TYH', 'TVG1TYI', 'TVG1TZG', 'TVG1TZH', 'TVG1TZI', 'TVG1UWG', 'TVG1UWH', 'TVG1UWI', 'TVG1UXG', 'TVG1UXH', 'TVG1UXI', 'TVG1UYG', 'TVG1UYH', 'TVG1UYI', 'TVG1UZG', 'TVG1UZH', 'TVG1UZI', 'TVG1VWG', 'TVG1VWH', 'TVG1VWI', 'TVG1VXG', 'TVG1VXH', 'TVG1VXI', 'TVG1VYG', 'TVG1VYH', 'TVG1VYI', 'TVG1VZG', 'TVG1VZH', 'TVG1VZI', 'TVH1TWG', 'TVH1TWH', 'TVH1TWI', 'TVH1TXG', 'TVH1TXH', 'TVH1TXI', 'TVH1TYG', 'TVH1TYH', 'TVH1TYI', 'TVH1TZG', 'TVH1TZH', 'TVH1TZI', 'TVH1UWG', 'TVH1UWH', 'TVH1UWI', 'TVH1UXG', 'TVH1UXH', 'TVH1UXI', 'TVH1UYG', 'TVH1UYH', 'TVH1UYI', 'TVH1UZG', 'TVH1UZH', 'TVH1UZI', 'TVH1VWG', 'TVH1VWH', 'TVH1VWI', 'TVH1VXG', 'TVH1VXH', 'TVH1VXI', 'TVH1VYG', 'TVH1VYH', 'TVH1VYI', 'TVH1VZG', 'TVH1VZH', 'TVH1VZI', 'TVI1TWG', 'TVI1TWH', 'TVI1TWI', 'TVI1TXG', 'TVI1TXH', 'TVI1TXI', 'TVI1TYG', 'TVI1TYH', 'TVI1TYI', 'TVI1TZG', 'TVI1TZH', 'TVI1TZI', 'TVI1UWG', 'TVI1UWH', 'TVI1UWI', 'TVI1UXG', 'TVI1UXH', 'TVI1UXI', 'TVI1UYG', 'TVI1UYH', 'TVI1UYI', 'TVI1UZG', 'TVI1UZH', 'TVI1UZI', 'TVI1VWG', 'TVI1VWH', 'TVI1VWI', 'TVI1VXG', 'TVI1VXH', 'TVI1VXI', 'TVI1VYG', 'TVI1VYH', 'TVI1VYI', 'TVI1VZG', 'TVI1VZH', 'TVI1VZI', 'UTG1TWG', 'UTG1TWH', 'UTG1TWI', 'UTG1TXG', 'UTG1TXH', 'UTG1TXI', 'UTG1TYG', 'UTG1TYH', 'UTG1TYI', 'UTG1TZG', 'UTG1TZH', 'UTG1TZI', 'UTG1UWG', 'UTG1UWH', 'UTG1UWI', 'UTG1UXG', 'UTG1UXH', 'UTG1UXI', 'UTG1UYG', 'UTG1UYH', 'UTG1UYI', 'UTG1UZG', 'UTG1UZH', 'UTG1UZI', 'UTG1VWG', 'UTG1VWH', 'UTG1VWI', 'UTG1VXG', 'UTG1VXH', 'UTG1VXI', 'UTG1VYG', 'UTG1VYH', 'UTG1VYI', 'UTG1VZG', 'UTG1VZH', 'UTG1VZI', 'UTH1TWG', 'UTH1TWH', 'UTH1TWI', 'UTH1TXG', 'UTH1TXH', 'UTH1TXI', 'UTH1TYG', 'UTH1TYH', 'UTH1TYI', 'UTH1TZG', 'UTH1TZH', 'UTH1TZI', 'UTH1UWG', 'UTH1UWH', 'UTH1UWI', 'UTH1UXG', 'UTH1UXH', 'UTH1UXI', 'UTH1UYG', 'UTH1UYH', 'UTH1UYI', 'UTH1UZG', 'UTH1UZH', 'UTH1UZI', 'UTH1VWG', 'UTH1VWH', 'UTH1VWI', 'UTH1VXG', 'UTH1VXH', 'UTH1VXI', 'UTH1VYG', 'UTH1VYH', 'UTH1VYI', 'UTH1VZG', 'UTH1VZH', 'UTH1VZI', 'UTI1TWG', 'UTI1TWH', 'UTI1TWI', 'UTI1TXG', 'UTI1TXH', 'UTI1TXI', 'UTI1TYG', 'UTI1TYH', 'UTI1TYI', 'UTI1TZG', 'UTI1TZH', 'UTI1TZI', 'UTI1UWG', 'UTI1UWH', 'UTI1UWI', 'UTI1UXG', 'UTI1UXH', 'UTI1UXI', 'UTI1UYG', 'UTI1UYH', 'UTI1UYI', 'UTI1UZG', 'UTI1UZH', 'UTI1UZI', 'UTI1VWG', 'UTI1VWH', 'UTI1VWI', 'UTI1VXG', 'UTI1VXH', 'UTI1VXI', 'UTI1VYG', 'UTI1VYH', 'UTI1VYI', 'UTI1VZG', 'UTI1VZH', 'UTI1VZI', 'UUG1TWG', 'UUG1TWH', 'UUG1TWI', 'UUG1TXG', 'UUG1TXH', 'UUG1TXI', 'UUG1TYG', 'UUG1TYH', 'UUG1TYI', 'UUG1TZG', 'UUG1TZH', 'UUG1TZI', 'UUG1UWG', 'UUG1UWH', 'UUG1UWI', 'UUG1UXG', 'UUG1UXH', 'UUG1UXI', 'UUG1UYG', 'UUG1UYH', 'UUG1UYI', 'UUG1UZG', 'UUG1UZH', 'UUG1UZI', 'UUG1VWG', 'UUG1VWH', 'UUG1VWI', 'UUG1VXG', 'UUG1VXH', 'UUG1VXI', 'UUG1VYG', 'UUG1VYH', 'UUG1VYI', 'UUG1VZG', 'UUG1VZH', 'UUG1VZI', 'UUH1TWG', 'UUH1TWH', 'UUH1TWI', 'UUH1TXG', 'UUH1TXH', 'UUH1TXI', 'UUH1TYG', 'UUH1TYH', 'UUH1TYI', 'UUH1TZG', 'UUH1TZH', 'UUH1TZI', 'UUH1UWG', 'UUH1UWH', 'UUH1UWI', 'UUH1UXG', 'UUH1UXH', 'UUH1UXI', 'UUH1UYG', 'UUH1UYH', 'UUH1UYI', 'UUH1UZG', 'UUH1UZH', 'UUH1UZI', 'UUH1VWG', 'UUH1VWH', 'UUH1VWI', 'UUH1VXG', 'UUH1VXH', 'UUH1VXI', 'UUH1VYG', 'UUH1VYH', 'UUH1VYI', 'UUH1VZG', 'UUH1VZH', 'UUH1VZI', 'UUI1TWG', 'UUI1TWH', 'UUI1TWI', 'UUI1TXG', 'UUI1TXH', 'UUI1TXI', 'UUI1TYG', 'UUI1TYH', 'UUI1TYI', 'UUI1TZG', 'UUI1TZH', 'UUI1TZI', 'UUI1UWG', 'UUI1UWH', 'UUI1UWI', 'UUI1UXG', 'UUI1UXH', 'UUI1UXI', 'UUI1UYG', 'UUI1UYH', 'UUI1UYI', 'UUI1UZG', 'UUI1UZH', 'UUI1UZI', 'UUI1VWG', 'UUI1VWH', 'UUI1VWI', 'UUI1VXG', 'UUI1VXH', 'UUI1VXI', 'UUI1VYG', 'UUI1VYH', 'UUI1VYI', 'UUI1VZG', 'UUI1VZH', 'UUI1VZI', 'UVG1TWG', 'UVG1TWH', 'UVG1TWI', 'UVG1TXG', 'UVG1TXH', 'UVG1TXI', 'UVG1TYG', 'UVG1TYH', 'UVG1TYI', 'UVG1TZG', 'UVG1TZH', 'UVG1TZI', 'UVG1UWG', 'UVG1UWH', 'UVG1UWI', 'UVG1UXG', 'UVG1UXH', 'UVG1UXI', 'UVG1UYG', 'UVG1UYH', 'UVG1UYI', 'UVG1UZG', 'UVG1UZH', 'UVG1UZI', 'UVG1VWG', 'UVG1VWH', 'UVG1VWI', 'UVG1VXG', 'UVG1VXH', 'UVG1VXI', 'UVG1VYG', 'UVG1VYH', 'UVG1VYI', 'UVG1VZG', 'UVG1VZH', 'UVG1VZI', 'UVH1TWG', 'UVH1TWH', 'UVH1TWI', 'UVH1TXG', 'UVH1TXH', 'UVH1TXI', 'UVH1TYG', 'UVH1TYH', 'UVH1TYI', 'UVH1TZG', 'UVH1TZH', 'UVH1TZI', 'UVH1UWG', 'UVH1UWH', 'UVH1UWI', 'UVH1UXG', 'UVH1UXH', 'UVH1UXI', 'UVH1UYG', 'UVH1UYH', 'UVH1UYI', 'UVH1UZG', 'UVH1UZH', 'UVH1UZI', 'UVH1VWG', 'UVH1VWH', 'UVH1VWI', 'UVH1VXG', 'UVH1VXH', 'UVH1VXI', 'UVH1VYG', 'UVH1VYH', 'UVH1VYI', 'UVH1VZG', 'UVH1VZH', 'UVH1VZI', 'UVI1TWG', 'UVI1TWH', 'UVI1TWI', 'UVI1TXG', 'UVI1TXH', 'UVI1TXI', 'UVI1TYG', 'UVI1TYH', 'UVI1TYI', 'UVI1TZG', 'UVI1TZH', 'UVI1TZI', 'UVI1UWG', 'UVI1UWH', 'UVI1UWI', 'UVI1UXG', 'UVI1UXH', 'UVI1UXI', 'UVI1UYG', 'UVI1UYH', 'UVI1UYI', 'UVI1UZG', 'UVI1UZH', 'UVI1UZI', 'UVI1VWG', 'UVI1VWH', 'UVI1VWI', 'UVI1VXG', 'UVI1VXH', 'UVI1VXI', 'UVI1VYG', 'UVI1VYH', 'UVI1VYI', 'UVI1VZG', 'UVI1VZH', 'UVI1VZI', 'VTG1TWG', 'VTG1TWH', 'VTG1TWI', 'VTG1TXG', 'VTG1TXH', 'VTG1TXI', 'VTG1TYG', 'VTG1TYH', 'VTG1TYI', 'VTG1TZG', 'VTG1TZH', 'VTG1TZI', 'VTG1UWG', 'VTG1UWH', 'VTG1UWI', 'VTG1UXG', 'VTG1UXH', 'VTG1UXI', 'VTG1UYG', 'VTG1UYH', 'VTG1UYI', 'VTG1UZG', 'VTG1UZH', 'VTG1UZI', 'VTG1VWG', 'VTG1VWH', 'VTG1VWI', 'VTG1VXG', 'VTG1VXH', 'VTG1VXI', 'VTG1VYG', 'VTG1VYH', 'VTG1VYI', 'VTG1VZG', 'VTG1VZH', 'VTG1VZI', 'VTH1TWG', 'VTH1TWH', 'VTH1TWI', 'VTH1TXG', 'VTH1TXH', 'VTH1TXI', 'VTH1TYG', 'VTH1TYH', 'VTH1TYI', 'VTH1TZG', 'VTH1TZH', 'VTH1TZI', 'VTH1UWG', 'VTH1UWH', 'VTH1UWI', 'VTH1UXG', 'VTH1UXH', 'VTH1UXI', 'VTH1UYG', 'VTH1UYH', 'VTH1UYI', 'VTH1UZG', 'VTH1UZH', 'VTH1UZI', 'VTH1VWG', 'VTH1VWH', 'VTH1VWI', 'VTH1VXG', 'VTH1VXH', 'VTH1VXI', 'VTH1VYG', 'VTH1VYH', 'VTH1VYI', 'VTH1VZG', 'VTH1VZH', 'VTH1VZI', 'VTI1TWG', 'VTI1TWH', 'VTI1TWI', 'VTI1TXG', 'VTI1TXH', 'VTI1TXI', 'VTI1TYG', 'VTI1TYH', 'VTI1TYI', 'VTI1TZG', 'VTI1TZH', 'VTI1TZI', 'VTI1UWG', 'VTI1UWH', 'VTI1UWI', 'VTI1UXG', 'VTI1UXH', 'VTI1UXI', 'VTI1UYG', 'VTI1UYH', 'VTI1UYI', 'VTI1UZG', 'VTI1UZH', 'VTI1UZI', 'VTI1VWG', 'VTI1VWH', 'VTI1VWI', 'VTI1VXG', 'VTI1VXH', 'VTI1VXI', 'VTI1VYG', 'VTI1VYH', 'VTI1VYI', 'VTI1VZG', 'VTI1VZH', 'VTI1VZI', 'VUG1TWG', 'VUG1TWH', 'VUG1TWI', 'VUG1TXG', 'VUG1TXH', 'VUG1TXI', 'VUG1TYG', 'VUG1TYH', 'VUG1TYI', 'VUG1TZG', 'VUG1TZH', 'VUG1TZI', 'VUG1UWG', 'VUG1UWH', 'VUG1UWI', 'VUG1UXG', 'VUG1UXH', 'VUG1UXI', 'VUG1UYG', 'VUG1UYH', 'VUG1UYI', 'VUG1UZG', 'VUG1UZH', 'VUG1UZI', 'VUG1VWG', 'VUG1VWH', 'VUG1VWI', 'VUG1VXG', 'VUG1VXH', 'VUG1VXI', 'VUG1VYG', 'VUG1VYH', 'VUG1VYI', 'VUG1VZG', 'VUG1VZH', 'VUG1VZI', 'VUH1TWG', 'VUH1TWH', 'VUH1TWI', 'VUH1TXG', 'VUH1TXH', 'VUH1TXI', 'VUH1TYG', 'VUH1TYH', 'VUH1TYI', 'VUH1TZG', 'VUH1TZH', 'VUH1TZI', 'VUH1UWG', 'VUH1UWH', 'VUH1UWI', 'VUH1UXG', 'VUH1UXH', 'VUH1UXI', 'VUH1UYG', 'VUH1UYH', 'VUH1UYI', 'VUH1UZG', 'VUH1UZH', 'VUH1UZI', 'VUH1VWG', 'VUH1VWH', 'VUH1VWI', 'VUH1VXG', 'VUH1VXH', 'VUH1VXI', 'VUH1VYG', 'VUH1VYH', 'VUH1VYI', 'VUH1VZG', 'VUH1VZH', 'VUH1VZI', 'VUI1TWG', 'VUI1TWH', 'VUI1TWI', 'VUI1TXG', 'VUI1TXH', 'VUI1TXI', 'VUI1TYG', 'VUI1TYH', 'VUI1TYI', 'VUI1TZG', 'VUI1TZH', 'VUI1TZI', 'VUI1UWG', 'VUI1UWH', 'VUI1UWI', 'VUI1UXG', 'VUI1UXH', 'VUI1UXI', 'VUI1UYG', 'VUI1UYH', 'VUI1UYI', 'VUI1UZG', 'VUI1UZH', 'VUI1UZI', 'VUI1VWG', 'VUI1VWH', 'VUI1VWI', 'VUI1VXG', 'VUI1VXH', 'VUI1VXI', 'VUI1VYG', 'VUI1VYH', 'VUI1VYI', 'VUI1VZG', 'VUI1VZH', 'VUI1VZI', 'VVG1TWG', 'VVG1TWH', 'VVG1TWI', 'VVG1TXG', 'VVG1TXH', 'VVG1TXI', 'VVG1TYG', 'VVG1TYH', 'VVG1TYI', 'VVG1TZG', 'VVG1TZH', 'VVG1TZI', 'VVG1UWG', 'VVG1UWH', 'VVG1UWI', 'VVG1UXG', 'VVG1UXH', 'VVG1UXI', 'VVG1UYG', 'VVG1UYH', 'VVG1UYI', 'VVG1UZG', 'VVG1UZH', 'VVG1UZI', 'VVG1VWG', 'VVG1VWH', 'VVG1VWI', 'VVG1VXG', 'VVG1VXH', 'VVG1VXI', 'VVG1VYG', 'VVG1VYH', 'VVG1VYI', 'VVG1VZG', 'VVG1VZH', 'VVG1VZI', 'VVH1TWG', 'VVH1TWH', 'VVH1TWI', 'VVH1TXG', 'VVH1TXH', 'VVH1TXI', 'VVH1TYG', 'VVH1TYH', 'VVH1TYI', 'VVH1TZG', 'VVH1TZH', 'VVH1TZI', 'VVH1UWG', 'VVH1UWH', 'VVH1UWI', 'VVH1UXG', 'VVH1UXH', 'VVH1UXI', 'VVH1UYG', 'VVH1UYH', 'VVH1UYI', 'VVH1UZG', 'VVH1UZH', 'VVH1UZI', 'VVH1VWG', 'VVH1VWH', 'VVH1VWI', 'VVH1VXG', 'VVH1VXH', 'VVH1VXI', 'VVH1VYG', 'VVH1VYH', 'VVH1VYI', 'VVH1VZG', 'VVH1VZH', 'VVH1VZI', 'VVI1TWG', 'VVI1TWH', 'VVI1TWI', 'VVI1TXG', 'VVI1TXH', 'VVI1TXI', 'VVI1TYG', 'VVI1TYH', 'VVI1TYI', 'VVI1TZG', 'VVI1TZH', 'VVI1TZI', 'VVI1UWG', 'VVI1UWH', 'VVI1UWI', 'VVI1UXG', 'VVI1UXH', 'VVI1UXI', 'VVI1UYG', 'VVI1UYH', 'VVI1UYI', 'VVI1UZG', 'VVI1UZH', 'VVI1UZI', 'VVI1VWG', 'VVI1VWH', 'VVI1VWI', 'VVI1VXG', 'VVI1VXH', 'VVI1VXI', 'VVI1VYG', 'VVI1VYH', 'VVI1VYI', 'VVI1VZG', 'VVI1VZH', 'VVI1VZI']\n",
      "972\n"
     ]
    }
   ],
   "source": [
    "### SC: O(N) from call stack.  TC: T(n) = 4T(n-1)+C = O(4^n).  However, each base case takes O(n) \n",
    "### to copy the array to a string, and since there are 4^n base cases, the work is dominated by the \n",
    "### base O(n*4^n)\n",
    "\n",
    "phone_number = '8841894'\n",
    "sol = []\n",
    "allsols=[]\n",
    "D = {\n",
    "         '0':['0'], '1':['1'], '2':['A', 'B', 'C'], '3':['D', 'E', 'F'], '4':['G', 'H', 'I'], \n",
    "         '5':['J', 'K', 'L'], '6':['M', 'N', 'O'], '7':['P', 'Q', 'R', 'S'], \n",
    "         '8':['T', 'U', 'V'], '9':['W', 'X', 'Y', 'Z']\n",
    "        }\n",
    "def ComputeSeq(phone_number, i):\n",
    "    if i == len(phone_number):\n",
    "        allsols.append(\"\".join(sol))\n",
    "        return\n",
    "            \n",
    "    for dig in D[phone_number[i]]:\n",
    "        sol.append(dig)\n",
    "        ComputeSeq(phone_number, i+1)\n",
    "        sol.pop()\n",
    "        \n",
    "    return\n",
    "        \n",
    "ComputeSeq(phone_number, 0)\n",
    "print(allsols)\n",
    "print(len(allsols))"
   ]
  },
  {
   "cell_type": "code",
   "execution_count": 37,
   "metadata": {},
   "outputs": [
    {
     "name": "stdout",
     "output_type": "stream",
     "text": [
      "['TTG1TWG', 'TTG1TWH', 'TTG1TWI', 'TTG1TXG', 'TTG1TXH', 'TTG1TXI', 'TTG1TYG', 'TTG1TYH', 'TTG1TYI', 'TTG1TZG', 'TTG1TZH', 'TTG1TZI', 'TTG1UWG', 'TTG1UWH', 'TTG1UWI', 'TTG1UXG', 'TTG1UXH', 'TTG1UXI', 'TTG1UYG', 'TTG1UYH', 'TTG1UYI', 'TTG1UZG', 'TTG1UZH', 'TTG1UZI', 'TTG1VWG', 'TTG1VWH', 'TTG1VWI', 'TTG1VXG', 'TTG1VXH', 'TTG1VXI', 'TTG1VYG', 'TTG1VYH', 'TTG1VYI', 'TTG1VZG', 'TTG1VZH', 'TTG1VZI', 'TTH1TWG', 'TTH1TWH', 'TTH1TWI', 'TTH1TXG', 'TTH1TXH', 'TTH1TXI', 'TTH1TYG', 'TTH1TYH', 'TTH1TYI', 'TTH1TZG', 'TTH1TZH', 'TTH1TZI', 'TTH1UWG', 'TTH1UWH', 'TTH1UWI', 'TTH1UXG', 'TTH1UXH', 'TTH1UXI', 'TTH1UYG', 'TTH1UYH', 'TTH1UYI', 'TTH1UZG', 'TTH1UZH', 'TTH1UZI', 'TTH1VWG', 'TTH1VWH', 'TTH1VWI', 'TTH1VXG', 'TTH1VXH', 'TTH1VXI', 'TTH1VYG', 'TTH1VYH', 'TTH1VYI', 'TTH1VZG', 'TTH1VZH', 'TTH1VZI', 'TTI1TWG', 'TTI1TWH', 'TTI1TWI', 'TTI1TXG', 'TTI1TXH', 'TTI1TXI', 'TTI1TYG', 'TTI1TYH', 'TTI1TYI', 'TTI1TZG', 'TTI1TZH', 'TTI1TZI', 'TTI1UWG', 'TTI1UWH', 'TTI1UWI', 'TTI1UXG', 'TTI1UXH', 'TTI1UXI', 'TTI1UYG', 'TTI1UYH', 'TTI1UYI', 'TTI1UZG', 'TTI1UZH', 'TTI1UZI', 'TTI1VWG', 'TTI1VWH', 'TTI1VWI', 'TTI1VXG', 'TTI1VXH', 'TTI1VXI', 'TTI1VYG', 'TTI1VYH', 'TTI1VYI', 'TTI1VZG', 'TTI1VZH', 'TTI1VZI', 'TUG1TWG', 'TUG1TWH', 'TUG1TWI', 'TUG1TXG', 'TUG1TXH', 'TUG1TXI', 'TUG1TYG', 'TUG1TYH', 'TUG1TYI', 'TUG1TZG', 'TUG1TZH', 'TUG1TZI', 'TUG1UWG', 'TUG1UWH', 'TUG1UWI', 'TUG1UXG', 'TUG1UXH', 'TUG1UXI', 'TUG1UYG', 'TUG1UYH', 'TUG1UYI', 'TUG1UZG', 'TUG1UZH', 'TUG1UZI', 'TUG1VWG', 'TUG1VWH', 'TUG1VWI', 'TUG1VXG', 'TUG1VXH', 'TUG1VXI', 'TUG1VYG', 'TUG1VYH', 'TUG1VYI', 'TUG1VZG', 'TUG1VZH', 'TUG1VZI', 'TUH1TWG', 'TUH1TWH', 'TUH1TWI', 'TUH1TXG', 'TUH1TXH', 'TUH1TXI', 'TUH1TYG', 'TUH1TYH', 'TUH1TYI', 'TUH1TZG', 'TUH1TZH', 'TUH1TZI', 'TUH1UWG', 'TUH1UWH', 'TUH1UWI', 'TUH1UXG', 'TUH1UXH', 'TUH1UXI', 'TUH1UYG', 'TUH1UYH', 'TUH1UYI', 'TUH1UZG', 'TUH1UZH', 'TUH1UZI', 'TUH1VWG', 'TUH1VWH', 'TUH1VWI', 'TUH1VXG', 'TUH1VXH', 'TUH1VXI', 'TUH1VYG', 'TUH1VYH', 'TUH1VYI', 'TUH1VZG', 'TUH1VZH', 'TUH1VZI', 'TUI1TWG', 'TUI1TWH', 'TUI1TWI', 'TUI1TXG', 'TUI1TXH', 'TUI1TXI', 'TUI1TYG', 'TUI1TYH', 'TUI1TYI', 'TUI1TZG', 'TUI1TZH', 'TUI1TZI', 'TUI1UWG', 'TUI1UWH', 'TUI1UWI', 'TUI1UXG', 'TUI1UXH', 'TUI1UXI', 'TUI1UYG', 'TUI1UYH', 'TUI1UYI', 'TUI1UZG', 'TUI1UZH', 'TUI1UZI', 'TUI1VWG', 'TUI1VWH', 'TUI1VWI', 'TUI1VXG', 'TUI1VXH', 'TUI1VXI', 'TUI1VYG', 'TUI1VYH', 'TUI1VYI', 'TUI1VZG', 'TUI1VZH', 'TUI1VZI', 'TVG1TWG', 'TVG1TWH', 'TVG1TWI', 'TVG1TXG', 'TVG1TXH', 'TVG1TXI', 'TVG1TYG', 'TVG1TYH', 'TVG1TYI', 'TVG1TZG', 'TVG1TZH', 'TVG1TZI', 'TVG1UWG', 'TVG1UWH', 'TVG1UWI', 'TVG1UXG', 'TVG1UXH', 'TVG1UXI', 'TVG1UYG', 'TVG1UYH', 'TVG1UYI', 'TVG1UZG', 'TVG1UZH', 'TVG1UZI', 'TVG1VWG', 'TVG1VWH', 'TVG1VWI', 'TVG1VXG', 'TVG1VXH', 'TVG1VXI', 'TVG1VYG', 'TVG1VYH', 'TVG1VYI', 'TVG1VZG', 'TVG1VZH', 'TVG1VZI', 'TVH1TWG', 'TVH1TWH', 'TVH1TWI', 'TVH1TXG', 'TVH1TXH', 'TVH1TXI', 'TVH1TYG', 'TVH1TYH', 'TVH1TYI', 'TVH1TZG', 'TVH1TZH', 'TVH1TZI', 'TVH1UWG', 'TVH1UWH', 'TVH1UWI', 'TVH1UXG', 'TVH1UXH', 'TVH1UXI', 'TVH1UYG', 'TVH1UYH', 'TVH1UYI', 'TVH1UZG', 'TVH1UZH', 'TVH1UZI', 'TVH1VWG', 'TVH1VWH', 'TVH1VWI', 'TVH1VXG', 'TVH1VXH', 'TVH1VXI', 'TVH1VYG', 'TVH1VYH', 'TVH1VYI', 'TVH1VZG', 'TVH1VZH', 'TVH1VZI', 'TVI1TWG', 'TVI1TWH', 'TVI1TWI', 'TVI1TXG', 'TVI1TXH', 'TVI1TXI', 'TVI1TYG', 'TVI1TYH', 'TVI1TYI', 'TVI1TZG', 'TVI1TZH', 'TVI1TZI', 'TVI1UWG', 'TVI1UWH', 'TVI1UWI', 'TVI1UXG', 'TVI1UXH', 'TVI1UXI', 'TVI1UYG', 'TVI1UYH', 'TVI1UYI', 'TVI1UZG', 'TVI1UZH', 'TVI1UZI', 'TVI1VWG', 'TVI1VWH', 'TVI1VWI', 'TVI1VXG', 'TVI1VXH', 'TVI1VXI', 'TVI1VYG', 'TVI1VYH', 'TVI1VYI', 'TVI1VZG', 'TVI1VZH', 'TVI1VZI', 'UTG1TWG', 'UTG1TWH', 'UTG1TWI', 'UTG1TXG', 'UTG1TXH', 'UTG1TXI', 'UTG1TYG', 'UTG1TYH', 'UTG1TYI', 'UTG1TZG', 'UTG1TZH', 'UTG1TZI', 'UTG1UWG', 'UTG1UWH', 'UTG1UWI', 'UTG1UXG', 'UTG1UXH', 'UTG1UXI', 'UTG1UYG', 'UTG1UYH', 'UTG1UYI', 'UTG1UZG', 'UTG1UZH', 'UTG1UZI', 'UTG1VWG', 'UTG1VWH', 'UTG1VWI', 'UTG1VXG', 'UTG1VXH', 'UTG1VXI', 'UTG1VYG', 'UTG1VYH', 'UTG1VYI', 'UTG1VZG', 'UTG1VZH', 'UTG1VZI', 'UTH1TWG', 'UTH1TWH', 'UTH1TWI', 'UTH1TXG', 'UTH1TXH', 'UTH1TXI', 'UTH1TYG', 'UTH1TYH', 'UTH1TYI', 'UTH1TZG', 'UTH1TZH', 'UTH1TZI', 'UTH1UWG', 'UTH1UWH', 'UTH1UWI', 'UTH1UXG', 'UTH1UXH', 'UTH1UXI', 'UTH1UYG', 'UTH1UYH', 'UTH1UYI', 'UTH1UZG', 'UTH1UZH', 'UTH1UZI', 'UTH1VWG', 'UTH1VWH', 'UTH1VWI', 'UTH1VXG', 'UTH1VXH', 'UTH1VXI', 'UTH1VYG', 'UTH1VYH', 'UTH1VYI', 'UTH1VZG', 'UTH1VZH', 'UTH1VZI', 'UTI1TWG', 'UTI1TWH', 'UTI1TWI', 'UTI1TXG', 'UTI1TXH', 'UTI1TXI', 'UTI1TYG', 'UTI1TYH', 'UTI1TYI', 'UTI1TZG', 'UTI1TZH', 'UTI1TZI', 'UTI1UWG', 'UTI1UWH', 'UTI1UWI', 'UTI1UXG', 'UTI1UXH', 'UTI1UXI', 'UTI1UYG', 'UTI1UYH', 'UTI1UYI', 'UTI1UZG', 'UTI1UZH', 'UTI1UZI', 'UTI1VWG', 'UTI1VWH', 'UTI1VWI', 'UTI1VXG', 'UTI1VXH', 'UTI1VXI', 'UTI1VYG', 'UTI1VYH', 'UTI1VYI', 'UTI1VZG', 'UTI1VZH', 'UTI1VZI', 'UUG1TWG', 'UUG1TWH', 'UUG1TWI', 'UUG1TXG', 'UUG1TXH', 'UUG1TXI', 'UUG1TYG', 'UUG1TYH', 'UUG1TYI', 'UUG1TZG', 'UUG1TZH', 'UUG1TZI', 'UUG1UWG', 'UUG1UWH', 'UUG1UWI', 'UUG1UXG', 'UUG1UXH', 'UUG1UXI', 'UUG1UYG', 'UUG1UYH', 'UUG1UYI', 'UUG1UZG', 'UUG1UZH', 'UUG1UZI', 'UUG1VWG', 'UUG1VWH', 'UUG1VWI', 'UUG1VXG', 'UUG1VXH', 'UUG1VXI', 'UUG1VYG', 'UUG1VYH', 'UUG1VYI', 'UUG1VZG', 'UUG1VZH', 'UUG1VZI', 'UUH1TWG', 'UUH1TWH', 'UUH1TWI', 'UUH1TXG', 'UUH1TXH', 'UUH1TXI', 'UUH1TYG', 'UUH1TYH', 'UUH1TYI', 'UUH1TZG', 'UUH1TZH', 'UUH1TZI', 'UUH1UWG', 'UUH1UWH', 'UUH1UWI', 'UUH1UXG', 'UUH1UXH', 'UUH1UXI', 'UUH1UYG', 'UUH1UYH', 'UUH1UYI', 'UUH1UZG', 'UUH1UZH', 'UUH1UZI', 'UUH1VWG', 'UUH1VWH', 'UUH1VWI', 'UUH1VXG', 'UUH1VXH', 'UUH1VXI', 'UUH1VYG', 'UUH1VYH', 'UUH1VYI', 'UUH1VZG', 'UUH1VZH', 'UUH1VZI', 'UUI1TWG', 'UUI1TWH', 'UUI1TWI', 'UUI1TXG', 'UUI1TXH', 'UUI1TXI', 'UUI1TYG', 'UUI1TYH', 'UUI1TYI', 'UUI1TZG', 'UUI1TZH', 'UUI1TZI', 'UUI1UWG', 'UUI1UWH', 'UUI1UWI', 'UUI1UXG', 'UUI1UXH', 'UUI1UXI', 'UUI1UYG', 'UUI1UYH', 'UUI1UYI', 'UUI1UZG', 'UUI1UZH', 'UUI1UZI', 'UUI1VWG', 'UUI1VWH', 'UUI1VWI', 'UUI1VXG', 'UUI1VXH', 'UUI1VXI', 'UUI1VYG', 'UUI1VYH', 'UUI1VYI', 'UUI1VZG', 'UUI1VZH', 'UUI1VZI', 'UVG1TWG', 'UVG1TWH', 'UVG1TWI', 'UVG1TXG', 'UVG1TXH', 'UVG1TXI', 'UVG1TYG', 'UVG1TYH', 'UVG1TYI', 'UVG1TZG', 'UVG1TZH', 'UVG1TZI', 'UVG1UWG', 'UVG1UWH', 'UVG1UWI', 'UVG1UXG', 'UVG1UXH', 'UVG1UXI', 'UVG1UYG', 'UVG1UYH', 'UVG1UYI', 'UVG1UZG', 'UVG1UZH', 'UVG1UZI', 'UVG1VWG', 'UVG1VWH', 'UVG1VWI', 'UVG1VXG', 'UVG1VXH', 'UVG1VXI', 'UVG1VYG', 'UVG1VYH', 'UVG1VYI', 'UVG1VZG', 'UVG1VZH', 'UVG1VZI', 'UVH1TWG', 'UVH1TWH', 'UVH1TWI', 'UVH1TXG', 'UVH1TXH', 'UVH1TXI', 'UVH1TYG', 'UVH1TYH', 'UVH1TYI', 'UVH1TZG', 'UVH1TZH', 'UVH1TZI', 'UVH1UWG', 'UVH1UWH', 'UVH1UWI', 'UVH1UXG', 'UVH1UXH', 'UVH1UXI', 'UVH1UYG', 'UVH1UYH', 'UVH1UYI', 'UVH1UZG', 'UVH1UZH', 'UVH1UZI', 'UVH1VWG', 'UVH1VWH', 'UVH1VWI', 'UVH1VXG', 'UVH1VXH', 'UVH1VXI', 'UVH1VYG', 'UVH1VYH', 'UVH1VYI', 'UVH1VZG', 'UVH1VZH', 'UVH1VZI', 'UVI1TWG', 'UVI1TWH', 'UVI1TWI', 'UVI1TXG', 'UVI1TXH', 'UVI1TXI', 'UVI1TYG', 'UVI1TYH', 'UVI1TYI', 'UVI1TZG', 'UVI1TZH', 'UVI1TZI', 'UVI1UWG', 'UVI1UWH', 'UVI1UWI', 'UVI1UXG', 'UVI1UXH', 'UVI1UXI', 'UVI1UYG', 'UVI1UYH', 'UVI1UYI', 'UVI1UZG', 'UVI1UZH', 'UVI1UZI', 'UVI1VWG', 'UVI1VWH', 'UVI1VWI', 'UVI1VXG', 'UVI1VXH', 'UVI1VXI', 'UVI1VYG', 'UVI1VYH', 'UVI1VYI', 'UVI1VZG', 'UVI1VZH', 'UVI1VZI', 'VTG1TWG', 'VTG1TWH', 'VTG1TWI', 'VTG1TXG', 'VTG1TXH', 'VTG1TXI', 'VTG1TYG', 'VTG1TYH', 'VTG1TYI', 'VTG1TZG', 'VTG1TZH', 'VTG1TZI', 'VTG1UWG', 'VTG1UWH', 'VTG1UWI', 'VTG1UXG', 'VTG1UXH', 'VTG1UXI', 'VTG1UYG', 'VTG1UYH', 'VTG1UYI', 'VTG1UZG', 'VTG1UZH', 'VTG1UZI', 'VTG1VWG', 'VTG1VWH', 'VTG1VWI', 'VTG1VXG', 'VTG1VXH', 'VTG1VXI', 'VTG1VYG', 'VTG1VYH', 'VTG1VYI', 'VTG1VZG', 'VTG1VZH', 'VTG1VZI', 'VTH1TWG', 'VTH1TWH', 'VTH1TWI', 'VTH1TXG', 'VTH1TXH', 'VTH1TXI', 'VTH1TYG', 'VTH1TYH', 'VTH1TYI', 'VTH1TZG', 'VTH1TZH', 'VTH1TZI', 'VTH1UWG', 'VTH1UWH', 'VTH1UWI', 'VTH1UXG', 'VTH1UXH', 'VTH1UXI', 'VTH1UYG', 'VTH1UYH', 'VTH1UYI', 'VTH1UZG', 'VTH1UZH', 'VTH1UZI', 'VTH1VWG', 'VTH1VWH', 'VTH1VWI', 'VTH1VXG', 'VTH1VXH', 'VTH1VXI', 'VTH1VYG', 'VTH1VYH', 'VTH1VYI', 'VTH1VZG', 'VTH1VZH', 'VTH1VZI', 'VTI1TWG', 'VTI1TWH', 'VTI1TWI', 'VTI1TXG', 'VTI1TXH', 'VTI1TXI', 'VTI1TYG', 'VTI1TYH', 'VTI1TYI', 'VTI1TZG', 'VTI1TZH', 'VTI1TZI', 'VTI1UWG', 'VTI1UWH', 'VTI1UWI', 'VTI1UXG', 'VTI1UXH', 'VTI1UXI', 'VTI1UYG', 'VTI1UYH', 'VTI1UYI', 'VTI1UZG', 'VTI1UZH', 'VTI1UZI', 'VTI1VWG', 'VTI1VWH', 'VTI1VWI', 'VTI1VXG', 'VTI1VXH', 'VTI1VXI', 'VTI1VYG', 'VTI1VYH', 'VTI1VYI', 'VTI1VZG', 'VTI1VZH', 'VTI1VZI', 'VUG1TWG', 'VUG1TWH', 'VUG1TWI', 'VUG1TXG', 'VUG1TXH', 'VUG1TXI', 'VUG1TYG', 'VUG1TYH', 'VUG1TYI', 'VUG1TZG', 'VUG1TZH', 'VUG1TZI', 'VUG1UWG', 'VUG1UWH', 'VUG1UWI', 'VUG1UXG', 'VUG1UXH', 'VUG1UXI', 'VUG1UYG', 'VUG1UYH', 'VUG1UYI', 'VUG1UZG', 'VUG1UZH', 'VUG1UZI', 'VUG1VWG', 'VUG1VWH', 'VUG1VWI', 'VUG1VXG', 'VUG1VXH', 'VUG1VXI', 'VUG1VYG', 'VUG1VYH', 'VUG1VYI', 'VUG1VZG', 'VUG1VZH', 'VUG1VZI', 'VUH1TWG', 'VUH1TWH', 'VUH1TWI', 'VUH1TXG', 'VUH1TXH', 'VUH1TXI', 'VUH1TYG', 'VUH1TYH', 'VUH1TYI', 'VUH1TZG', 'VUH1TZH', 'VUH1TZI', 'VUH1UWG', 'VUH1UWH', 'VUH1UWI', 'VUH1UXG', 'VUH1UXH', 'VUH1UXI', 'VUH1UYG', 'VUH1UYH', 'VUH1UYI', 'VUH1UZG', 'VUH1UZH', 'VUH1UZI', 'VUH1VWG', 'VUH1VWH', 'VUH1VWI', 'VUH1VXG', 'VUH1VXH', 'VUH1VXI', 'VUH1VYG', 'VUH1VYH', 'VUH1VYI', 'VUH1VZG', 'VUH1VZH', 'VUH1VZI', 'VUI1TWG', 'VUI1TWH', 'VUI1TWI', 'VUI1TXG', 'VUI1TXH', 'VUI1TXI', 'VUI1TYG', 'VUI1TYH', 'VUI1TYI', 'VUI1TZG', 'VUI1TZH', 'VUI1TZI', 'VUI1UWG', 'VUI1UWH', 'VUI1UWI', 'VUI1UXG', 'VUI1UXH', 'VUI1UXI', 'VUI1UYG', 'VUI1UYH', 'VUI1UYI', 'VUI1UZG', 'VUI1UZH', 'VUI1UZI', 'VUI1VWG', 'VUI1VWH', 'VUI1VWI', 'VUI1VXG', 'VUI1VXH', 'VUI1VXI', 'VUI1VYG', 'VUI1VYH', 'VUI1VYI', 'VUI1VZG', 'VUI1VZH', 'VUI1VZI', 'VVG1TWG', 'VVG1TWH', 'VVG1TWI', 'VVG1TXG', 'VVG1TXH', 'VVG1TXI', 'VVG1TYG', 'VVG1TYH', 'VVG1TYI', 'VVG1TZG', 'VVG1TZH', 'VVG1TZI', 'VVG1UWG', 'VVG1UWH', 'VVG1UWI', 'VVG1UXG', 'VVG1UXH', 'VVG1UXI', 'VVG1UYG', 'VVG1UYH', 'VVG1UYI', 'VVG1UZG', 'VVG1UZH', 'VVG1UZI', 'VVG1VWG', 'VVG1VWH', 'VVG1VWI', 'VVG1VXG', 'VVG1VXH', 'VVG1VXI', 'VVG1VYG', 'VVG1VYH', 'VVG1VYI', 'VVG1VZG', 'VVG1VZH', 'VVG1VZI', 'VVH1TWG', 'VVH1TWH', 'VVH1TWI', 'VVH1TXG', 'VVH1TXH', 'VVH1TXI', 'VVH1TYG', 'VVH1TYH', 'VVH1TYI', 'VVH1TZG', 'VVH1TZH', 'VVH1TZI', 'VVH1UWG', 'VVH1UWH', 'VVH1UWI', 'VVH1UXG', 'VVH1UXH', 'VVH1UXI', 'VVH1UYG', 'VVH1UYH', 'VVH1UYI', 'VVH1UZG', 'VVH1UZH', 'VVH1UZI', 'VVH1VWG', 'VVH1VWH', 'VVH1VWI', 'VVH1VXG', 'VVH1VXH', 'VVH1VXI', 'VVH1VYG', 'VVH1VYH', 'VVH1VYI', 'VVH1VZG', 'VVH1VZH', 'VVH1VZI', 'VVI1TWG', 'VVI1TWH', 'VVI1TWI', 'VVI1TXG', 'VVI1TXH', 'VVI1TXI', 'VVI1TYG', 'VVI1TYH', 'VVI1TYI', 'VVI1TZG', 'VVI1TZH', 'VVI1TZI', 'VVI1UWG', 'VVI1UWH', 'VVI1UWI', 'VVI1UXG', 'VVI1UXH', 'VVI1UXI', 'VVI1UYG', 'VVI1UYH', 'VVI1UYI', 'VVI1UZG', 'VVI1UZH', 'VVI1UZI', 'VVI1VWG', 'VVI1VWH', 'VVI1VWI', 'VVI1VXG', 'VVI1VXH', 'VVI1VXI', 'VVI1VYG', 'VVI1VYH', 'VVI1VYI', 'VVI1VZG', 'VVI1VZH', 'VVI1VZI']\n",
      "972\n"
     ]
    }
   ],
   "source": [
    "### intuitively, we know that there are at most 4^n possible sequences, and the write to create each individual \n",
    "### sequence it would take O(n) time.  Therefore, the algo should run in something like O(n4^n) time.  I show this \n",
    "### rigorously by noting that the TC of this algo satisfies T(n) = T(n-1)+O(n4^n) which solves to O(n4^n).\n",
    "\n",
    "def PhoneSequences(phone_number):\n",
    "    phone = {\n",
    "             '0':['0'], '1':['1'], '2':['A', 'B', 'C'], '3':['D', 'E', 'F'], '4':['G', 'H', 'I'], \n",
    "             '5':['J', 'K', 'L'], '6':['M', 'N', 'O'], '7':['P', 'Q', 'R', 'S'], \n",
    "             '8':['T', 'U', 'V'], '9':['W', 'X', 'Y', 'Z']\n",
    "            }\n",
    "    \n",
    "    return PhoneSequencesRec(0, phone_number, phone)\n",
    "\n",
    " \n",
    "def PhoneSequencesRec(i, phone_number, phone):\n",
    "    if i == len(phone_number)-1:\n",
    "        return phone[phone_number[i]]\n",
    "    \n",
    "    postfixes = PhoneSequencesRec(i+1, phone_number, phone)\n",
    "    res = []\n",
    "    for char in phone[phone_number[i]]:\n",
    "        res = res + [char+x for x in postfixes]\n",
    "        \n",
    "    return res\n",
    "            \n",
    "print(PhoneSequences('8841894'))\n",
    "print(len(PhoneSequences('8841894')))"
   ]
  },
  {
   "cell_type": "code",
   "execution_count": 292,
   "metadata": {},
   "outputs": [
    {
     "name": "stdout",
     "output_type": "stream",
     "text": [
      "1\n",
      "11\n",
      "21\n",
      "1211\n",
      "111221\n"
     ]
    }
   ],
   "source": [
    "###\n",
    "\n",
    "def LookAndSay(n):\n",
    "    if n == 1:\n",
    "        return 1\n",
    "\n",
    "    prev = 1\n",
    "    for _ in range(n-1):\n",
    "\n",
    "        val = prev % 10\n",
    "        prev //= 10\n",
    "        cnt = 1\n",
    "        d = 0\n",
    "        new = 0\n",
    "\n",
    "        while prev > 0:\n",
    "            dig = prev % 10\n",
    "            prev //= 10\n",
    "            if dig == val:\n",
    "                cnt += 1\n",
    "            else:\n",
    "                new += cnt*(10**d); d += 1\n",
    "                new += val*(10**d); d += 1\n",
    "                val = dig; cnt = 1\n",
    "        new += cnt*(10**d); d += 1\n",
    "        new += val*(10**d); d += 1\n",
    "\n",
    "        prev = new\n",
    "\n",
    "\n",
    "    ### reverse digit\n",
    "    res = 0\n",
    "    while new > 0:\n",
    "        dig = new % 10\n",
    "        new //= 10\n",
    "        res = res*10 + dig\n",
    "        \n",
    "    return res\n",
    "    \n",
    "#1, 11, 21, 1211, 111221, 312211, 13112221, 1113213211  \n",
    "    \n",
    "print(LookAndSay(1))\n",
    "print(LookAndSay(2))\n",
    "print(LookAndSay(3))\n",
    "print(LookAndSay(4))\n",
    "print(LookAndSay(5))"
   ]
  },
  {
   "cell_type": "markdown",
   "metadata": {},
   "source": [
    "A simple analysis of the algorithm below shows that $T(n) \\le \\sum_{i=1}^n c \\left\\lVert L_i \\right\\rVert$, where $L_i$ denotes the $i^{th}$ looks and say number and $\\left\\lVert \\cdot \\right\\rVert$ denotes the number of digits of a number.  In the worst case, each digit of $L_i$ is unique, so that $\\left\\lVert L_i \\right\\rVert$ doubles each time, and thus $O(\\left\\lVert L_i \\right\\rVert) = 2^n$.  Therefore, $T(n) = O(n2^n)$.  In terms of space, if we want to quantify space in terms of the number of bits of the integers we need to save, the space complexity is $O(2^n)$.\n",
    "\n",
    "The algo below has the same time and space complexity, but is implemented using arrays."
   ]
  },
  {
   "cell_type": "code",
   "execution_count": 293,
   "metadata": {},
   "outputs": [
    {
     "name": "stdout",
     "output_type": "stream",
     "text": [
      "1\n",
      "11\n",
      "21\n",
      "1211\n",
      "111221\n"
     ]
    }
   ],
   "source": [
    "def LookAndSay2(n):\n",
    "\n",
    "    if n==1:\n",
    "        return 1\n",
    "\n",
    "    ### save each digit of the sequence in an array for easy manipulation\n",
    "    prev = [1]\n",
    "    for _ in range(n-1):\n",
    "        cnt = 1\n",
    "        val = prev[0]\n",
    "        curr = []\n",
    "\n",
    "        for i in range(1, len(prev)):\n",
    "            if prev[i] == val:\n",
    "                cnt += 1\n",
    "            else:\n",
    "                curr.append(cnt)\n",
    "                curr.append(val)\n",
    "                val = prev[i]\n",
    "                cnt = 1\n",
    "        curr.append(cnt)\n",
    "        curr.append(val)\n",
    "\n",
    "        prev = curr\n",
    "        \n",
    "    ### convert array to integer\n",
    "    k = 0\n",
    "    res = 0\n",
    "    j = len(curr) - 1\n",
    "    while j >= 0:\n",
    "        res += curr[j]*(10**k)\n",
    "        j -= 1\n",
    "        k += 1\n",
    "        \n",
    "    return res\n",
    "\n",
    "\n",
    "    \n",
    "\n",
    "#1, 11, 21, 1211, 111221, 312211, 13112221, 1113213211  \n",
    "print(LookAndSay2(1))\n",
    "print(LookAndSay2(2))\n",
    "print(LookAndSay2(3))\n",
    "print(LookAndSay2(4))\n",
    "print(LookAndSay2(5))"
   ]
  },
  {
   "cell_type": "code",
   "execution_count": 300,
   "metadata": {},
   "outputs": [
    {
     "name": "stdout",
     "output_type": "stream",
     "text": [
      "59\n",
      "59\n",
      "59\n",
      "513\n",
      "22\n",
      "1192\n"
     ]
    }
   ],
   "source": [
    "### TC: O(|s|), SC: O(1)\n",
    "def RomanToDec(s):\n",
    "\n",
    "    Vals = {'I':1, 'V':5, 'X':10, 'L':50, 'C':100, 'D':500, 'M':1000}\n",
    "    Excep = {'IV', 'IX', 'XL', 'XC', 'CD', 'CM'}\n",
    "\n",
    "    if len(s) == 1:\n",
    "        return Vals[s]\n",
    "\n",
    "    if len(s) == 2:\n",
    "        if s in Excep:\n",
    "            return Vals[s[1]] - Vals[s[0]]\n",
    "        else:\n",
    "            return Vals[s[1]] + Vals[s[0]]\n",
    "\n",
    "\n",
    "    curr = 1\n",
    "    dec = 0\n",
    "    while curr < len(s) - 2:\n",
    "        if s[curr-1:curr+1] not in Excep:\n",
    "            dec += Vals[s[curr-1]]\n",
    "            curr += 1\n",
    "        else:\n",
    "            dec += Vals[s[curr]] - Vals[s[curr-1]]\n",
    "            curr += 2\n",
    "\n",
    "\n",
    "    ### the ending is a bit tricky.  it can end in 3 different ways \n",
    "    if curr == len(s) - 2:\n",
    "            \n",
    "        if s[curr-1:curr+1] in Excep:\n",
    "            dec += Vals[s[curr]] - Vals[s[curr-1]]\n",
    "            dec += Vals[s[-1]]\n",
    "        else:\n",
    "            dec += Vals[s[curr-1]]\n",
    "            curr += 1\n",
    "            if s[curr-1:curr+1] in Excep:\n",
    "                dec += Vals[s[curr]] - Vals[s[curr-1]]\n",
    "            else:\n",
    "                dec += Vals[s[curr]] + Vals[s[curr-1]]\n",
    "        \n",
    "    else:\n",
    "        if s[curr-1:curr+1] in Excep:\n",
    "            dec += Vals[s[curr]] - Vals[s[curr-1]]\n",
    "        else:\n",
    "            dec += Vals[s[curr]] + Vals[s[curr-1]]\n",
    "\n",
    "\n",
    "\n",
    "    return dec\n",
    "\n",
    "\n",
    "print(RomanToDec('XXXXXIIIIIIIII'))\n",
    "print(RomanToDec('LVIIII'))\n",
    "print(RomanToDec('LIX'))\n",
    "\n",
    "\n",
    "\n",
    "print(RomanToDec('DXIII')) ## 513\n",
    "print(RomanToDec('XXII')) ## 22\n",
    "print(RomanToDec('MCXCII')) ## 1192\n",
    "\n",
    "        \n",
    "\n",
    "        \n",
    "\n",
    "        "
   ]
  },
  {
   "cell_type": "code",
   "execution_count": 313,
   "metadata": {},
   "outputs": [
    {
     "name": "stdout",
     "output_type": "stream",
     "text": [
      "True\n",
      "True\n",
      "True\n",
      "True\n",
      "True\n",
      "True\n",
      "---------\n",
      "False\n",
      "False\n",
      "False\n"
     ]
    }
   ],
   "source": [
    "from math import inf\n",
    "\n",
    "def IsValidRoman(s):\n",
    "\n",
    "    Vals = {'I':1, 'V':5, 'X':10, 'L':50, 'C':100, 'D':500, 'M':1000}\n",
    "    Excep = {'IV', 'IX', 'XL', 'XC', 'CD', 'CM'}\n",
    "\n",
    "\n",
    "    if s[0:2] in Excep:\n",
    "        max_val = Vals[s[0]]\n",
    "        if i <= len(s)-3:\n",
    "            if s[i+1:i+3] in Excep:\n",
    "                return False\n",
    "    else:\n",
    "        if Vals[s[1]] > Vals[s[0]]:\n",
    "            return False\n",
    "        else:\n",
    "            max_val = Vals[s[1]]\n",
    "            except_ind = - inf\n",
    "\n",
    "    for i in range(1, len(s)):\n",
    "\n",
    "        if s[i-1:i+1] not in Excep:\n",
    "            if Vals[s[i]] > max_val:\n",
    "                return False\n",
    "            else:\n",
    "                max_val = Vals[s[i]]\n",
    "\n",
    "        else:\n",
    "            if i <= len(s)-3:\n",
    "                if s[i+1:i+3] in Excep:\n",
    "                    return False\n",
    "\n",
    "    return True\n",
    "\n",
    "\n",
    "print(IsValidRoman('XXXXXIIIIIIIII'))\n",
    "print(IsValidRoman('LVIIII'))\n",
    "print(IsValidRoman('LIX'))\n",
    "print(IsValidRoman('DXIII')) \n",
    "print(IsValidRoman('XXII')) \n",
    "print(IsValidRoman('MCXCII')) \n",
    "print('---------')\n",
    "print(IsValidRoman('XXXXXICIIIIIIII'))\n",
    "print(IsValidRoman('LVIIIXIC'))\n",
    "print(IsValidRoman('LIXIX'))\n",
    "\n",
    "        \n",
    "    "
   ]
  },
  {
   "cell_type": "code",
   "execution_count": 327,
   "metadata": {},
   "outputs": [
    {
     "name": "stdout",
     "output_type": "stream",
     "text": [
      "0 1 2\n",
      "0 1 3\n",
      "0 1 4\n",
      "0 2 3\n",
      "0 2 4\n",
      "0 2 5\n",
      "0 3 4\n",
      "0 3 5\n",
      "0 3 6\n",
      "1 2 3\n",
      "1 2 4\n",
      "1 2 5\n",
      "1 3 4\n",
      "1 3 5\n",
      "1 3 6\n",
      "1 4 5\n",
      "1 4 6\n",
      "1 4 7\n"
     ]
    },
    {
     "ename": "ValueError",
     "evalue": "invalid literal for int() with base 10: '.28'",
     "output_type": "error",
     "traceback": [
      "\u001b[0;31m---------------------------------------------------------------------------\u001b[0m",
      "\u001b[0;31mValueError\u001b[0m                                Traceback (most recent call last)",
      "\u001b[0;32m<ipython-input-327-dea372472df4>\u001b[0m in \u001b[0;36m<module>\u001b[0;34m()\u001b[0m\n\u001b[1;32m     33\u001b[0m     \u001b[0;32mreturn\u001b[0m \u001b[0mvalid_IPs\u001b[0m\u001b[0;34m\u001b[0m\u001b[0m\n\u001b[1;32m     34\u001b[0m \u001b[0;34m\u001b[0m\u001b[0m\n\u001b[0;32m---> 35\u001b[0;31m \u001b[0mIsValidIP\u001b[0m\u001b[0;34m(\u001b[0m\u001b[0;34m'19.28.23.74'\u001b[0m\u001b[0;34m)\u001b[0m\u001b[0;34m\u001b[0m\u001b[0m\n\u001b[0m",
      "\u001b[0;32m<ipython-input-327-dea372472df4>\u001b[0m in \u001b[0;36mIsValidIP\u001b[0;34m(s)\u001b[0m\n\u001b[1;32m     21\u001b[0m                     \u001b[0;32mbreak\u001b[0m\u001b[0;34m\u001b[0m\u001b[0m\n\u001b[1;32m     22\u001b[0m                     \u001b[0mprint\u001b[0m\u001b[0;34m(\u001b[0m\u001b[0mfirst\u001b[0m\u001b[0;34m,\u001b[0m \u001b[0msecond\u001b[0m\u001b[0;34m,\u001b[0m \u001b[0mthird\u001b[0m\u001b[0;34m)\u001b[0m\u001b[0;34m\u001b[0m\u001b[0m\n\u001b[0;32m---> 23\u001b[0;31m                 \u001b[0;32melif\u001b[0m \u001b[0;36m0\u001b[0m \u001b[0;34m<=\u001b[0m \u001b[0mint\u001b[0m\u001b[0;34m(\u001b[0m\u001b[0ms\u001b[0m\u001b[0;34m[\u001b[0m\u001b[0;36m0\u001b[0m\u001b[0;34m:\u001b[0m\u001b[0mfirst\u001b[0m\u001b[0;34m+\u001b[0m\u001b[0;36m1\u001b[0m\u001b[0;34m]\u001b[0m\u001b[0;34m)\u001b[0m \u001b[0;34m<=\u001b[0m \u001b[0;36m255\u001b[0m \u001b[0;32mand\u001b[0m \u001b[0;36m0\u001b[0m \u001b[0;34m<=\u001b[0m \u001b[0mint\u001b[0m\u001b[0;34m(\u001b[0m\u001b[0ms\u001b[0m\u001b[0;34m[\u001b[0m\u001b[0mfirst\u001b[0m\u001b[0;34m+\u001b[0m\u001b[0;36m1\u001b[0m\u001b[0;34m:\u001b[0m\u001b[0msecond\u001b[0m\u001b[0;34m+\u001b[0m\u001b[0;36m1\u001b[0m\u001b[0;34m]\u001b[0m\u001b[0;34m)\u001b[0m \u001b[0;34m<=\u001b[0m \u001b[0;36m255\u001b[0m                 \u001b[0;32mand\u001b[0m \u001b[0;36m0\u001b[0m \u001b[0;34m<=\u001b[0m \u001b[0mint\u001b[0m\u001b[0;34m(\u001b[0m\u001b[0ms\u001b[0m\u001b[0;34m[\u001b[0m\u001b[0msecond\u001b[0m\u001b[0;34m+\u001b[0m\u001b[0;36m1\u001b[0m\u001b[0;34m:\u001b[0m\u001b[0mthird\u001b[0m\u001b[0;34m+\u001b[0m\u001b[0;36m1\u001b[0m\u001b[0;34m:\u001b[0m\u001b[0;34m]\u001b[0m\u001b[0;34m)\u001b[0m \u001b[0;34m<=\u001b[0m \u001b[0;36m255\u001b[0m \u001b[0;32mand\u001b[0m \u001b[0mint\u001b[0m\u001b[0;34m(\u001b[0m\u001b[0ms\u001b[0m\u001b[0;34m[\u001b[0m\u001b[0mthird\u001b[0m\u001b[0;34m+\u001b[0m\u001b[0;36m1\u001b[0m\u001b[0;34m:\u001b[0m\u001b[0;34m]\u001b[0m\u001b[0;34m)\u001b[0m\u001b[0;34m:\u001b[0m\u001b[0;34m\u001b[0m\u001b[0m\n\u001b[0m\u001b[1;32m     24\u001b[0m                     \u001b[0mip\u001b[0m \u001b[0;34m=\u001b[0m \u001b[0;34m[\u001b[0m\u001b[0;32mNone\u001b[0m\u001b[0;34m]\u001b[0m\u001b[0;34m*\u001b[0m\u001b[0;34m(\u001b[0m\u001b[0mn\u001b[0m\u001b[0;34m+\u001b[0m\u001b[0;36m3\u001b[0m\u001b[0;34m)\u001b[0m\u001b[0;34m\u001b[0m\u001b[0m\n\u001b[1;32m     25\u001b[0m                     \u001b[0mip\u001b[0m\u001b[0;34m[\u001b[0m\u001b[0;36m0\u001b[0m\u001b[0;34m:\u001b[0m\u001b[0mfirst\u001b[0m\u001b[0;34m+\u001b[0m\u001b[0;36m1\u001b[0m\u001b[0;34m]\u001b[0m \u001b[0;34m=\u001b[0m \u001b[0ms\u001b[0m\u001b[0;34m[\u001b[0m\u001b[0;36m0\u001b[0m\u001b[0;34m:\u001b[0m\u001b[0mfirst\u001b[0m\u001b[0;34m+\u001b[0m\u001b[0;36m1\u001b[0m\u001b[0;34m]\u001b[0m\u001b[0;34m\u001b[0m\u001b[0m\n",
      "\u001b[0;31mValueError\u001b[0m: invalid literal for int() with base 10: '.28'"
     ]
    }
   ],
   "source": [
    "\n",
    "\n",
    "def IsValidIP(s):\n",
    "    n = len(s)\n",
    "    \n",
    "    if not (4 <= n <= 12):\n",
    "        return False\n",
    "    \n",
    "    \n",
    "    valid_IPs = []\n",
    "   \n",
    "    for first in range(3):\n",
    "        for second in range(first+1, first+4):\n",
    "            if second >= n-2:\n",
    "                break\n",
    "            for third in range(second+1, second+4):\n",
    "                print(first, second, third)\n",
    "                if third <= n-5:\n",
    "                    continue\n",
    "                elif third > n - 1:\n",
    "                    break\n",
    "                    print(first, second, third)\n",
    "                elif 0 <= int(s[0:first+1]) <= 255 and 0 <= int(s[first+1:second+1]) <= 255 \\\n",
    "                and 0 <= int(s[second+1:third+1:]) <= 255 and int(s[third+1:]):\n",
    "                    ip = [None]*(n+3)\n",
    "                    ip[0:first+1] = s[0:first+1]\n",
    "                    ip[first+1] = '.'\n",
    "                    ip[first+2:second+2] = s[first+1:second+1]\n",
    "                    ip[second+2] = '.'\n",
    "                    ip[second+3] = s[third+1:]\n",
    "                    valid_IPs.append(ip)\n",
    "                else:\n",
    "                    continue\n",
    "    return valid_IPs\n",
    "\n",
    "IsValidIP('19.28.23.74')"
   ]
  },
  {
   "cell_type": "code",
   "execution_count": 329,
   "metadata": {},
   "outputs": [
    {
     "name": "stdout",
     "output_type": "stream",
     "text": [
      "e lHloWrdlo!\n"
     ]
    }
   ],
   "source": [
    "###TC: O(n), SC:O(n)\n",
    "def SnakeString(s):\n",
    "    res = [None]*len(s)\n",
    "    \n",
    "    j=0\n",
    "    i=1\n",
    "    while i <= len(s) - 1:\n",
    "        res[j] = s[i]\n",
    "        j += 1; i+=4\n",
    "    \n",
    "    i=0\n",
    "    while i <= len(s) - 1:\n",
    "        res[j] = s[i]\n",
    "        j += 1; i+=2\n",
    "    \n",
    "    i=3\n",
    "    while i <= len(s) - 1:\n",
    "        res[j] = s[i]\n",
    "        j += 1; i+=4\n",
    "        \n",
    "    return \"\".join(res)\n",
    "\n",
    "print(SnakeString(\"Hello World!\"))"
   ]
  },
  {
   "cell_type": "code",
   "execution_count": 48,
   "metadata": {},
   "outputs": [
    {
     "name": "stdout",
     "output_type": "stream",
     "text": [
      "1d1f2d1e2s2a1c1t2r\n",
      "errruuuueeeeqqa\n",
      "1e3r4u4e2q1a\n"
     ]
    }
   ],
   "source": [
    "### TC: O(n), SC:O(n)\n",
    "def Encode(s):\n",
    "\n",
    "    res = []\n",
    "    val = s[0]\n",
    "    cnt = 1\n",
    "    for i in range(1, len(s)):\n",
    "        if s[i] == val:\n",
    "            cnt += 1\n",
    "        else:\n",
    "            res.append(str(cnt))\n",
    "            res.append(val)\n",
    "            val = s[i]; cnt = 1\n",
    "            \n",
    "    res.append(str(cnt))\n",
    "    res.append(val)\n",
    "\n",
    "    return \"\".join(res)\n",
    "\n",
    "\n",
    "def Decode(s):\n",
    "    res = []\n",
    "    \n",
    "    for i in range(0, len(s)-1, 2):\n",
    "        for _ in range(int(s[i])):\n",
    "            res.append(s[i+1])\n",
    "    \n",
    "    return \"\".join(res)\n",
    "\n",
    "print(Encode('dfddessaactrr'))\n",
    "print(Decode('1e3r4u4e2q1a'))\n",
    "print(Encode(Decode('1e3r4u4e2q1a')))"
   ]
  }
 ],
 "metadata": {
  "kernelspec": {
   "display_name": "Python 3",
   "language": "python",
   "name": "python3"
  },
  "language_info": {
   "codemirror_mode": {
    "name": "ipython",
    "version": 3
   },
   "file_extension": ".py",
   "mimetype": "text/x-python",
   "name": "python",
   "nbconvert_exporter": "python",
   "pygments_lexer": "ipython3",
   "version": "3.6.5"
  }
 },
 "nbformat": 4,
 "nbformat_minor": 2
}
