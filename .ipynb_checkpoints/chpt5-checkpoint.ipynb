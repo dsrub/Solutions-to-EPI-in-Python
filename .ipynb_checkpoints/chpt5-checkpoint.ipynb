{
 "cells": [
  {
   "cell_type": "code",
   "execution_count": 3,
   "metadata": {},
   "outputs": [
    {
     "name": "stdout",
     "output_type": "stream",
     "text": [
      "[2, 4, 6, 8, 9, 7, 5, 3, 1]\n",
      "[8, 2, 6, 4, 5, 3, 7, 1, 9]\n",
      "[8, 2, 6, 4, 5, 7, 3, 9, 1]\n"
     ]
    }
   ],
   "source": [
    "## O(n) time, O(n) space\n",
    "def EvenFirst(A):\n",
    "    \n",
    "    B = [None]*len(A)\n",
    "    i, j = 0, len(A)-1\n",
    "    \n",
    "    for a in A:\n",
    "        if a%2 == 0:\n",
    "            B[i] = a\n",
    "            i += 1\n",
    "        else:\n",
    "            B[j] = a\n",
    "            j -= 1\n",
    "    \n",
    "    return B\n",
    "\n",
    "## O(n) time, O(1) space\n",
    "def EvenFirst2(A):\n",
    "    \n",
    "    i, j = 0, len(A)-1\n",
    "    while i<j:\n",
    "        if A[i] % 2 == 0 and A[j] %2 == 1:\n",
    "            i += 1; j -= 1\n",
    "        elif A[i] % 2 == 1 and A[j] %2 == 0:\n",
    "            A[i], A[j] = A[j], A[i]\n",
    "            i += 1; j -= 1\n",
    "        elif A[i] % 2 == 0 and A[j] %2 == 0:\n",
    "            i += 1\n",
    "        else:\n",
    "            j -= 1\n",
    "\n",
    "    return A\n",
    "\n",
    "\n",
    "## O(n) time, O(1) space (a little simplier than the algo above)\n",
    "def EvenFirst3(A):\n",
    "    \n",
    "    i, j = 0, len(A)\n",
    "    while i<j:\n",
    "        if A[i] % 2 == 0:\n",
    "            i += 1\n",
    "        else:\n",
    "            A[i], A[j-1] = A[j-1], A[i]\n",
    "            j -= 1\n",
    "\n",
    "    return A\n",
    "\n",
    "print(EvenFirst([1, 2, 3, 4, 5, 6, 7, 8, 9]))\n",
    "print(EvenFirst2([1, 2, 3, 4, 5, 6, 7, 8, 9]))\n",
    "print(EvenFirst3([1, 2, 3, 4, 5, 6, 7, 8, 9]))"
   ]
  },
  {
   "cell_type": "code",
   "execution_count": 5,
   "metadata": {},
   "outputs": [
    {
     "name": "stdout",
     "output_type": "stream",
     "text": [
      "[2, 1, 3, 3, 1, 4, 4, 4, 4, 6, 7]\n",
      "[2, 4, 1, 4, 4, 3, 3, 4, 1, 6, 7]\n",
      "[1, 1, 4, 6, 4, 4, 7, 3, 3, 4, 2]\n"
     ]
    }
   ],
   "source": [
    "# O(n) time O(1) space\n",
    "def Dutch_Flag(pivot_index, A):\n",
    "    \n",
    "    ###2 edge cases\n",
    "    if len(A) <=1 :\n",
    "        return None\n",
    "    \n",
    "    ### another quick edge case\n",
    "    if len(A) == 2:\n",
    "        P = A.pop(pivot_index)\n",
    "        other = A[0]\n",
    "        if other < P:\n",
    "            A = [other, P]\n",
    "            return None\n",
    "        else: \n",
    "            A = [P, other]\n",
    "            return None\n",
    "    \n",
    "    A[0], A[pivot_index] = A[pivot_index], A[0]\n",
    "    P = A[0]\n",
    "    i, j, k = -1, 0, 1\n",
    "    \n",
    "    while k <= len(A)-1:\n",
    "        if A[k] < P:\n",
    "            A[k], A[i+1] = A[i+1], A[k]\n",
    "            A[k], A[j+1] = A[j+1], A[k]\n",
    "            i += 1; j += 1; k += 1\n",
    "        elif A[k] == P:\n",
    "            A[j+1], A[k] = A[k], A[j+1]\n",
    "            j += 1; k += 1\n",
    "        else:\n",
    "            k += 1\n",
    "    \n",
    "    return None\n",
    "\n",
    "A = [1, 2, 4, 6, 4, 4, 7, 3, 3, 4, 1] \n",
    "Dutch_Flag(4, A)\n",
    "print(A)\n",
    "\n",
    "A = [1, 2, 4, 6, 4, 4, 7, 3, 3, 4, 1] \n",
    "Dutch_Flag(3, A)\n",
    "print(A)\n",
    "\n",
    "A = [1, 2, 4, 6, 4, 4, 7, 3, 3, 4, 1] \n",
    "Dutch_Flag(0, A)\n",
    "print(A)"
   ]
  },
  {
   "cell_type": "code",
   "execution_count": 17,
   "metadata": {},
   "outputs": [
    {
     "data": {
      "text/plain": [
       "[2, 2, 2, 2, 1, 1, 3, 3, 3, 3]"
      ]
     },
     "execution_count": 17,
     "metadata": {},
     "output_type": "execute_result"
    }
   ],
   "source": [
    "### TC: O(n), SC: O(1)\n",
    "def Partition3(A):\n",
    "    type3 = A[0]\n",
    "    type2 = None\n",
    "    type1 = None\n",
    "    i, j, k = -1, -1, 1\n",
    "    \n",
    "    while k <= len(A)-1:\n",
    "        \n",
    "        if type1 == None and type2 == None:\n",
    "            if A[k] == type3:\n",
    "                k+=1\n",
    "            else:\n",
    "                type2 = A[k]\n",
    "                A[j+1], A[k] = A[k], A[j+1] \n",
    "                j+=1; k+=1\n",
    "        elif type1 == None and type2 != None:\n",
    "                if A[k] == type3:\n",
    "                    k+=1\n",
    "                elif A[k] == type2:\n",
    "                    A[j+1], A[k] = A[k], A[j+1]\n",
    "                    j+=1; k+=1\n",
    "                else:\n",
    "                    type1 = A[k]\n",
    "                    A[i+1], A[k] = A[k], A[i+1]\n",
    "                    A[j+1], A[k] = A[k], A[j+1] \n",
    "                    i+=1; j+=1; k+=1\n",
    "        else:\n",
    "            if A[k] == type3:\n",
    "                k+=1\n",
    "            elif A[k] == type2:\n",
    "                A[j+1], A[k] = A[k], A[j+1]\n",
    "                j+=1; k+=1\n",
    "            else:\n",
    "                A[i+1], A[k] = A[k], A[i+1]\n",
    "                A[j+1], A[k] = A[k], A[j+1]\n",
    "                i+=1; j+=1; k+=1\n",
    "         \n",
    "    return A\n",
    "\n",
    "Partition3([3, 1, 2, 3, 2, 3, 1, 2, 2, 3])"
   ]
  },
  {
   "cell_type": "code",
   "execution_count": 20,
   "metadata": {},
   "outputs": [
    {
     "data": {
      "text/plain": [
       "[False, False, False, False, True, True, True, True]"
      ]
     },
     "execution_count": 20,
     "metadata": {},
     "output_type": "execute_result"
    }
   ],
   "source": [
    "### TC: O(n), SC: O(1)\n",
    "def PartitionBool(A):\n",
    "    \n",
    "    i, j = 0, len(A)-1\n",
    "    while i<j:\n",
    "        if not A[i] and A[j]:\n",
    "            i += 1; j -= 1\n",
    "        elif A[i] and not A[j]:\n",
    "            A[i], A[j] = A[j], A[i]\n",
    "            i += 1; j -= 1\n",
    "        elif A[i] and A[j]:\n",
    "            j -= 1\n",
    "        else:\n",
    "            i += 1\n",
    "\n",
    "    return A\n",
    "\n",
    "PartitionBool([True, False, True, True, False, False, False, True])"
   ]
  },
  {
   "cell_type": "code",
   "execution_count": 26,
   "metadata": {},
   "outputs": [
    {
     "data": {
      "text/plain": [
       "[(False, 2),\n",
       " (False, 1),\n",
       " (False, 3),\n",
       " (False, 4),\n",
       " (True, 1),\n",
       " (True, 2),\n",
       " (True, 3),\n",
       " (True, 4)]"
      ]
     },
     "execution_count": 26,
     "metadata": {},
     "output_type": "execute_result"
    }
   ],
   "source": [
    "### TC: O(n), SC: O(1)\n",
    "def PartitionBool2(A):\n",
    "    \n",
    "    ### find last True and put at end of array (at most 1 full pass)\n",
    "    k = len(A) - 1\n",
    "    while A[k][0] != True and k>=0:\n",
    "        k -= 1\n",
    "    \n",
    "    ### edge case of no Trues\n",
    "    if k == -1:\n",
    "        return A\n",
    "    \n",
    "    ### swap with last\n",
    "    A[k], A[len(A) - 1] = A[len(A) - 1], A[k]\n",
    "    \n",
    "    \n",
    "    last_true = len(A) - 1\n",
    "    i = len(A) - 2\n",
    "    \n",
    "    ### if False, move on, if True, swap with last true and increment last_true and i\n",
    "    while i >=0 :\n",
    "        if A[i][0] == True:\n",
    "            A[i], A[last_true - 1] = A[last_true - 1], A[i]\n",
    "            last_true -= 1\n",
    "            i -= 1\n",
    "        else:\n",
    "            i -= 1\n",
    "        \n",
    "\n",
    "\n",
    "    return A\n",
    "\n",
    "PartitionBool2([(True, 1), (False, 1), (True, 2), (True, 3), (False, 2), (False, 3), (False, 4), (True, 4)])"
   ]
  },
  {
   "cell_type": "code",
   "execution_count": 8,
   "metadata": {},
   "outputs": [
    {
     "data": {
      "text/plain": [
       "[(False, 2),\n",
       " (False, 1),\n",
       " (False, 3),\n",
       " (False, 4),\n",
       " (True, 1),\n",
       " (True, 2),\n",
       " (True, 3),\n",
       " (True, 4)]"
      ]
     },
     "execution_count": 8,
     "metadata": {},
     "output_type": "execute_result"
    }
   ],
   "source": [
    "### a more simple solution\n",
    "\n",
    "### TC: O(n), SC: O(1)\n",
    "def PartitionBool3(A):\n",
    "\n",
    "    i, j = len(A), len(A)-1\n",
    "    while j>=0:\n",
    "        if A[j][0] == True:\n",
    "            A[i-1], A[j] = A[j], A[i-1]\n",
    "            j -= 1; i -= 1\n",
    "        else:\n",
    "            j -= 1\n",
    "            \n",
    "            \n",
    "    return A\n",
    "        \n",
    "        \n",
    "PartitionBool3([(True, 1), (False, 1), (True, 2), (True, 3), (False, 2), (False, 3), (False, 4), (True, 4)])    "
   ]
  },
  {
   "cell_type": "code",
   "execution_count": 36,
   "metadata": {},
   "outputs": [
    {
     "name": "stdout",
     "output_type": "stream",
     "text": [
      "[1, 3, 0]\n",
      "[1, 2, 4]\n",
      "[1, 0, 0, 0]\n"
     ]
    }
   ],
   "source": [
    "### TC: O(n), SC: O(1)\n",
    "def AddinArray(A):\n",
    "\n",
    "    i = len(A)-1\n",
    "    while A[i] == 9 and i >= 0:\n",
    "        A[i] = 0\n",
    "        i -= 1\n",
    "\n",
    "    if i>=0:\n",
    "        A[i] += 1\n",
    "\n",
    "    if i == -1:\n",
    "        A.insert(0, 1)\n",
    "        \n",
    "    return A\n",
    "\n",
    "print(AddinArray([1, 2, 9]))\n",
    "print(AddinArray([1, 2, 3]))\n",
    "print(AddinArray([9, 9, 9]))"
   ]
  },
  {
   "cell_type": "code",
   "execution_count": 428,
   "metadata": {},
   "outputs": [
    {
     "name": "stdout",
     "output_type": "stream",
     "text": [
      "[1, 1, 1, 1, 1, 0]\n",
      "[1, 1, 0, 1, 0, 1, 0, 0]\n"
     ]
    }
   ],
   "source": [
    "#TC: O(max(|A|, |B|)), SC: O(max(|A|, |B|))\n",
    "\n",
    "def AddBinaryArrs(A, B):\n",
    "    if len(B)>len(A):\n",
    "        A, B = B, A\n",
    "    \n",
    "    output = [0]*(len(A)+1)\n",
    "\n",
    "    carry = 0\n",
    "\n",
    "    i = len(A)-1\n",
    "    j = len(B)-1\n",
    "    k = len(output)-1\n",
    "   \n",
    "    while j >=0 :\n",
    "        if A[i] + B[j] + carry == 0:\n",
    "            output[k] = 0\n",
    "            carry = 0\n",
    "            i -= 1; j -= 1; k -= 1\n",
    "        elif A[i] + B[j] + carry == 1:\n",
    "            output[k] = 1\n",
    "            carry = 0\n",
    "            i -= 1; j -= 1; k -= 1\n",
    "        elif A[i] + B[j] + carry == 2:\n",
    "            output[k] = 0\n",
    "            carry = 1\n",
    "            i -= 1; j -= 1; k -= 1\n",
    "        else:\n",
    "            output[k] = 1\n",
    "            carry = 1\n",
    "            i -= 1; j -= 1; k -= 1\n",
    "    \n",
    "    while i >= 0:\n",
    "        if A[i] + carry == 0:\n",
    "            output[k] = 0\n",
    "            carry = 0\n",
    "            i -= 1; k -= 1\n",
    "        elif A[i] + carry == 1:\n",
    "            output[k] = 1\n",
    "            carry = 0\n",
    "            i -= 1; k -= 1\n",
    "        else:\n",
    "            output[k] = 0\n",
    "            carry = 1\n",
    "            i -= 1; k -= 1\n",
    "\n",
    "    \n",
    "    ### edge case if carry all the way at beginning is 1\n",
    "    if carry == 1:\n",
    "        output[0] = 1\n",
    "        \n",
    "    if output[0] == 0:\n",
    "        output.pop(0)\n",
    "        \n",
    "    return output\n",
    "    \n",
    "    \n",
    "print(AddBinaryArrs([1, 0, 0, 1], [1, 1, 0, 1, 0, 1]))\n",
    "print(AddBinaryArrs([1, 0, 1, 1, 0, 1, 1], [1, 1, 1, 1, 0, 0, 1]))"
   ]
  },
  {
   "cell_type": "code",
   "execution_count": 11,
   "metadata": {},
   "outputs": [
    {
     "data": {
      "text/plain": [
       "[8, 17, 10, 1]"
      ]
     },
     "execution_count": 11,
     "metadata": {},
     "output_type": "execute_result"
    }
   ],
   "source": [
    "def MultiplyDigs(A, B):\n",
    "    if len(B)>len(A):\n",
    "        A, B = B, A\n",
    "    \n",
    "    ### size of output is at most the total number of digits\n",
    "    output = [0]*(len(A)+len(B))\n",
    "    \n",
    "    carry = 0\n",
    "    k = 0\n",
    "    output_ind = len(output) - 1\n",
    "    i = len(B) - 1\n",
    "    \n",
    "    while i >= 0:\n",
    "        j = len(A) - 1\n",
    "        while j >= 0:\n",
    "            output[output_ind] += (A[j]*B[i] + carry) % 10\n",
    "            carry = (A[j]*B[i] + carry) // 10\n",
    "            j -= 1; output_ind -=1 \n",
    "\n",
    "        if carry > 0:\n",
    "            output[output_ind] = carry\n",
    "        \n",
    "        carry = 0; i -= 1; k += 1; \n",
    "        output_ind = len(output) - 1 - k\n",
    "        \n",
    "\n",
    "        \n",
    "    return output\n",
    "\n",
    "MultiplyDigs([9, 9], [9, 9])"
   ]
  },
  {
   "cell_type": "code",
   "execution_count": 433,
   "metadata": {},
   "outputs": [
    {
     "name": "stdout",
     "output_type": "stream",
     "text": [
      "True\n",
      "False\n"
     ]
    }
   ],
   "source": [
    "### DP solution\n",
    "###TC: O(nm), SC: O(n), where m is the max value in the array\n",
    "def IsPoss(A):\n",
    "    return IsPossRec(A, 0, {})\n",
    "    \n",
    "def IsPossRec(A, i, memo):\n",
    "    \n",
    "    if i in memo:\n",
    "        return memo[i]\n",
    "   \n",
    "    if i == len(A) - 1:\n",
    "        return True\n",
    "    \n",
    "    if i < len(A) - 1 and A[i] == 0:\n",
    "        return False\n",
    "    \n",
    "    res = False\n",
    "    cnt = 0\n",
    "    for k in range(1, A[i]+1):\n",
    "        if i+k<=len(A) - 1:\n",
    "            cnt +=1 \n",
    "            res = res or IsPossRec(A, i+k, memo)\n",
    "        \n",
    "    if cnt == 0:\n",
    "        memo[i] = False\n",
    "        return False\n",
    "    else:\n",
    "        memo[i] = res\n",
    "        return res\n",
    "    \n",
    "\n",
    "\n",
    "print(IsPoss([3, 3, 1, 0, 2, 0, 1]))\n",
    "print(IsPoss([3, 2, 0, 0, 2, 0, 1]))"
   ]
  },
  {
   "cell_type": "code",
   "execution_count": 436,
   "metadata": {},
   "outputs": [
    {
     "name": "stdout",
     "output_type": "stream",
     "text": [
      "3\n",
      "inf\n"
     ]
    }
   ],
   "source": [
    "### DP solution\n",
    "###TC: O(nm), SC: O(n), where m is the max value in the array\n",
    "def MinSteps(A):\n",
    "    return MinStepsRec(A, 0, {})\n",
    "    \n",
    "def MinStepsRec(A, i, memo):\n",
    "    \n",
    "    if i in memo:\n",
    "        return memo[i]\n",
    "   \n",
    "    if i == len(A) - 1:\n",
    "        return 0\n",
    "    \n",
    "    if i < len(A) - 1 and A[i] == 0:\n",
    "        return inf\n",
    "    \n",
    "    curr_min = inf\n",
    "    cnt = 0\n",
    "    for k in range(1, A[i]+1):\n",
    "        if i+k<=len(A) - 1:\n",
    "            cnt +=1 \n",
    "            curr_min = min(curr_min, MinStepsRec(A, i+k, memo)+1)\n",
    "        \n",
    "    if cnt == 0:\n",
    "        memo[i] = inf\n",
    "        return inf\n",
    "    else:\n",
    "        memo[i] = curr_min\n",
    "        return curr_min\n",
    "    \n",
    "\n",
    "\n",
    "print(MinSteps([3, 3, 1, 0, 2, 0, 1]))\n",
    "print(MinSteps([3, 2, 0, 0, 2, 0, 1]))"
   ]
  },
  {
   "cell_type": "code",
   "execution_count": null,
   "metadata": {},
   "outputs": [],
   "source": []
  },
  {
   "cell_type": "code",
   "execution_count": 443,
   "metadata": {},
   "outputs": [
    {
     "name": "stdout",
     "output_type": "stream",
     "text": [
      "[2, 3, 5, 7, 11, 13, 0, 0, 0]\n",
      "[2, 3, 5, 7, 11, 13, 0, 0, 0, 0, 0, 0, 0, 0]\n"
     ]
    }
   ],
   "source": [
    "###TC: O(n), SC:O(1)\n",
    "def RemDups(A):\n",
    "    update_ind = 1\n",
    "    val=A[0]\n",
    "    \n",
    "    for i in range(1, len(A)):\n",
    "        if A[i] != val:\n",
    "            A[update_ind]=A[i]\n",
    "            update_ind += 1\n",
    "            val = A[i]\n",
    "    \n",
    "    for i in range(update_ind, len(A)):\n",
    "        A[i] = 0\n",
    "    return A\n",
    "        \n",
    "\n",
    "print(RemDups([2, 3, 5, 5, 7, 11, 11, 11, 13]))\n",
    "print(RemDups([2, 2, 2, 3, 5, 5, 7, 7, 11, 11, 11, 13, 13, 13]))"
   ]
  },
  {
   "cell_type": "code",
   "execution_count": 148,
   "metadata": {},
   "outputs": [
    {
     "name": "stdout",
     "output_type": "stream",
     "text": [
      "([5, 2, 4, 6, 0, 0, 0, 0, 0, 0, 0], 4)\n",
      "([1, 2, 3, 4, 5, 0], 5)\n"
     ]
    }
   ],
   "source": [
    "#TC: O(n), SC:O(1))\n",
    "def RemKey(A, key):\n",
    "    update_ind = 0\n",
    "    cnt=0\n",
    "    for i in range(0, len(A)):\n",
    "        if A[i] != key:\n",
    "            A[update_ind] = A[i]\n",
    "            update_ind += 1\n",
    "            cnt += 1\n",
    "    for i in range(cnt, len(A)):\n",
    "        A[i] = 0\n",
    "   \n",
    "    return (A, cnt)\n",
    "print(RemKey([3, 5, 3, 3, 2, 3, 4, 6, 3, 3, 3], 3))\n",
    "print(RemKey([1, 2, 3, 4, 5, 6], 6))"
   ]
  },
  {
   "cell_type": "code",
   "execution_count": 12,
   "metadata": {},
   "outputs": [
    {
     "name": "stdout",
     "output_type": "stream",
     "text": [
      "(30, 4, 6)\n",
      "30\n",
      "(30, 4, 6)\n"
     ]
    }
   ],
   "source": [
    "from math import inf\n",
    "\n",
    "### TC: O(n^2), SC: O(1)\n",
    "def BuyStock1(P):\n",
    "    max_profit = - inf\n",
    "    for i in range(len(P)-1):\n",
    "        for j in range(i+1, len(P)):\n",
    "            profit = P[j] - P[i]\n",
    "            if profit > max_profit:\n",
    "                max_profit = profit\n",
    "                buy_date = i\n",
    "                sell_date = j\n",
    "    return (max_profit, buy_date, sell_date)\n",
    "\n",
    "### TC: O(nlogn), SC: O(log n)\n",
    "def BuyStock2(P, i, j):\n",
    "    if i+1 == j:\n",
    "        return max(0, P[j]-P[i])\n",
    "    if i == j:\n",
    "        return 0\n",
    "    \n",
    "    mid = (i+j)//2\n",
    "    curr_min = inf\n",
    "    for k in range(i, mid+1):\n",
    "        curr_min = min(P[k], curr_min)\n",
    "    \n",
    "    curr_max = -inf\n",
    "    for k in range(mid+1, j+1):\n",
    "        curr_max = max(P[k], curr_max)\n",
    "        \n",
    "    return max(BuyStock2(P, i, mid), BuyStock2(P, mid+1, j), curr_max-curr_min)\n",
    "\n",
    "### TC: O(n), SC: O(1)\n",
    "def BuyStock3(P):\n",
    "    curr_min = P[0]\n",
    "    curr_min_ind = 0\n",
    "    curr_max_profit = -inf\n",
    "    \n",
    "    for i in range(1, len(P)):\n",
    "        if P[i] - curr_min > curr_max_profit:\n",
    "            curr_max_profit = P[i] - curr_min\n",
    "            buy_date = curr_min_ind\n",
    "            sell_date = i\n",
    "        if P[i] < curr_min:\n",
    "            curr_min = P[i]\n",
    "            curr_min_ind = i\n",
    "    return (curr_max_profit, buy_date, sell_date)\n",
    "            \n",
    "            \n",
    "\n",
    "P = [310, 315, 275, 295, 260, 270, 290,230,255,250]   \n",
    "print(BuyStock1(P))\n",
    "print(BuyStock2(P, 0, len(P)-1))\n",
    "print(BuyStock3(P))"
   ]
  },
  {
   "cell_type": "code",
   "execution_count": 16,
   "metadata": {},
   "outputs": [
    {
     "name": "stdout",
     "output_type": "stream",
     "text": [
      "2\n",
      "4\n",
      "3\n",
      "4\n"
     ]
    }
   ],
   "source": [
    "##TC: O(n), SC: O(1) \n",
    "def LongestSubArr(A):\n",
    "    val = A[0]\n",
    "    max_len = 1\n",
    "    curr_len = 1\n",
    "    for i in range(1, len(A)):\n",
    "        if A[i] == val:\n",
    "            curr_len += 1\n",
    "            max_len = max(curr_len, max_len)\n",
    "        else:\n",
    "            val = A[i]\n",
    "            curr_len = 1\n",
    "            \n",
    "    return max_len\n",
    "            \n",
    "print(LongestSubArr([1, 2, 3, 4, 5, 6, 7, 7]) )    \n",
    "print(LongestSubArr([1, 2, 3, 3, 3, 3, 4, 5, 6, 7, 7]) )    \n",
    "print(LongestSubArr([1, 2, 3, 4, 5, 6, 7, 7, 7]) ) \n",
    "print(LongestSubArr([1, 1, 1, 1, 2, 3, 4, 5, 6, 7, 7, 7]) ) "
   ]
  },
  {
   "cell_type": "code",
   "execution_count": 227,
   "metadata": {},
   "outputs": [
    {
     "name": "stdout",
     "output_type": "stream",
     "text": [
      "10\n",
      "10\n"
     ]
    }
   ],
   "source": [
    "##TC: O(n^4)\n",
    "def BuyStock2Sales(P):\n",
    "    max_profit = - inf\n",
    "    for i in range(len(P)-1):\n",
    "        for j in range(i+1, len(P)):\n",
    "            p1 = P[j] - P[i]\n",
    "            p2 = 0\n",
    "            if j <= len(P)-3:\n",
    "                for k in range(j+1, len(P)-1):\n",
    "                    for l in range(k+1, len(P)):\n",
    "                        p2 = P[l] - P[k]\n",
    "                        max_profit = max(max_profit, p1+p2)\n",
    "            else:\n",
    "                max_profit = max(max_profit, p1)\n",
    "                \n",
    "    return max_profit\n",
    "\n",
    "### TC O(n^2), SC O(1)\n",
    "def BuyStock2Sales2(P):\n",
    "    max_profit = - inf\n",
    "    for sell_day in range(1, len(P)-2):\n",
    "        mp1 = BuyStock3(P[0:sell_day+1])[0]\n",
    "        mp2 = BuyStock3(P[sell_day+1:])[0]\n",
    "        profit = mp1+mp2\n",
    "        max_profit = max(max_profit, profit)\n",
    "                \n",
    "    return max_profit\n",
    "                \n",
    "        \n",
    "P = [12, 11, 13, 9, 12, 8, 14, 13, 15]  \n",
    "print(BuyStock2Sales(P)) \n",
    "print(BuyStock2Sales2(P)) "
   ]
  },
  {
   "cell_type": "code",
   "execution_count": 17,
   "metadata": {},
   "outputs": [
    {
     "data": {
      "text/plain": [
       "[1, 1, 2, 3, 5]"
      ]
     },
     "execution_count": 17,
     "metadata": {},
     "output_type": "execute_result"
    }
   ],
   "source": [
    "a = [1, 5, 1, 2, 3]\n",
    "a.sort()\n",
    "a"
   ]
  },
  {
   "cell_type": "code",
   "execution_count": 183,
   "metadata": {},
   "outputs": [
    {
     "name": "stdout",
     "output_type": "stream",
     "text": [
      "[1, 6, 2, 5, 3, 4]\n",
      "[1, 5, 2, 4, 3]\n"
     ]
    },
    {
     "data": {
      "text/plain": [
       "(1, 3, 2, 5, 4, 6)"
      ]
     },
     "execution_count": 183,
     "metadata": {},
     "output_type": "execute_result"
    }
   ],
   "source": [
    "from math import ceil\n",
    "\n",
    "### TC: O(nlog n), SC: O(n)\n",
    "def AlternateArr(A):\n",
    "    A.sort()\n",
    "    B = [0]*len(A)\n",
    "    b_ind = 0\n",
    "    i = 0\n",
    "    j = len(A)-1\n",
    "    while j > i:\n",
    "        B[b_ind] = A[i]\n",
    "        b_ind += 1\n",
    "        B[b_ind] = A[j]\n",
    "        b_ind += 1\n",
    "        \n",
    "        i += 1\n",
    "        j -= 1\n",
    "    \n",
    "    if len(A) % 2 != 0:\n",
    "        B[b_ind] = A[i]\n",
    "\n",
    "    return B\n",
    "\n",
    "A= [1, 2, 3, 4, 5, 6]\n",
    "print(AlternateArr(A))\n",
    "\n",
    "A2= [1, 2, 3, 4, 5]\n",
    "print(AlternateArr(A2))\n",
    "\n",
    "1, 3, 2, 5, 4, 6"
   ]
  },
  {
   "cell_type": "code",
   "execution_count": 444,
   "metadata": {},
   "outputs": [],
   "source": [
    "def ReturnPerms(res, A):\n",
    "    if len(A) == 1:\n",
    "        return [A[0]]\n",
    "    \n",
    "    for i in range(len(A)):\n",
    "        res = 56\n",
    "        [A[i]+x for x in ReturnPerms(A.pop(i))]\n",
    "        \n",
    "    retun res"
   ]
  },
  {
   "cell_type": "code",
   "execution_count": 272,
   "metadata": {},
   "outputs": [
    {
     "data": {
      "text/plain": [
       "[3, 1, 2]"
      ]
     },
     "execution_count": 272,
     "metadata": {},
     "output_type": "execute_result"
    }
   ],
   "source": [
    "### in the brute force approach, I compute all permutations, then i look for the next permutation.  \n",
    "### The time and space complexity are very bad\n",
    "def perms(A):\n",
    "    \n",
    "    ### check base\n",
    "    if len(A) == 1:\n",
    "        return [A]\n",
    "    \n",
    "    ### compute recursively\n",
    "    result = []\n",
    "    for k in range(len(A)):\n",
    "        char = A[k]\n",
    "        Ac = A.copy()\n",
    "        Ac.pop(k)\n",
    "        result += [[char] + x for x in perms(Ac)]\n",
    "     \n",
    "    return result\n",
    "\n",
    "def GetNextPerm(p):\n",
    "    A = sorted(p)\n",
    "    res = perms(A)\n",
    "    for i in range(len(res)):\n",
    "        if res[i] == p:\n",
    "            if i<len(res)-1:\n",
    "                return res[i+1]\n",
    "            else:\n",
    "                return []\n",
    "            \n",
    "GetNextPerm([2, 3, 1])\n",
    "\n"
   ]
  },
  {
   "cell_type": "code",
   "execution_count": 36,
   "metadata": {},
   "outputs": [
    {
     "name": "stdout",
     "output_type": "stream",
     "text": [
      "[1, 2, 3, 4]\n",
      "2 3\n",
      "3 4\n",
      "[1, 2, 4, 3]\n",
      "1 2\n",
      "3 3\n",
      "[1, 3, 2, 4]\n",
      "2 2\n",
      "3 4\n",
      "[1, 3, 4, 2]\n",
      "1 3\n",
      "2 4\n",
      "[1, 3, 4, 2]\n",
      "1 3\n",
      "2 4\n",
      "[1, 3, 4, 2]\n",
      "1 3\n",
      "2 4\n",
      "[1, 3, 4, 2]\n",
      "1 3\n",
      "2 4\n",
      "[1, 3, 4, 2]\n",
      "1 3\n",
      "2 4\n",
      "[1, 3, 4, 2]\n",
      "1 3\n",
      "2 4\n",
      "[1, 3, 4, 2]\n",
      "1 3\n",
      "2 4\n",
      "[1, 3, 4, 2]\n",
      "1 3\n",
      "2 4\n",
      "[1, 3, 4, 2]\n",
      "1 3\n",
      "2 4\n",
      "[1, 3, 4, 2]\n",
      "1 3\n",
      "2 4\n",
      "[1, 3, 4, 2]\n",
      "1 3\n",
      "2 4\n",
      "[1, 3, 4, 2]\n",
      "1 3\n",
      "2 4\n",
      "[1, 3, 4, 2]\n",
      "1 3\n",
      "2 4\n",
      "[1, 3, 4, 2]\n",
      "1 3\n",
      "2 4\n",
      "[1, 3, 4, 2]\n",
      "1 3\n",
      "2 4\n",
      "[1, 3, 4, 2]\n",
      "1 3\n",
      "2 4\n",
      "[1, 3, 4, 2]\n",
      "1 3\n",
      "2 4\n",
      "[1, 3, 4, 2]\n",
      "1 3\n",
      "2 4\n",
      "[1, 3, 4, 2]\n",
      "1 3\n",
      "2 4\n",
      "[1, 3, 4, 2]\n",
      "1 3\n",
      "2 4\n",
      "[1, 3, 4, 2]\n"
     ]
    }
   ],
   "source": [
    "\n",
    "\n",
    "def NextPerm(A):\n",
    "\n",
    "    val = A[-1]\n",
    "    i = len(A)-2\n",
    "\n",
    "    while i >= 0:\n",
    "        if A[i] > val:\n",
    "            val= A[i]\n",
    "            i -= 1\n",
    "        else:\n",
    "            break\n",
    "\n",
    "    if i == -1:\n",
    "        return []\n",
    "    \n",
    "\n",
    "    j = len(A) - 1\n",
    "    currmax = inf\n",
    "    currmax_ind = None\n",
    "    while j>i:\n",
    "        if A[j] > A[i]:\n",
    "            if A[j] < currmax:\n",
    "                currmax = A[j]\n",
    "                currmax_ind = j\n",
    "                \n",
    "        j -= 1\n",
    "\n",
    "    print(i, A[i])\n",
    "    print(currmax_ind, A[currmax_ind])\n",
    "    \n",
    "    if i != len(A)-2:\n",
    "        A[i], A[i+1] = A[i+1], A[i] \n",
    "        A[i], A[currmax_ind] = A[currmax_ind], A[i]\n",
    "    else:\n",
    "        A[i], A[i+1] = A[i+1], A[i]\n",
    "    \n",
    "    return A\n",
    "\n",
    "A = [1, 2, 3, 4]\n",
    "\n",
    "print(A)\n",
    "for _ in range(23):\n",
    "    print(NextPerm(A))\n",
    "\n"
   ]
  },
  {
   "cell_type": "code",
   "execution_count": 111,
   "metadata": {},
   "outputs": [
    {
     "name": "stdout",
     "output_type": "stream",
     "text": [
      "[2, 4, 3, 1, 5]\n",
      "10\n",
      "[0.09745, 0.09904, 0.10045, 0.10084, 0.101, 0.10089, 0.09972, 0.09898, 0.10082, 0.10081]\n",
      "10\n",
      "[0.09918, 0.10095, 0.09948, 0.10069, 0.09926, 0.10037, 0.10018, 0.0997, 0.10047, 0.09972]\n"
     ]
    }
   ],
   "source": [
    "import random\n",
    "\n",
    "###TC: O(min(n-k, k)) (assuming the RNG is O(1)), SC: O(1)\n",
    "def ChooseSubset(A, k):\n",
    "    n = len(A)\n",
    "    \n",
    "    if n-k <= k:\n",
    "        end = n - 1\n",
    "\n",
    "        for _ in range(n-k):\n",
    "            I = random.randint(0, end)\n",
    "            A[end], A[I] = A[I], A[end]\n",
    "            end -= 1\n",
    "    else:\n",
    "        for i in range(k):\n",
    "            I = random.randint(i, len(A)-1)\n",
    "            A[i], A[I] = A[I], A[i]\n",
    "               \n",
    "    return A\n",
    "\n",
    "print(ChooseSubset([1, 2, 3, 4, 5], 2))\n",
    "\n",
    "test_fairness = {}\n",
    "for _ in range(100000):\n",
    "    subset = tuple(sorted(ChooseSubset([1, 2, 3, 4, 5], 2)[0:2]))\n",
    "    if subset in test_fairness:\n",
    "        test_fairness[subset] += 1\n",
    "    else:\n",
    "        test_fairness[subset] = 1\n",
    "        \n",
    "print(len(test_fairness))\n",
    "print([x/100000 for x in test_fairness.values()])\n",
    "\n",
    "test_fairness = {}\n",
    "for _ in range(100000):\n",
    "    subset = tuple(sorted(ChooseSubset([1, 2, 3, 4, 5], 3)[0:3]))\n",
    "    if subset in test_fairness:\n",
    "        test_fairness[subset] += 1\n",
    "    else:\n",
    "        test_fairness[subset] = 1\n",
    "        \n",
    "print(len(test_fairness))\n",
    "print([x/100000 for x in test_fairness.values()])"
   ]
  },
  {
   "cell_type": "code",
   "execution_count": 112,
   "metadata": {},
   "outputs": [
    {
     "name": "stdout",
     "output_type": "stream",
     "text": [
      "['b', 'c', 'a', 'd']\n",
      "['b', 'c', 'a', 'd']\n"
     ]
    }
   ],
   "source": [
    "#A = [a, b, c, d];  [b, c, a, d]\n",
    "\n",
    "#[a, b, c, d] -> [c, b, a, d] -> [b, c, a, d] \n",
    "P=[2, 0, 1, 3]\n",
    "\n",
    "### TC: O(n), sc: O(n)\n",
    "def MakePerm(P, A):\n",
    "    B = A.copy()\n",
    "    for i in range(len(A)):\n",
    "        B[P[i]] = A[i]\n",
    "        \n",
    "    return B\n",
    "\n",
    "### TC: O(n), sc: O(1)\n",
    "def MakePerm2(P, A):\n",
    "    B = A.copy()\n",
    "    for i in range(len(A)):\n",
    "        B[P[i]] = A[i]\n",
    "        \n",
    "    return B\n",
    "\n",
    "print(MakePerm([2, 0, 1, 3], ['a', 'b', 'c', 'd']))\n",
    "print(MakePerm2([2, 0, 1, 3], ['a', 'b', 'c', 'd']))"
   ]
  },
  {
   "cell_type": "code",
   "execution_count": 213,
   "metadata": {},
   "outputs": [
    {
     "data": {
      "text/plain": [
       "[4, 5, 3, 2, 1, 6, 7]"
      ]
     },
     "execution_count": 213,
     "metadata": {},
     "output_type": "execute_result"
    }
   ],
   "source": [
    "import random\n",
    "\n",
    "###TC O(k), SC O(1)\n",
    "def RandomSubset(A, k):\n",
    "    for j in range(k):\n",
    "        X = random.randint(j, len(A)-1)\n",
    "        A[X], A[j] = A[j], A[X]\n",
    "    return A\n",
    "\n",
    "\n",
    "RandomSubset([1, 2, 3, 4, 5, 6, 7], 4)"
   ]
  },
  {
   "cell_type": "code",
   "execution_count": 273,
   "metadata": {},
   "outputs": [
    {
     "data": {
      "text/plain": [
       "[11, 4, 8, 2, 10, 6, 3, 7, 9, 5, 0, 1]"
      ]
     },
     "execution_count": 273,
     "metadata": {},
     "output_type": "execute_result"
    }
   ],
   "source": [
    "###TC O(n), SC O(1)\n",
    "def RandomPerm(n):\n",
    "    A = list(range(n))\n",
    "    for j in range(len(A)-1):\n",
    "        X = random.randint(j, len(A)-1)\n",
    "        A[X], A[j] = A[j], A[X]\n",
    "    return A\n",
    "RandomPerm(12)"
   ]
  },
  {
   "cell_type": "code",
   "execution_count": 308,
   "metadata": {},
   "outputs": [
    {
     "name": "stdout",
     "output_type": "stream",
     "text": [
      "[0.0946, 0.202, 0.2982, 0.4052]\n"
     ]
    }
   ],
   "source": [
    "import numpy as np\n",
    "\n",
    "###TC O(n), SC: O(1)\n",
    "### there exists an O(log n) TC and O(n) SC algo:\n",
    "### 1) compute a P_cumul array in O(n) time (note that it is sorted)\n",
    "### 2) perform a modified binary search to find proper interval in log n time\n",
    "### 3) return value corresponding to that interval\n",
    "def RandomChoice(v, p):\n",
    "    X = np.random.uniform()\n",
    "    \n",
    "    p_cum = 0\n",
    "    for i in range(len(p)):\n",
    "        if p_cum <= X < p_cum+p[i]:\n",
    "            return v[i]\n",
    "        else:\n",
    "            p_cum += p[i]\n",
    "\n",
    "### test algo\n",
    "counts=[0, 0, 0, 0]\n",
    "for _ in range(10000):\n",
    "    counts[RandomChoice([0, 1, 2, 3], [.1, .2, .3, .4])] += 1 \n",
    "print([x/10000 for x in counts])"
   ]
  },
  {
   "cell_type": "code",
   "execution_count": 309,
   "metadata": {},
   "outputs": [],
   "source": [
    "### TC: O(n^2), SC: O(n)\n",
    "def IsValidSoduku(G):\n",
    "    ### check rows\n",
    "    for i in range(0, 9):\n",
    "        H ={}\n",
    "        for j in range(0, 9):\n",
    "            if G[i][j] in H:\n",
    "                return False\n",
    "            else: H[G[i][j]] = 1\n",
    "                \n",
    "    ### check columns\n",
    "    for j in range(0, 9):\n",
    "        H ={}\n",
    "        for i in range(0, 9):\n",
    "            if G[i][j] in H:\n",
    "                return False\n",
    "            else: H[G[i][j]] = 1\n",
    "    \n",
    "    ### check sub grids\n",
    "    ints = [[0, 2], [3, 5], [6, 8]]\n",
    "    \n",
    "    for i in range(3):\n",
    "        for j in range(3):\n",
    "            H = {}\n",
    "            for ii in ints[i]:\n",
    "                for jj in ints[j]:\n",
    "                    if G[i][j] in H:\n",
    "                        return False\n",
    "                    else: H[G[i][j]] = 1\n",
    "                        \n",
    "                        "
   ]
  },
  {
   "cell_type": "code",
   "execution_count": 321,
   "metadata": {
    "scrolled": true
   },
   "outputs": [
    {
     "name": "stdout",
     "output_type": "stream",
     "text": [
      "[1, 2, 3, 4, 8, 12, 16, 15, 14, 13, 9, 5, 6, 7, 11, 10]\n",
      "[1, 2, 3, 6, 9, 8, 7, 4, 5]\n"
     ]
    }
   ],
   "source": [
    "### TC: O(n^2), SC: O(n^2)\n",
    "def SpiralOrder(M):\n",
    "    n = len(M)\n",
    "    i, j =0, 0\n",
    "    sp=[]\n",
    "    d='r'\n",
    "    H={}\n",
    "    while len(H)<n**2:\n",
    "        if ((i, j) not in H) and (0 <= i <= n-1) and (0 <= j <= n-1):\n",
    "            H[(i,j)] = True\n",
    "            sp.append(M[i][j])\n",
    "            if d == 'r':\n",
    "                j += 1\n",
    "            elif d == 'd':\n",
    "                i += 1\n",
    "            elif d =='u':\n",
    "                i -= 1\n",
    "            else:\n",
    "                j -= 1\n",
    "        else:\n",
    "            if d =='u':\n",
    "                d= 'r'\n",
    "                i += 1; j += 1\n",
    "            elif d=='r':\n",
    "                d= 'd'\n",
    "                i += 1; j -= 1\n",
    "            elif d=='l':\n",
    "                d= 'u'\n",
    "                i -= 1; j += 1\n",
    "            else:\n",
    "                d = 'l'\n",
    "                i -= 1; j -=1\n",
    "                \n",
    "    return sp\n",
    "\n",
    "M = [[1, 2, 3, 4], [5, 6, 7, 8], [9, 10, 11, 12], [13, 14, 15, 16]]\n",
    "print(SpiralOrder(M))\n",
    "M = [[1, 2, 3], [4, 5, 6], [7, 8, 9]]\n",
    "print(SpiralOrder(M))\n",
    "\n"
   ]
  },
  {
   "cell_type": "code",
   "execution_count": 336,
   "metadata": {},
   "outputs": [
    {
     "name": "stdout",
     "output_type": "stream",
     "text": [
      "[1, 2, 3, 4, 8, 12, 16, 15, 14, 13, 9, 5, 6, 7, 11, 10]\n",
      "[1, 2, 3, 6, 9, 8, 7, 4, 5]\n"
     ]
    }
   ],
   "source": [
    "### TC: O(n^2), SC: O(1)\n",
    "def SpiralOrder2(M):\n",
    "    n = len(M)\n",
    "    i, j =0, 0\n",
    "    sp=[]\n",
    "    d='r'\n",
    "    cnt = 0\n",
    "    passs = 1\n",
    "    target = n\n",
    "    while len(sp)<n**2:\n",
    "        if d=='r' and cnt < target:\n",
    "            sp.append(M[i][j])\n",
    "            j += 1; cnt += 1\n",
    "        elif d=='d' and cnt < target:\n",
    "            sp.append(M[i][j])\n",
    "            i += 1; cnt += 1\n",
    "        elif d=='l' and cnt < target:\n",
    "            sp.append(M[i][j])\n",
    "            j -= 1; cnt += 1\n",
    "        elif d=='u' and cnt < target:\n",
    "            sp.append(M[i][j])\n",
    "            i -= 1; cnt += 1\n",
    "        elif d=='u' and cnt == target:\n",
    "            d = 'r'\n",
    "            i+=1; j += 1\n",
    "            cnt = 0\n",
    "            passs += 1\n",
    "            target = n-2*(passs-1)\n",
    "        elif d=='r' and cnt == target:\n",
    "            d = 'd'\n",
    "            j-=1; i += 1\n",
    "            cnt = 0\n",
    "            target = n-2*(passs-1)-1\n",
    "        elif d=='d' and cnt == target:\n",
    "            d = 'l'\n",
    "            i-=1; j -= 1\n",
    "            cnt = 0\n",
    "            target = n-2*(passs-1)-1\n",
    "        else:\n",
    "            d = 'u'\n",
    "            i -= 1; j += 1\n",
    "            cnt = 0\n",
    "            target = n-2*(passs)\n",
    "    return sp\n",
    "\n",
    "M = [[1, 2, 3, 4], [5, 6, 7, 8], [9, 10, 11, 12], [13, 14, 15, 16]]\n",
    "print(SpiralOrder2(M))\n",
    "M = [[1, 2, 3], [4, 5, 6], [7, 8, 9]]\n",
    "print(SpiralOrder2(M))"
   ]
  },
  {
   "cell_type": "code",
   "execution_count": 342,
   "metadata": {},
   "outputs": [
    {
     "name": "stdout",
     "output_type": "stream",
     "text": [
      "[1, 2, 3, 4, 8, 12, 16, 15, 14, 13, 9, 5, 6, 7, 11, 10]\n",
      "[1, 2, 3, 6, 9, 8, 7, 4, 5]\n"
     ]
    }
   ],
   "source": [
    "### TC: O(n) work per recursive call, O(n) calls => O(n^2). SC: O(n) (O(n) calls on the stack* O(1) space per call)\n",
    "def SpiralOrderRec(A, k, M, i_lower, i_upper, j_lower, j_upper):\n",
    "    \n",
    "    ### base cases\n",
    "    if i_lower == i_upper:\n",
    "        A[-1] = M[len(M)//2][len(M)//2]\n",
    "        return \n",
    "    \n",
    "    if i_lower > i_upper:\n",
    "        return \n",
    "    \n",
    "    ### work for each recursive call\n",
    "    \n",
    "    ### add 1st row\n",
    "    for j in range(j_lower, j_upper):\n",
    "        A[k] = M[i_lower][j]\n",
    "        k += 1\n",
    "      \n",
    "    ### add last column\n",
    "    for i in range(i_lower, i_upper):\n",
    "        A[k] = M[i][j_upper]\n",
    "        k += 1\n",
    "        \n",
    "    ### add last row\n",
    "    j = j_upper\n",
    "    while j > j_lower:\n",
    "        A[k] = M[i_upper][j]\n",
    "        j -= 1\n",
    "        k += 1\n",
    "        \n",
    "    ### add first column\n",
    "    i = i_upper\n",
    "    while i > i_lower:\n",
    "        A[k] = M[i][j_lower]\n",
    "        i -= 1\n",
    "        k += 1\n",
    "        \n",
    "    ### recurse\n",
    "    \n",
    "    SpiralOrderRec(A, k, M, i_lower+1, i_upper-1, j_lower+1, j_upper-1)\n",
    "    \n",
    "def SpiralOrder3(M):\n",
    "    A = [None]*len(M)**2\n",
    "    \n",
    "    SpiralOrderRec(A, 0, M, 0, len(M)-1, 0, len(M)-1)\n",
    "    \n",
    "    return A\n",
    "    \n",
    "    \n",
    "    \n",
    "M = [[1, 2, 3, 4], [5, 6, 7, 8], [9, 10, 11, 12], [13, 14, 15, 16]]\n",
    "print(SpiralOrder3(M))\n",
    "M = [[1, 2, 3], [4, 5, 6], [7, 8, 9]]\n",
    "print(SpiralOrder3(M))       \n",
    "\n"
   ]
  },
  {
   "cell_type": "code",
   "execution_count": 351,
   "metadata": {},
   "outputs": [
    {
     "name": "stdout",
     "output_type": "stream",
     "text": [
      "[[1]]\n",
      "[[1, 2], [4, 3]]\n",
      "[[1, 2, 3], [8, 9, 4], [7, 6, 5]]\n",
      "[[1, 2, 3, 4], [12, 13, 14, 5], [11, 16, 15, 6], [10, 9, 8, 7]]\n"
     ]
    }
   ],
   "source": [
    "def CreateSpiralMatRec(M, k, i_lower, i_upper, j_lower, j_upper):\n",
    "    \n",
    "    ### base cases\n",
    "    if i_lower == i_upper:\n",
    "        M[len(M)//2][len(M)//2] = k\n",
    "        return \n",
    "    \n",
    "    if i_lower > i_upper:\n",
    "        return \n",
    "    \n",
    "    ### work for each recursive call\n",
    "    \n",
    "    ### add 1st row\n",
    "    for j in range(j_lower, j_upper):\n",
    "        M[i_lower][j] = k\n",
    "        k += 1\n",
    "      \n",
    "    ### add last column\n",
    "    for i in range(i_lower, i_upper):\n",
    "        M[i][j_upper] = k\n",
    "        k += 1\n",
    "        \n",
    "    ### add last row\n",
    "    j = j_upper\n",
    "    while j > j_lower:\n",
    "        M[i_upper][j] = k\n",
    "        j -= 1\n",
    "        k += 1\n",
    "        \n",
    "    ### add first column\n",
    "    i = i_upper\n",
    "    while i > i_lower:\n",
    "        M[i][j_lower] = k\n",
    "        i -= 1\n",
    "        k += 1\n",
    "        \n",
    "    ### recurse\n",
    "    \n",
    "    CreateSpiralMatRec(M, k, i_lower+1, i_upper-1, j_lower+1, j_upper-1)\n",
    "    \n",
    "def CreateSpiralMat(d):\n",
    "    M = [[None for x in range(d)] for y in range(d)]\n",
    "    CreateSpiralMatRec(M, 1, 0, len(M)-1, 0, len(M)-1)\n",
    "    return M\n",
    "\n",
    "print(CreateSpiralMat(1))\n",
    "print(CreateSpiralMat(2))\n",
    "print(CreateSpiralMat(3))\n",
    "print(CreateSpiralMat(4))\n",
    "    "
   ]
  },
  {
   "cell_type": "code",
   "execution_count": 355,
   "metadata": {},
   "outputs": [
    {
     "name": "stdout",
     "output_type": "stream",
     "text": [
      "[[5, 8], [3, 5]]\n",
      "[[5, 8, 5], [8, 2, 3], [7, 6, 5]]\n"
     ]
    }
   ],
   "source": [
    "from math import sqrt\n",
    "\n",
    "def CreateSpiralMatFromPRec(P, k, M, i_lower, i_upper, j_lower, j_upper):\n",
    "    \n",
    "    ### base cases\n",
    "    if i_lower == i_upper:\n",
    "        M[len(M)//2][len(M)//2] = P[k]\n",
    "        return \n",
    "    \n",
    "    if i_lower > i_upper:\n",
    "        return \n",
    "    \n",
    "    ### work for each recursive call\n",
    "    \n",
    "    ### add 1st row\n",
    "    for j in range(j_lower, j_upper):\n",
    "        M[i_lower][j] = P[k]\n",
    "        k += 1\n",
    "      \n",
    "    ### add last column\n",
    "    for i in range(i_lower, i_upper):\n",
    "        M[i][j_upper] = P[k]\n",
    "        k += 1\n",
    "        \n",
    "    ### add last row\n",
    "    j = j_upper\n",
    "    while j > j_lower:\n",
    "        M[i_upper][j] = P[k]\n",
    "        j -= 1\n",
    "        k += 1\n",
    "        \n",
    "    ### add first column\n",
    "    i = i_upper\n",
    "    while i > i_lower:\n",
    "        M[i][j_lower] = P[k]\n",
    "        i -= 1\n",
    "        k += 1\n",
    "        \n",
    "    ### recurse\n",
    "    \n",
    "    CreateSpiralMatFromPRec(P, k, M, i_lower+1, i_upper-1, j_lower+1, j_upper-1)\n",
    "    \n",
    "def CreateSpiralMatFromP(P):\n",
    "    n = int(sqrt(len(P)))\n",
    "    M = [[None for x in range(n)] for y in range(n)]\n",
    "    CreateSpiralMatFromPRec(P, 0, M, 0, len(M)-1, 0, len(M)-1)\n",
    "    return M\n",
    "\n",
    "print(CreateSpiralMatFromP([5, 8, 5, 3]))\n",
    "print(CreateSpiralMatFromP([5, 8, 5, 3, 5, 6, 7, 8, 2]))"
   ]
  },
  {
   "cell_type": "code",
   "execution_count": 363,
   "metadata": {},
   "outputs": [
    {
     "name": "stdout",
     "output_type": "stream",
     "text": [
      "[1, 2, 4, 6, 8, 7, 4, 3]\n",
      "[1, 2, 3, 6, 5, 4]\n",
      "[1, 2, 3, 6, 9, 12, 15, 18, 17, 16, 13, 10, 7, 4, 5, 8, 11, 14]\n"
     ]
    }
   ],
   "source": [
    "def SpiralOrderRecMN(A, k, M, i_lower, i_upper, j_lower, j_upper):\n",
    "    \n",
    "    ### base cases\n",
    "    if k == len(M)*len(M[0]):\n",
    "        return\n",
    "    \n",
    "    ### work for each recursive call\n",
    "    \n",
    "    ### add 1st row\n",
    "    for j in range(j_lower, j_upper):\n",
    "        A[k] = M[i_lower][j]\n",
    "        k += 1\n",
    "        if k == len(M)*len(M[0]):\n",
    "            return\n",
    "      \n",
    "    ### add last column\n",
    "    for i in range(i_lower, i_upper):\n",
    "        A[k] = M[i][j_upper]\n",
    "        k += 1\n",
    "        if k == len(M)*len(M[0]):\n",
    "            return\n",
    "        \n",
    "    ### add last row\n",
    "    j = j_upper\n",
    "    while j > j_lower:\n",
    "        A[k] = M[i_upper][j]\n",
    "        j -= 1\n",
    "        k += 1\n",
    "        if k == len(M)*len(M[0]):\n",
    "            return\n",
    "        \n",
    "    ### add first column\n",
    "    i = i_upper\n",
    "    while i > i_lower:\n",
    "        A[k] = M[i][j_lower]\n",
    "        i -= 1\n",
    "        k += 1\n",
    "        if k == len(M)*len(M[0]):\n",
    "            return      \n",
    "    ### recurse\n",
    "    \n",
    "    SpiralOrderRecMN(A, k, M, i_lower+1, i_upper-1, j_lower+1, j_upper-1)\n",
    "    \n",
    "def SpiralOrderMN(M):\n",
    "    A = [None]*len(M)*len(M[0])\n",
    "    \n",
    "    SpiralOrderRecMN(A, 0, M, 0, len(M)-1, 0, len(M[0])-1)\n",
    "    \n",
    "    return A\n",
    "    \n",
    "    \n",
    "    \n",
    "M = [[1, 2], [3, 4], [4, 6], [7, 8]]\n",
    "print(SpiralOrderMN(M))\n",
    "M = [[1, 2, 3], [4, 5, 6]]\n",
    "print(SpiralOrderMN(M))\n",
    "M = [[1, 2, 3], [4, 5, 6], [7, 8, 9], [10, 11, 12], [13, 14, 15], [16, 17, 18]]\n",
    "print(SpiralOrderMN(M))"
   ]
  },
  {
   "cell_type": "code",
   "execution_count": 379,
   "metadata": {},
   "outputs": [
    {
     "name": "stdout",
     "output_type": "stream",
     "text": [
      "[[3, 1], [4, 2]]\n",
      "[[7, 4, 1], [8, 5, 2], [9, 6, 3]]\n",
      "[[13, 9, 5, 1], [14, 10, 6, 2], [15, 11, 7, 3], [16, 12, 8, 4]]\n"
     ]
    }
   ],
   "source": [
    "def RotateMatrix(M):\n",
    "    first_col = 0\n",
    "    last_col = len(M[0])-1\n",
    "    for first_row in range(len(M)//2):\n",
    "        i=0\n",
    "        last_row = len(M)-1-first_row\n",
    "        for col in range(first_col, last_col):\n",
    "            ### perform 4-way swap\n",
    "            \n",
    "            #1st, 2nd, 3rd, 4th = 4th, 1st, 2nd, 3rd\n",
    "            M[first_row][col], M[first_row+i][last_col], M[last_row][last_col-i], M[last_row-i][first_col],  = \\\n",
    "            M[last_row-i][first_col], M[first_row][col], M[first_row+i][last_col], M[last_row][last_col-i]\n",
    "            \n",
    "            i += 1\n",
    "            \n",
    "        first_col += 1\n",
    "        last_col -= 1\n",
    "    return M\n",
    "        \n",
    "print(RotateMatrix([[1, 2], [3, 4]]))\n",
    "print(RotateMatrix([[1, 2, 3], [4, 5, 6], [7, 8, 9]]))\n",
    "print(RotateMatrix([[1, 2, 3, 4], [5, 6, 7, 8], [9, 10, 11, 12], [13, 14, 15, 16]]))"
   ]
  },
  {
   "cell_type": "code",
   "execution_count": 388,
   "metadata": {},
   "outputs": [
    {
     "name": "stdout",
     "output_type": "stream",
     "text": [
      "[[5, 4, 3, 2, 1], [10, 9, 8, 7, 6], [15, 14, 13, 12, 11], [20, 19, 18, 17, 16], [25, 24, 23, 22, 21]]\n",
      "[[21, 22, 23, 24, 25], [16, 17, 18, 19, 20], [11, 12, 13, 14, 15], [6, 7, 8, 9, 10], [1, 2, 3, 4, 5]]\n"
     ]
    }
   ],
   "source": [
    "### assuming the matrix is a square matrix, where the sides are odd in length\n",
    "\n",
    "## O(n^2) time, O(1) space\n",
    "def HorizRot(M):\n",
    "    m = n = len(M)\n",
    "    for i in range(m):\n",
    "        k = n - 1\n",
    "        for j in range(n//2):\n",
    "            ### swap\n",
    "            M[i][j], M[i][k] = M[i][k], M[i][j]\n",
    "            k -= 1\n",
    "            \n",
    "    return M\n",
    "\n",
    "## O(n^2) time, O(1) space\n",
    "def VertRot(M):\n",
    "    m = n = len(M)\n",
    "    for j in range(n):\n",
    "        k = n - 1\n",
    "        for i in range(m//2):\n",
    "            ### swap\n",
    "            M[i][j], M[k][j] = M[k][j], M[i][j]\n",
    "            k -= 1\n",
    "            \n",
    "    return M\n",
    "            \n",
    "M = [[1, 2, 3, 4, 5], [6, 7, 8, 9, 10], [11, 12, 13, 14, 15], [16, 17, 18, 19, 20], [21, 22, 23, 24, 25]]\n",
    "print(HorizRot(M))\n",
    "M = [[1, 2, 3, 4, 5], [6, 7, 8, 9, 10], [11, 12, 13, 14, 15], [16, 17, 18, 19, 20], [21, 22, 23, 24, 25]]\n",
    "print(VertRot(M))"
   ]
  },
  {
   "cell_type": "code",
   "execution_count": 427,
   "metadata": {},
   "outputs": [
    {
     "name": "stdout",
     "output_type": "stream",
     "text": [
      "[[1, 4, 7], [2, 5, 8], [3, 6, 9]]\n",
      "[[1, 4, 7], [2, 5, 8], [3, 6, 9]]\n",
      "[[9, 6, 3], [8, 5, 2], [7, 4, 1]]\n",
      "[[25, 20, 15, 10, 5], [24, 19, 14, 9, 4], [23, 18, 13, 8, 3], [22, 17, 12, 7, 2], [21, 16, 11, 6, 1]]\n"
     ]
    }
   ],
   "source": [
    "def DiagRot1(M):\n",
    "    for i in range(0, len(M)-1):\n",
    "        for j in range(i+1, len(M)):\n",
    "            M[i][j], M[j][i] = M[j][i], M[i][j]\n",
    "    return M\n",
    "\n",
    "def DiagRot1a(M):\n",
    "    n = len(M)\n",
    "    d = 1\n",
    "    for i in range(1, n):\n",
    "        for j in range(0, n-i):\n",
    "            M[i+j][j], M[i+j-d][j+d] = M[i+j-d][j+d], M[i+j][j]\n",
    "        d += 1\n",
    "    return M\n",
    "\n",
    "def DiagRot2(M):\n",
    "    n = len(M)\n",
    "    for i in range(n-1):\n",
    "        for j in range(n-1-i):\n",
    "            M[i][j], M[n-1-j][n-1-i] = M[n-1-j][n-1-i], M[i][j]\n",
    "    return M\n",
    "\n",
    "M = [[1, 2, 3], [4, 5, 6], [7, 8, 9]]\n",
    "print(DiagRot1(M))\n",
    "\n",
    "M = [[1, 2, 3], [4, 5, 6], [7, 8, 9]]\n",
    "print(DiagRot1a(M))\n",
    "\n",
    "M = [[1, 2, 3], [4, 5, 6], [7, 8, 9]]\n",
    "print(DiagRot2(M))\n",
    "\n",
    "M = [[1, 2, 3, 4, 5], [6, 7, 8, 9, 10], [11, 12, 13, 14, 15], [16, 17, 18, 19, 20], [21, 22, 23, 24, 25]]\n",
    "print(DiagRot2(M))"
   ]
  },
  {
   "cell_type": "code",
   "execution_count": 391,
   "metadata": {},
   "outputs": [
    {
     "data": {
      "text/plain": [
       "[[1], [1, 1], [1, 2, 1], [1, 3, 3, 1], [1, 4, 6, 4, 1]]"
      ]
     },
     "execution_count": 391,
     "metadata": {},
     "output_type": "execute_result"
    }
   ],
   "source": [
    "#TC: O(n^2), SC: O(n^2)\n",
    "def PascalsTriange(n):\n",
    "    \n",
    "    if n == 1:\n",
    "        return [[1]]\n",
    "    if n == 2:\n",
    "        return [[1], [1,1]]\n",
    "    \n",
    "    ### initialize\n",
    "    PT=[None]*n\n",
    "    PT[0] = [1]\n",
    "    PT[1] = [1, 1]\n",
    "    \n",
    "    for i in range(2, n):\n",
    "        row = [None]*(i+1)\n",
    "        for j in range(i+1):\n",
    "            if j == 0 or j == i:\n",
    "                row[j] = 1\n",
    "            else:\n",
    "                row[j] = PT[i-1][j-1]+PT[i-1][j]\n",
    "        PT[i] = row\n",
    "        \n",
    "    return PT\n",
    "       \n",
    "PascalsTriange(5)        "
   ]
  },
  {
   "cell_type": "code",
   "execution_count": 423,
   "metadata": {},
   "outputs": [
    {
     "data": {
      "text/plain": [
       "[1, 4, 6, 4, 1]"
      ]
     },
     "execution_count": 423,
     "metadata": {},
     "output_type": "execute_result"
    }
   ],
   "source": [
    "#TC: O(n^2), SC: O(n)\n",
    "def PascalsTriange_nth_row(n):\n",
    "    \n",
    "    if n == 1:\n",
    "        return [1]\n",
    "    if n == 2:\n",
    "        return [1,1]\n",
    "    \n",
    "    prev_row = [1, 1]\n",
    "    for i in range(2, n):\n",
    "        row = [None]*(i+1)\n",
    "        for j in range(i+1):\n",
    "            if j == 0 or j == i:\n",
    "                row[j] = 1\n",
    "            else:\n",
    "                row[j] = prev_row[j-1]+prev_row[j]\n",
    "        prev_row = row\n",
    "        \n",
    "    return row\n",
    "\n",
    "PascalsTriange_nth_row(5)"
   ]
  },
  {
   "cell_type": "code",
   "execution_count": null,
   "metadata": {},
   "outputs": [],
   "source": []
  }
 ],
 "metadata": {
  "kernelspec": {
   "display_name": "Python 3",
   "language": "python",
   "name": "python3"
  },
  "language_info": {
   "codemirror_mode": {
    "name": "ipython",
    "version": 3
   },
   "file_extension": ".py",
   "mimetype": "text/x-python",
   "name": "python",
   "nbconvert_exporter": "python",
   "pygments_lexer": "ipython3",
   "version": "3.6.5"
  }
 },
 "nbformat": 4,
 "nbformat_minor": 2
}
