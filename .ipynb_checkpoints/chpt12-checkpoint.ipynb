{
 "cells": [
  {
   "cell_type": "code",
   "execution_count": 53,
   "metadata": {},
   "outputs": [
    {
     "data": {
      "text/plain": [
       "[['debitcard', 'badcredit'], ['elvis', 'lives', 'levis'], ['silent', 'listen']]"
      ]
     },
     "execution_count": 53,
     "metadata": {},
     "output_type": "execute_result"
    }
   ],
   "source": [
    "#TC: O(nm), SC: O(nm)\n",
    "def GroupAnagrams(A):\n",
    "    D={}\n",
    "    \n",
    "    # iterate through words O(n)\n",
    "    for word in A:\n",
    "        \n",
    "        #create hashable key for each word O(m)\n",
    "        count_arr = [0]*26\n",
    "        for char in word:\n",
    "            count_arr[ord(char)-ord('a')] += 1\n",
    "        \n",
    "        key = ''.join([str(x) for x in count_arr])\n",
    "        \n",
    "        # check if in dict O(1)\n",
    "        if key in D:\n",
    "            D[key][0].append(word)\n",
    "            D[key][1] += 1\n",
    "        else:\n",
    "            D[key] = [[word], 1]\n",
    "    \n",
    "\n",
    "    return [x[0] for x in D.values() if x[1]>=2]\n",
    "\n",
    "\n",
    "A = ['debitcard', 'elvis', 'silent', 'badcredit', 'lives', 'freedom', 'listen', 'levis', 'money']\n",
    "GroupAnagrams(A)\n"
   ]
  },
  {
   "cell_type": "code",
   "execution_count": 55,
   "metadata": {},
   "outputs": [
    {
     "name": "stdout",
     "output_type": "stream",
     "text": [
      "True\n",
      "True\n",
      "True\n"
     ]
    }
   ],
   "source": [
    "#TC: O(n), SC: O(n)\n",
    "def TestPalPerms(s):\n",
    "    D = {}\n",
    "    \n",
    "    for char in s:\n",
    "        if char in D:\n",
    "            D[char] += 1\n",
    "        else:\n",
    "            D[char] = 1\n",
    "        \n",
    "        if D[char] == 2:\n",
    "            del D[char]\n",
    "\n",
    "    if len(D) <= 1:\n",
    "        return True\n",
    "    else:\n",
    "        return True\n",
    "\n",
    "print(TestPalPerms('rraad'))\n",
    "print(TestPalPerms('radar'))\n",
    "print(TestPalPerms('doug'))"
   ]
  },
  {
   "cell_type": "code",
   "execution_count": 57,
   "metadata": {},
   "outputs": [
    {
     "name": "stdout",
     "output_type": "stream",
     "text": [
      "True\n",
      "False\n"
     ]
    }
   ],
   "source": [
    "#TC: O(|L|+|M|), SC:O(|L| +|M|)\n",
    "def LetterMagazine(letter, magazine):\n",
    "    Letter = {}\n",
    "    for char in letter:\n",
    "        if char in Letter:\n",
    "            Letter[char] += 1\n",
    "        else: \n",
    "            Letter[char] = 1\n",
    "            \n",
    "    Magazine = {}\n",
    "    for char in magazine:\n",
    "        if char in Magazine:\n",
    "            Magazine[char] += 1\n",
    "        else: \n",
    "            Magazine[char] = 1\n",
    "            \n",
    "    for char in Letter:\n",
    "        if (char in Magazine) and (Letter[char] <= Magazine[char]):\n",
    "            continue\n",
    "        else:\n",
    "            return False\n",
    "    \n",
    "    return True\n",
    "  \n",
    "letter = 'this is my great letter'\n",
    "magazine = \"this is my amazingly great magazine that's really cool\"\n",
    "print(LetterMagazine(letter, magazine))\n",
    "magazine = 'this is a magazine'\n",
    "print(LetterMagazine(letter, magazine))"
   ]
  },
  {
   "cell_type": "code",
   "execution_count": 23,
   "metadata": {},
   "outputs": [
    {
     "name": "stdout",
     "output_type": "stream",
     "text": [
      "True\n",
      "False\n"
     ]
    }
   ],
   "source": [
    "#TC: O(|L|+|M|), SC:O(|L|)\n",
    "def LetterMagazine2(letter, magazine):\n",
    "    Letter = {}\n",
    "    for char in letter:\n",
    "        if char in Letter:\n",
    "            Letter[char] += 1\n",
    "        else: \n",
    "            Letter[char] = 1\n",
    "            \n",
    "    for char in magazine:\n",
    "        \n",
    "        if char not in Letter:\n",
    "            continue\n",
    "        else: \n",
    "            Letter[char] -= 1\n",
    "            if Letter[char] == 0:\n",
    "                del Letter[char]\n",
    "                \n",
    "        if len(Letter) == 0:\n",
    "            return True\n",
    "    \n",
    "\n",
    "    return False\n",
    "\n",
    "    \n",
    "letter = 'this is my great letter'\n",
    "magazine = \"this is my amazingly great magazine that's really cool\"\n",
    "print(LetterMagazine2(letter, magazine))\n",
    "magazine = 'this is a magazine'\n",
    "print(LetterMagazine2(letter, magazine))"
   ]
  },
  {
   "cell_type": "code",
   "execution_count": 58,
   "metadata": {},
   "outputs": [
    {
     "name": "stdout",
     "output_type": "stream",
     "text": [
      "(2, 'no', (9, 7))\n",
      "(inf, None, (None, None))\n"
     ]
    }
   ],
   "source": [
    "from math import inf\n",
    "\n",
    "## TC: O(|arr|), SC:O(d), d = distinct number of words\n",
    "def NearestRepeats(arr):\n",
    "\n",
    "    D = {}\n",
    "    curr_min = inf\n",
    "    curr_min_word = None\n",
    "    curr_inds= (None, None)\n",
    "\n",
    "    for i in range(len(arr)):\n",
    "        word = arr[i]\n",
    "        if word not in D:\n",
    "            D[word] = i\n",
    "        else:\n",
    "            if i - D[word] < curr_min:\n",
    "                curr_min = i - D[word]\n",
    "                curr_min_word = word\n",
    "                curr_inds= (i, D[word])\n",
    "            D[word] = i          \n",
    "            \n",
    "    return (curr_min, curr_min_word, curr_inds)     \n",
    "\n",
    "arr = 'all work and no play makes for no work no fun and no results'.split(' ')\n",
    "print(NearestRepeats(arr))\n",
    "print(NearestRepeats('sup braj'))"
   ]
  },
  {
   "cell_type": "code",
   "execution_count": 4,
   "metadata": {},
   "outputs": [
    {
     "data": {
      "text/plain": [
       "('f', 97.4483322417513)"
      ]
     },
     "execution_count": 4,
     "metadata": {},
     "output_type": "execute_result"
    }
   ],
   "source": [
    "### TC: O(n), SC: O(d), where d is the number of distinct students\n",
    "from math import inf\n",
    "def TopStudent(records):\n",
    "    D = {}\n",
    "\n",
    "    for i in range(len(records)):\n",
    "        student, grade = records[i][0], records[i][1]\n",
    "\n",
    "        if student not in D:\n",
    "            D[student] = [grade]\n",
    "        else:\n",
    "            if len(D[student]) < 3:\n",
    "                D[student].append(grade)\n",
    "            else:\n",
    "                curr_min = inf\n",
    "                curr_min_ind = None\n",
    "                for i in [0, 1, 2]:\n",
    "                    if D[student][i] < curr_min:\n",
    "                        curr_min = D[student][i]\n",
    "                        curr_min_ind = i\n",
    "                if grade > curr_min:\n",
    "                    D[student].pop(curr_min_ind)\n",
    "                    D[student].append(grade)\n",
    "\n",
    "    curr_max = -inf\n",
    "    curr_max_student = None\n",
    "\n",
    "    for student in D:\n",
    "        if len(D[student]) == 3:\n",
    "            avg = sum(D[student])/3\n",
    "            if avg > curr_max:\n",
    "                curr_max = avg\n",
    "                curr_max_student = student\n",
    "\n",
    "    return (curr_max_student, curr_max)\n",
    "\n",
    "\n",
    "########### test algo by creating a fake dataset########### \n",
    "import random\n",
    "import numpy as np\n",
    "import pandas as pd\n",
    "\n",
    "students = ['a', 'b', 'c', 'd', 'e', 'f']\n",
    "\n",
    "records = []\n",
    "for _ in range(30):\n",
    "    student = random.choice(students)\n",
    "    grade = np.random.normal(loc=85., scale=15.)      \n",
    "\n",
    "    records.append([student, grade])\n",
    "    \n",
    "df = pd.DataFrame(records, columns = ['student', 'grade'])\n",
    "####################################################### \n",
    "\n",
    "\n",
    "TopStudent(records)\n"
   ]
  },
  {
   "cell_type": "code",
   "execution_count": 5,
   "metadata": {},
   "outputs": [
    {
     "data": {
      "text/plain": [
       "student\n",
       "f    97.448332\n",
       "b    95.398120\n",
       "d    90.212317\n",
       "e    85.819069\n",
       "c    85.273977\n",
       "a    83.637468\n",
       "dtype: float64"
      ]
     },
     "execution_count": 5,
     "metadata": {},
     "output_type": "execute_result"
    }
   ],
   "source": [
    "### compare against results from a pandas group by\n",
    "\n",
    "def AvgTop3(data):\n",
    "    \n",
    "    if len(data)<3:\n",
    "        return -inf\n",
    "    else:\n",
    "        return data.grade.sort_values(ascending=False)[0:3].mean()\n",
    "\n",
    "df.groupby('student').apply(AvgTop3).sort_values(ascending=False)"
   ]
  },
  {
   "cell_type": "code",
   "execution_count": 123,
   "metadata": {},
   "outputs": [
    {
     "name": "stdout",
     "output_type": "stream",
     "text": [
      "{3: True, 5: True, 7: True, 9: True, 11: True, 13: True, 15: True, 17: True, 19: True, 21: True, 23: True, 25: True, 27: True, 29: True, 31: True, 33: True, 35: True, 37: True, 39: True, 41: True, 43: True, 45: True, 47: True, 49: True}\n"
     ]
    },
    {
     "data": {
      "text/plain": [
       "'Tested!'"
      ]
     },
     "execution_count": 123,
     "metadata": {},
     "output_type": "execute_result"
    }
   ],
   "source": [
    "def TestCollatz(n):\n",
    "    \n",
    "    memo = {}\n",
    "    \n",
    "    for i in range(3, n+1, 2):\n",
    "        x = i\n",
    "        \n",
    "        if x in memo:\n",
    "            continue       \n",
    "        else:\n",
    "            while x != 1 and x not in memo:\n",
    "                if x % 2 != 0:\n",
    "                    x *= 3; x += 1\n",
    "                else:\n",
    "                    x //= 2\n",
    " \n",
    "            memo[i] = True\n",
    "         \n",
    "    print(memo)\n",
    "    return 'Tested!'\n",
    "        \n",
    "TestCollatz(50)"
   ]
  },
  {
   "cell_type": "code",
   "execution_count": 81,
   "metadata": {},
   "outputs": [
    {
     "data": {
      "text/plain": [
       "'Tested!'"
      ]
     },
     "execution_count": 81,
     "metadata": {},
     "output_type": "execute_result"
    }
   ],
   "source": [
    "def Collatz2(i, memo):\n",
    "    \n",
    "    if i in memo:\n",
    "        return True\n",
    "    \n",
    "    if i == 1:\n",
    "        return True\n",
    "    \n",
    "\n",
    "    if i % 2 == 0:\n",
    "        res = Collatz2(i//2, memo)\n",
    "    else:\n",
    "        res = Collatz2(i*3+1, memo)\n",
    "\n",
    "    memo[i] = res\n",
    "    return res\n",
    "\n",
    "def TestCollatz2(n):\n",
    "    for i in range(1, 4):\n",
    "        memo = {}\n",
    "        res = Collatz2(i, memo)\n",
    "    \n",
    "    return \"Tested!\"\n",
    "\n",
    "TestCollatz2(50)\n",
    "\n",
    "\n",
    "        \n"
   ]
  },
  {
   "cell_type": "code",
   "execution_count": 47,
   "metadata": {},
   "outputs": [
    {
     "data": {
      "text/plain": [
       "Counter({'eat': 1, 'ism': 2, 'ygr': 1})"
      ]
     },
     "execution_count": 47,
     "metadata": {},
     "output_type": "execute_result"
    }
   ],
   "source": [
    "import collections\n",
    "collections.Counter(['eat', 'ism', 'ygr', 'ism']  )"
   ]
  },
  {
   "cell_type": "code",
   "execution_count": 38,
   "metadata": {},
   "outputs": [
    {
     "data": {
      "text/plain": [
       "[4, 25]"
      ]
     },
     "execution_count": 38,
     "metadata": {},
     "output_type": "execute_result"
    }
   ],
   "source": [
    "### analyzing the below program, I see that the TC is O(Nmn), and the space complexity is O(mn) for \n",
    "###the auxilliary hash table\n",
    "def CheckWords(S, W):\n",
    "    \n",
    "\n",
    "    n = len(W[0])          # word length\n",
    "    m = len(W)             # number of words\n",
    "    N = len(S)             # lenght of sentence\n",
    "\n",
    "    start_array = []\n",
    "    \n",
    "    word_set = {}\n",
    "    for word in W:\n",
    "        if word in word_set:\n",
    "            word_set[word] +=1\n",
    "        else:\n",
    "            word_set[word] =1\n",
    "\n",
    "    for start in range(0, N-m*n):\n",
    "        ws = word_set.copy()\n",
    "        \n",
    "        for j in range(m):\n",
    "            word = S[start +j*n:start + j*n + n]\n",
    "            if word in ws:\n",
    "                ws[word] -= 1\n",
    "                if ws[word] == 0:\n",
    "                    del ws[word]\n",
    "            else:\n",
    "                break\n",
    "\n",
    "        if len(ws) == 0:\n",
    "            start_array.append(start)\n",
    "            \n",
    "    return start_array\n",
    "\n",
    "S = 'thisismygreatandwonderfuleatismygrsentence' ## correct answer is 4 and 25\n",
    "W = ['eat', 'ism', 'ygr']  \n",
    "CheckWords(S, W)"
   ]
  },
  {
   "cell_type": "code",
   "execution_count": 6,
   "metadata": {},
   "outputs": [
    {
     "name": "stdout",
     "output_type": "stream",
     "text": [
      "{(0, 0): inf, (1, 0): 1, (2, 0): 2, (0, 1): inf, (1, 1): inf, (2, 1): inf, (3, 1): 3}\n"
     ]
    }
   ],
   "source": [
    "from math import inf\n",
    "\n",
    "s = ['a', 'b', 'c', 'a']\n",
    "k=['b', 'a']\n",
    "\n",
    "def SS(i,j, memo):\n",
    "    if (i,j) in memo:\n",
    "        return memo[(i,j)]\n",
    "    \n",
    "    if i>=0 and j == -1:\n",
    "        return 0\n",
    "    elif i ==-1 and j != -1:\n",
    "        return inf\n",
    "    else:\n",
    "        if s[i] != k[j]:\n",
    "            memo[(i,j)] = SS(i-1,j, memo)+1\n",
    "            return memo[(i,j)]\n",
    "        else:\n",
    "            memo[(i,j)] = min(SS(i-1,j-1, memo)+1, SS(i-1, j, memo)+1)\n",
    "            return memo[(i,j)]\n",
    " \n",
    "memo={}\n",
    "SS(len(s)-1,len(k)-1, memo)\n",
    "print(memo)"
   ]
  },
  {
   "cell_type": "code",
   "execution_count": 15,
   "metadata": {},
   "outputs": [
    {
     "data": {
      "text/plain": [
       "[1, 2, 3, 4, 8, 12, 11, 10, 9, 5, 6, 7]"
      ]
     },
     "execution_count": 15,
     "metadata": {},
     "output_type": "execute_result"
    }
   ],
   "source": [
    "### TC: O(mn), SC: O(mn)\n",
    "def ConvertToSpiral(M):\n",
    "    \n",
    "    m, n = len(M), len(M[0])\n",
    "    h, v = n - 1, m - 1\n",
    "    i, j = 0, 0\n",
    "    \n",
    "    output = [None]*(m*n)\n",
    "    k = 0\n",
    "    while True:\n",
    "        \n",
    "        for _ in range(h):\n",
    "            output[k] = M[i][j]\n",
    "            k += 1; j += 1\n",
    "            if k == m*n: return output\n",
    "        \n",
    "        for _ in range(v):\n",
    "            output[k] = M[i][j]\n",
    "            i += 1; k += 1\n",
    "            if k == m*n: return output\n",
    "        \n",
    "        for _ in range(h):\n",
    "            output[k] = M[i][j]\n",
    "            j -= 1; k += 1\n",
    "            if k == m*n: return output\n",
    "        \n",
    "        for _ in range(v):\n",
    "            output[k] = M[i][j]\n",
    "            i -= 1; k += 1\n",
    "            if k == m*n: return output\n",
    "        \n",
    "        i += 1; j += 1\n",
    "        h -= 2; v -= 2\n",
    "        \n",
    "M = [[1,  2,  3,  4], \n",
    "    [5,  6,  7,  8], \n",
    "    [9, 10, 11, 12]]   \n",
    "### proper output should be : [1, 2, 3, 4, 8, 12, 11, 10, 9, 5, 6, 7]\n",
    "\n",
    "ConvertToSpiral(M)"
   ]
  }
 ],
 "metadata": {
  "kernelspec": {
   "display_name": "Python 3",
   "language": "python",
   "name": "python3"
  },
  "language_info": {
   "codemirror_mode": {
    "name": "ipython",
    "version": 3
   },
   "file_extension": ".py",
   "mimetype": "text/x-python",
   "name": "python",
   "nbconvert_exporter": "python",
   "pygments_lexer": "ipython3",
   "version": "3.6.5"
  }
 },
 "nbformat": 4,
 "nbformat_minor": 2
}
