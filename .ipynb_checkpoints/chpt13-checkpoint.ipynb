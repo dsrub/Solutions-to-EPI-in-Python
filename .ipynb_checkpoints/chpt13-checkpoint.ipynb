{
 "cells": [
  {
   "cell_type": "code",
   "execution_count": 64,
   "metadata": {},
   "outputs": [
    {
     "name": "stdout",
     "output_type": "stream",
     "text": [
      "[2, 4, 6]\n",
      "[2, 4, 6]\n"
     ]
    }
   ],
   "source": [
    "#let A be the smaller array; TC: O(|A|+|B|), SC: O(|A|)\n",
    "def Intersection1(A, B):\n",
    "    \n",
    "    SetA = set(A)\n",
    "    Int = []\n",
    "    \n",
    "    for b in B:\n",
    "        if b not in SetA:\n",
    "            continue\n",
    "        else:\n",
    "            Int.append(b)\n",
    "            SetA = SetA - {b}\n",
    "\n",
    "    return Int \n",
    "\n",
    "### TC: O(|A|+|B|), SC:(|A|)\n",
    "def Intersection2(A, B):\n",
    "    i, j = 0, 0\n",
    "    \n",
    "    intersect = []\n",
    "    while i <= len(A)-1 and j <= len(B)-1:\n",
    "        if A[i] == B[j]:\n",
    "            if intersect != A[i]:\n",
    "                intersect.append(A[i])\n",
    "                i += 1; j += 1\n",
    "            else:\n",
    "                i += 1; j += 1       \n",
    "        elif A[i] > B[j]:\n",
    "            j += 1\n",
    "        else:\n",
    "            i += 1\n",
    "    return intersect\n",
    "    \n",
    "A = [2, 2, 4, 6]\n",
    "B= [1, 2, 3, 4, 4, 5, 6, 7, 8, 9]\n",
    "print(Intersection1(A, B))\n",
    "print(Intersection2(A, B) )"
   ]
  },
  {
   "cell_type": "code",
   "execution_count": 43,
   "metadata": {},
   "outputs": [
    {
     "name": "stdout",
     "output_type": "stream",
     "text": [
      "[1, 1, 2, 3, 3, 4, 4, 5, '', '', '']\n",
      "[3, 4, 4, 5, 5, 7, 8, 12, 12, '', '', '']\n"
     ]
    }
   ],
   "source": [
    "### let A be the longer array.  The algo can be done in place by reverse order sorted from right to left\n",
    "#TC: O(|A|+|B|), SC: O(1)\n",
    "def Merge(A, B):\n",
    "    \n",
    "    ## find last filled spot in A\n",
    "    j = 0\n",
    "    while A[j] != '':\n",
    "        j += 1\n",
    "    j -= 1\n",
    "\n",
    "\n",
    "\n",
    "    i, k = len(B) - 1, len(A) - 1\n",
    "\n",
    "    while j >= 0 and i >= 0:\n",
    "        if A[j] > B[i]:\n",
    "            A[k], A[j] = A[j], A[k]\n",
    "            k -= 1; j -= 1\n",
    "        else:\n",
    "            A[k] = B[i]\n",
    "            k -= 1; i -=1 \n",
    "\n",
    "    ### take care of case if B gets exhausted  \n",
    "    if i < 0: \n",
    "        l = j+1\n",
    "        r = k+1\n",
    "        while r<= len(A)-1:\n",
    "            A[l], A[r] = A[r], A[l]\n",
    "            l+=1\n",
    "            r+=1\n",
    "\n",
    "    ### take care of case if A gets exhausted  \n",
    "    else:\n",
    "        ### fill in rest of B\n",
    "        while i>=0:\n",
    "            A[k] = B[i]\n",
    "            i-=1; k-=1\n",
    "\n",
    "        ### shift everything over left\n",
    "        k += 1\n",
    "        l=0\n",
    "        while k<=len(A)-1:\n",
    "            A[l], A[k] = A[k], A[l]\n",
    "            l+=1; k+=1\n",
    "\n",
    "\n",
    "\n",
    "    return A\n",
    "\n",
    "\n",
    "            \n",
    "    \n",
    "A = [1, 1, 2, 3, 4,'', '', '', '', '', '']\n",
    "B = [3, 4, 5]      \n",
    "print(Merge(A, B))\n",
    "\n",
    "A = [4, 5, 7, 8, 12, 12,'', '', '', '', '', '']\n",
    "B = [3, 4, 5]      \n",
    "print(Merge(A, B))"
   ]
  },
  {
   "cell_type": "code",
   "execution_count": 70,
   "metadata": {},
   "outputs": [
    {
     "name": "stdout",
     "output_type": "stream",
     "text": [
      "dict_values([('rob', 'it'), ('doug', 'rubin'), ('jenya', 'it')])\n",
      "[('doug', 'rubin'), ('rob', 'it'), ('jenya', 'it'), '', '', '']\n",
      "[('doug', 'rubin'), ('jenya', 'it'), ('rob', 'it'), ('doug', 'dude'), ('doug', 'bro'), ('rob', 'hel')]\n"
     ]
    }
   ],
   "source": [
    "##TC: O(n), SC: O(d) (where d is the distinct number of names)\n",
    "def RemoveNames1(names):\n",
    "    H={}\n",
    "    for name in names:\n",
    "        if name[0] in H:\n",
    "            continue\n",
    "        else:\n",
    "            H[name[0]] = name\n",
    "    \n",
    "    return H.values()\n",
    "\n",
    "\n",
    "##TC: O(nlogn), SC: O(1) (an inplace algo)\n",
    "def RemoveNames2(names):\n",
    "   \n",
    "    ### sort first\n",
    "    names.sort(key = lambda x: x[0])\n",
    "    \n",
    "    ### remove duplicates\n",
    "    old_name = names[0][0]\n",
    "    for i in range(1, len(names)):\n",
    "        if names[i][0] != old_name:\n",
    "            old_name = names[i][0]\n",
    "        else:\n",
    "            names[i] = ''\n",
    "            \n",
    "    \n",
    "    ### find first space\n",
    "    i = 0\n",
    "    while names[i] != '':\n",
    "        i += 1\n",
    "        \n",
    "    ### find last name\n",
    "    j = len(names) - 1\n",
    "    while names[j] == '':\n",
    "        j -= 1\n",
    "        \n",
    "        \n",
    "    while i<j:\n",
    "        ###swap name and blank space\n",
    "        names[i], names[j] = names[j], names[i]\n",
    "        ### iterate until i find next name and next blank space\n",
    "        while names[i] != '':\n",
    "            i += 1\n",
    "        while names[j] == '':\n",
    "            j -= 1\n",
    "            \n",
    "    return names\n",
    "\n",
    "##TC: O(nlog n), SC: O(1)\n",
    "def RemoveNames3(names):\n",
    "   \n",
    "    ### sort first\n",
    "    names.sort(key = lambda x: x[0])\n",
    "    \n",
    "    i, j = 0, 1\n",
    "    while j <= len(names) - 1:\n",
    "        if names[j][0] == names[i][0]:\n",
    "            j+=1\n",
    "        else:\n",
    "            names[i+1], names[j] = names[j], names[i+1]\n",
    "            i +=1; j += 1\n",
    "            \n",
    "    return names\n",
    "        \n",
    "\n",
    "names = [('rob', 'it'), ('doug', 'rubin'), ('doug','dude'), ('jenya', 'it'), ('rob', 'hel'),  ('doug', 'bro')]\n",
    "print(RemoveNames1(names))\n",
    "\n",
    "names = [('rob', 'it'), ('doug', 'rubin'), ('doug','dude'), ('jenya', 'it'), ('rob', 'hel'),  ('doug', 'bro')]\n",
    "print(RemoveNames2(names))\n",
    "\n",
    "names = [('rob', 'it'), ('doug', 'rubin'), ('doug','dude'), ('jenya', 'it'), ('rob', 'hel'),  ('doug', 'bro')]\n",
    "print(RemoveNames3(names))"
   ]
  },
  {
   "cell_type": "code",
   "execution_count": 85,
   "metadata": {},
   "outputs": [
    {
     "name": "stdout",
     "output_type": "stream",
     "text": [
      "21\n",
      "10\n"
     ]
    }
   ],
   "source": [
    "\n",
    "### TC: O(nlog n), SC: O(1)\n",
    "def MinConstructable(A):\n",
    "    A.sort()\n",
    "    \n",
    "    if A[0] == 1:\n",
    "        max_range = 1\n",
    "    else:\n",
    "        return 1\n",
    "    \n",
    "    for i in range(1, len(A)):\n",
    "        if A[i] <= max_range+1:\n",
    "            max_range += A[i]\n",
    "            continue\n",
    "        else:\n",
    "            return max_range+1\n",
    "        \n",
    "    return max_range+1\n",
    "\n",
    "A=[1, 1, 1, 1, 1, 5, 10, 25]\n",
    "print(MinConstructable(A))\n",
    "\n",
    "A=[12, 2, 1, 15, 2, 4]\n",
    "print(MinConstructable(A))"
   ]
  },
  {
   "cell_type": "code",
   "execution_count": 3,
   "metadata": {},
   "outputs": [
    {
     "data": {
      "text/plain": [
       "[(1, 6), (7, 8), (9, 12), (13, 14)]"
      ]
     },
     "execution_count": 3,
     "metadata": {},
     "output_type": "execute_result"
    }
   ],
   "source": [
    "#### assuming all intervals are closed for ease\n",
    "\n",
    "def UnionIntervals(A):\n",
    "    A.sort(key = lambda x: x[0])\n",
    "    \n",
    "    union = []\n",
    "    curr_start = A[0][0]\n",
    "    curr_end = A[0][1]\n",
    "    \n",
    "    for i in range(1, len(A)):\n",
    "        if A[i][0] <= curr_end:\n",
    "            if A[i][1] > curr_end:\n",
    "                curr_end = A[i][1]\n",
    "            \n",
    "        else:\n",
    "            union.append((curr_start, curr_end))\n",
    "            curr_start, curr_end = A[i][0], A[i][1]\n",
    "            \n",
    "    union.append((curr_start, curr_end))\n",
    "    return union\n",
    "\n",
    "\n",
    "A = [(1, 4), (2, 6), (7, 8), (9, 11), (10, 10.1), (11, 12), (13, 14)]\n",
    "UnionIntervals(A)"
   ]
  },
  {
   "cell_type": "code",
   "execution_count": 94,
   "metadata": {},
   "outputs": [
    {
     "data": {
      "text/plain": [
       "60.0"
      ]
     },
     "execution_count": 94,
     "metadata": {},
     "output_type": "execute_result"
    }
   ],
   "source": [
    "#TC: O(n log n), SC: O(1)\n",
    "def ComputeCap(S, target):\n",
    "\n",
    "    m = len(S)\n",
    "    S.sort()\n",
    "\n",
    "    # if cap must be lower than lowest salary\n",
    "    cap = target/m\n",
    "    if 0 < cap <= S[0]:\n",
    "        return cap\n",
    "\n",
    "\n",
    "    sum_i = 0\n",
    "\n",
    "    for i in range(len(S)-1):\n",
    "        sum_i += S[i]\n",
    "        cap = (target - sum_i)/(m - i - 1)\n",
    "\n",
    "\n",
    "        if S[i] < cap <= S[i+1]:\n",
    "            return cap\n",
    "        \n",
    "    return -1\n",
    "\n",
    "ComputeCap([90, 30, 100, 40, 20], 210)"
   ]
  }
 ],
 "metadata": {
  "kernelspec": {
   "display_name": "Python 3",
   "language": "python",
   "name": "python3"
  },
  "language_info": {
   "codemirror_mode": {
    "name": "ipython",
    "version": 3
   },
   "file_extension": ".py",
   "mimetype": "text/x-python",
   "name": "python",
   "nbconvert_exporter": "python",
   "pygments_lexer": "ipython3",
   "version": "3.6.5"
  }
 },
 "nbformat": 4,
 "nbformat_minor": 2
}
