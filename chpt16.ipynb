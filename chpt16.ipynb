{
 "cells": [
  {
   "cell_type": "code",
   "execution_count": 8,
   "metadata": {},
   "outputs": [
    {
     "data": {
      "text/plain": [
       "1479"
      ]
     },
     "execution_count": 8,
     "metadata": {},
     "output_type": "execute_result"
    }
   ],
   "source": [
    "from math import inf\n",
    "\n",
    "\n",
    "##TC: O(n), SC: O(n)\n",
    "def MaxSumSubArrDP(i, memo, A):\n",
    "    if i in memo:\n",
    "        return memo[i]\n",
    "    \n",
    "    if i == -1:\n",
    "        memo[-1] = 0\n",
    "        return 0\n",
    "    \n",
    "    memo[i] = max(MaxSumSubArrDP(i - 1, memo, A) + A[i], A[i])\n",
    "    return memo[i]\n",
    "\n",
    "def MaxSumSubArr(A):\n",
    "    memo = {}\n",
    "    curr_max = -inf\n",
    "    for i in range(len(A)):\n",
    "        curr_max = max(curr_max, MaxSumSubArrDP(i, memo, A))\n",
    "        \n",
    "    return curr_max\n",
    "\n",
    "A = [904, 40, 523, 12, -335, -385, -124, 481, -31]\n",
    "MaxSumSubArr(A)"
   ]
  },
  {
   "cell_type": "code",
   "execution_count": 10,
   "metadata": {},
   "outputs": [
    {
     "ename": "SyntaxError",
     "evalue": "can't assign to function call (<ipython-input-10-5af3c57a2e01>, line 13)",
     "output_type": "error",
     "traceback": [
      "\u001b[0;36m  File \u001b[0;32m\"<ipython-input-10-5af3c57a2e01>\"\u001b[0;36m, line \u001b[0;32m13\u001b[0m\n\u001b[0;31m    MaxSumSubArrIt(i) = min_k(A[i]-MaxSumSubArrIt(k))\u001b[0m\n\u001b[0m                                                     ^\u001b[0m\n\u001b[0;31mSyntaxError\u001b[0m\u001b[0;31m:\u001b[0m can't assign to function call\n"
     ]
    }
   ],
   "source": [
    "def MaxSumSubArrIt(A):\n",
    "    curr_max = -inf\n",
    "    max_ending_at_i = 0\n",
    "    for i in range(len(A)):\n",
    "        max_ending_at_i = max(max_ending_at_i + A[i], A[i])\n",
    "        curr_max = max(curr_max, max_ending_at_i)\n",
    "        \n",
    "    return curr_max\n",
    "\n",
    "A = [904, 40, 523, 12, -335, -385, -124, 481, -31]\n",
    "MaxSumSubArrIt(A)\n",
    "\n"
   ]
  },
  {
   "cell_type": "code",
   "execution_count": 33,
   "metadata": {},
   "outputs": [
    {
     "name": "stdout",
     "output_type": "stream",
     "text": [
      "4\n",
      "4\n",
      "4\n",
      "4\n"
     ]
    }
   ],
   "source": [
    "###BF run through all triplets TC: O(s^(n-1)) = O(s^n), SC: O(1), where s is the final score, and n is the \n",
    "### number of ways to score\n",
    "\n",
    "def NumSolsBF(s):\n",
    "    cnt = 0\n",
    "    for i in range(s):\n",
    "        for j in range(s):\n",
    "            if (s - i*2 - j*3) % 7 == 0 and (s - i*2 - j*3) // 7 >= 0:\n",
    "                cnt += 1\n",
    "    return cnt\n",
    "\n",
    "### TC: O(ns), SC: O(ns)\n",
    "def NumSolsDP(s, i, A, memo):\n",
    "    if s in memo:\n",
    "        return memo[s]\n",
    "    \n",
    "    if i == -1 and s > 0:\n",
    "        return 0\n",
    "    if i >= 0 and s == 0:\n",
    "        return 1\n",
    "\n",
    "    if s-A[i] < 0:\n",
    "        memo[s] = NumSolsDP(s, i-1, A, memo)\n",
    "    else:\n",
    "        memo[s] = NumSolsDP(s - A[i], i, A, memo) + NumSolsDP(s, i-1, A, memo)\n",
    "   \n",
    "    return memo[s]\n",
    "\n",
    "\n",
    "### TC: O(ns), SC: O(ns)\n",
    "def NumSolsDPIT(S, A):\n",
    "    M = [[0]*(S+1) for _ in range(len(A)+1)]\n",
    "    for j in range(len(A)+1):\n",
    "        M[j][0] = 1\n",
    "    \n",
    "    for j in range(1, len(A)+1):\n",
    "        for s in range(1, S+1):\n",
    "            if s-A[j-1]<0:\n",
    "                M[j][s] = M[j-1][s]\n",
    "            else:\n",
    "                M[j][s] = M[j][s-A[j-1]]+M[j-1][s]\n",
    "            \n",
    "    return M[len(A)][S]\n",
    "\n",
    "### TC: O(ns), SC: O(s)\n",
    "def NumSolsDPIT2(S, A):\n",
    "    row1 = [0]*(S+1)\n",
    "    row2 = [0]*(S+1)\n",
    "    row2[0] = 1\n",
    "\n",
    "    for j in range(1, len(A)+1):\n",
    "        for s in range(1, S+1):\n",
    "            if s-A[j-1]<0:\n",
    "                row2[s] = row1[s]\n",
    "            else:\n",
    "                row2[s] = row2[s-A[j-1]] + row1[s]\n",
    "        \n",
    "        row1, row2 = row2, row1\n",
    "        row2[0] = 1\n",
    "             \n",
    "    return row1[S]\n",
    "        \n",
    "\n",
    "\n",
    "print(NumSolsBF(12))\n",
    "A = [2, 3, 7]\n",
    "print(NumSolsDP(12, len(A)-1, A, {}))\n",
    "print(NumSolsDPIT(12, [2, 3, 7]))\n",
    "print(NumSolsDPIT2(12, [2, 3, 7]))\n"
   ]
  },
  {
   "cell_type": "code",
   "execution_count": 37,
   "metadata": {},
   "outputs": [
    {
     "data": {
      "text/plain": [
       "18"
      ]
     },
     "execution_count": 37,
     "metadata": {},
     "output_type": "execute_result"
    }
   ],
   "source": [
    "def NumTups(s, memo):\n",
    "    if s == 0:\n",
    "        return 1\n",
    "    elif s == 1:\n",
    "        return 0\n",
    "    elif s-3 < 0:\n",
    "        memo[s] = NumTups(s-2, memo)\n",
    "        return memo[s]\n",
    "    elif s-7 < 0:\n",
    "        memo[s] = NumTups(s-2, memo) + NumTups(s-3, memo)\n",
    "        return memo[s] \n",
    "    else:\n",
    "        memo[s] = NumTups(s-2, memo) + NumTups(s-3, memo) + NumTups(s-7, memo)\n",
    "        return memo[s]\n",
    "    \n",
    "    \n",
    "NumTups(12, {})    "
   ]
  },
  {
   "cell_type": "code",
   "execution_count": 39,
   "metadata": {},
   "outputs": [
    {
     "data": {
      "text/plain": [
       "7"
      ]
     },
     "execution_count": 39,
     "metadata": {},
     "output_type": "execute_result"
    }
   ],
   "source": [
    "def NumWays(s1, s2, memo):\n",
    "    if (s1, s2) in memo:\n",
    "        return memo[(s1, s2)]\n",
    "    \n",
    "    if s1 == s2 == 0:\n",
    "        return 1\n",
    "    \n",
    "    if s1 == 1 or s2 == 1:\n",
    "        return 0\n",
    "   \n",
    "\n",
    "    res = 0\n",
    "    for i in [2, 3, 7]:\n",
    "        if s1 - i >= 0:\n",
    "            res += NumWays(s1 - i, s2, memo)\n",
    "        if s2 - i >= 0:\n",
    "            res += NumWays(s1, s2 - i, memo)\n",
    "            \n",
    "    memo[(s1, s2)] = res\n",
    "    return res\n",
    "        \n",
    "NumWays(6, 3, {})      "
   ]
  },
  {
   "cell_type": "code",
   "execution_count": 60,
   "metadata": {},
   "outputs": [
    {
     "name": "stdout",
     "output_type": "stream",
     "text": [
      "ore\n"
     ]
    }
   ],
   "source": [
    "def LongSeq(i, j, A, B, memo):\n",
    "    if (i,j) in memo:\n",
    "        return memo[(i,j)][0]\n",
    "    \n",
    "    if i == -1 or j == -1:\n",
    "        memo[(i,j)] = [0, None]\n",
    "        return 0\n",
    "    \n",
    "    if A[i] != B[j]:\n",
    "        res1 = LongSeq(i-1,j, A, B, memo)\n",
    "        res2 = LongSeq(i,j-1, A, B, memo)\n",
    "        \n",
    "        if res1 > res2:\n",
    "            memo[(i,j)] = [res1, (i-1, j)]\n",
    "        else:\n",
    "            memo[(i,j)] = [res2, (i, j-1)]\n",
    "        \n",
    "        \n",
    "        return memo[(i,j)][0]\n",
    "    \n",
    "    memo[(i,j)] = [LongSeq(i-1,j-1, A, B, memo)+1, (i-1, j-1)]\n",
    "    return memo[(i,j)][0]\n",
    "\n",
    "A = 'carthorse'\n",
    "B = 'orchestra'\n",
    "memo = {}\n",
    "LongSeq(len(A) - 1, len(B)-1, A, B, memo)\n",
    "\n",
    "i, j = len(A) - 1, len(B)-1\n",
    "s = []\n",
    "while memo[(i, j)][1] != None:\n",
    "    if A[i] == B[j]:\n",
    "        s.append(A[i])\n",
    "    i, j = memo[(i, j)][1]\n",
    "    \n",
    "print(\"\".join(reversed(s)))\n",
    "\n",
    "\n"
   ]
  },
  {
   "cell_type": "code",
   "execution_count": 71,
   "metadata": {},
   "outputs": [
    {
     "name": "stdout",
     "output_type": "stream",
     "text": [
      "0\n",
      "1\n",
      "2\n",
      "3\n",
      "5\n"
     ]
    }
   ],
   "source": [
    "def MinDel(i,j, A):\n",
    "    if j<=i:\n",
    "        return 0\n",
    "    if A[i] != A[j]:\n",
    "        return min(MinDel(i+1,j, A)+1, MinDel(i,j-1, A)+1)\n",
    "    return MinDel(i+1,j-1, A)\n",
    "\n",
    "A= 'kayak'\n",
    "print(MinDel(0,len(A)-1, A))\n",
    "\n",
    "A= 'kaypak'\n",
    "print(MinDel(0,len(A)-1, A))\n",
    "\n",
    "A= 'kaypakp'\n",
    "print(MinDel(0,len(A)-1, A))\n",
    "\n",
    "A= 'pppkayak'\n",
    "print(MinDel(0,len(A)-1, A))\n",
    "\n",
    "A= 'ppppppkayak'\n",
    "print(MinDel(0,len(A)-1, A))"
   ]
  },
  {
   "cell_type": "code",
   "execution_count": 73,
   "metadata": {},
   "outputs": [
    {
     "data": {
      "text/plain": [
       "70"
      ]
     },
     "execution_count": 73,
     "metadata": {},
     "output_type": "execute_result"
    }
   ],
   "source": [
    "def NW(i,j):\n",
    "    if i == j == 0:\n",
    "        return 1\n",
    "    if (0 <= j-1 <= 4) and (0 <= i-1 <= 4):\n",
    "        return NW(i-1,j)+NW(i,j-1)\n",
    "    if (0 <= j-1 <= 4):\n",
    "        return NW(i,j-1)\n",
    "    if (0 <= i-1 <= 4):\n",
    "        return NW(i-1,j)\n",
    "    \n",
    "NW(4, 4)"
   ]
  },
  {
   "cell_type": "code",
   "execution_count": 78,
   "metadata": {},
   "outputs": [
    {
     "name": "stdout",
     "output_type": "stream",
     "text": [
      "9\n",
      "45\n",
      "165\n"
     ]
    }
   ],
   "source": [
    "def NumInts(i, v):\n",
    "    if i >= 1 and v == 9:\n",
    "        return 1\n",
    "    if i == 1:\n",
    "        return 9 - v + 1\n",
    "    \n",
    "    res = 0\n",
    "    for k in range(v, 10):\n",
    "        res += NumInts(i - 1, k)\n",
    "        \n",
    "    return res\n",
    "\n",
    "k=1\n",
    "print(NumInts(k, 1))\n",
    "\n",
    "k=2\n",
    "print(NumInts(k, 1))\n",
    "\n",
    "k=3\n",
    "print(NumInts(k, 1))"
   ]
  },
  {
   "cell_type": "code",
   "execution_count": 85,
   "metadata": {},
   "outputs": [
    {
     "name": "stdout",
     "output_type": "stream",
     "text": [
      "done\n"
     ]
    }
   ],
   "source": [
    "from scipy.special import binom\n",
    "\n",
    "def BinCoeff(n, k, memo):\n",
    "    if (n,k) in memo:\n",
    "        return memo[(n,k)]\n",
    "    if n == k:\n",
    "        return 1\n",
    "    if k == 0:\n",
    "        return 1\n",
    "    memo[(n,k)] = BinCoeff(n-1, k-1, memo)+BinCoeff(n-1, k, memo)\n",
    "    return memo[(n,k)]\n",
    "\n",
    "\n",
    "for n in range(1, 20):\n",
    "    for k in range(0, n+1):\n",
    "        assert BinCoeff(n, k, {}) == binom(n, k)\n",
    "        \n",
    "print('done')\n"
   ]
  },
  {
   "cell_type": "code",
   "execution_count": 116,
   "metadata": {},
   "outputs": [
    {
     "name": "stdout",
     "output_type": "stream",
     "text": [
      "True\n",
      "False\n",
      "True\n"
     ]
    }
   ],
   "source": [
    "###TC: O(mnq), SC: O(mnq), where q is the size of the pattern\n",
    "\n",
    "def Exists(i, j, k, grid, pattern, memo):\n",
    "    \n",
    "    ###bases\n",
    "    if k == (len(pattern) - 1) and (0 <= i <= len(grid) - 1) and (0 <= j <= len(grid[0]) - 1) and grid[i][j] == pattern[-1]:\n",
    "        memo[(i, j, k)] = True\n",
    "        return True\n",
    "    if k == (len(pattern) - 1):\n",
    "        memo[(i, j, k)] = False\n",
    "        return False\n",
    "    \n",
    "    if grid[i][j] == pattern[k]:\n",
    "        res = False\n",
    "        for tup in [(i-1, j), (i+1, j), (i, j-1), (i, j+1)]:\n",
    "            if (0 <= tup[0] <= len(grid) - 1) and (0 <= tup[1] <= len(grid[0]) - 1):\n",
    "                res = res or Exists(tup[0], tup[1], k+1, grid, pattern, memo)\n",
    "        memo[(i, j, k)] = res\n",
    "        return res\n",
    "    \n",
    "    else:\n",
    "        memo[(i, j, k)] = False\n",
    "        return False\n",
    "\n",
    "\n",
    "def ExistsInGrid(grid, pattern): \n",
    "    \n",
    "    memo={}\n",
    "    for i in range(len(grid)):\n",
    "        for j in range(len(grid[0])):\n",
    "            Exists(i, j, 0, grid, pattern, memo)\n",
    "\n",
    "\n",
    "    for tup in memo:\n",
    "        if tup[2] == len(pattern)-1 and memo[tup] == True:\n",
    "            return True\n",
    "    return False\n",
    "\n",
    "##################################################\n",
    "\n",
    "\n",
    "grid = [[1, 2, 3], \n",
    "        [3, 4, 5], \n",
    "        [5, 6, 7]]\n",
    "\n",
    "pattern = [1, 3, 4, 6, 4, 2, 3]\n",
    "print(ExistsInGrid(grid, pattern))\n",
    "\n",
    "pattern = [1, 2, 3, 4]\n",
    "print(ExistsInGrid(grid, pattern))\n",
    "\n",
    "pattern = [1, 2, 3, 5, 7, 6, 5, 3, 1, 2, 4]\n",
    "print(ExistsInGrid(grid, pattern))\n"
   ]
  },
  {
   "cell_type": "code",
   "execution_count": 121,
   "metadata": {},
   "outputs": [
    {
     "name": "stdout",
     "output_type": "stream",
     "text": [
      "False\n",
      "False\n",
      "False\n"
     ]
    }
   ],
   "source": [
    "###TC: O(mnq), SC: O(mnq), where q is the size of the pattern\n",
    "\n",
    "def ExistsV(i, j, k, grid, pattern, memo, visited):\n",
    "    \n",
    "    ###bases\n",
    "    if k == (len(pattern) - 1) and (0 <= i <= len(grid) - 1) and (0 <= j <= len(grid[0]) - 1) \\\n",
    "    and grid[i][j] == pattern[-1] and ((i, j) not in visited):\n",
    "        memo[(i, j, k)] = True\n",
    "        return True\n",
    "    \n",
    "    if k == (len(pattern) - 1):\n",
    "        memo[(i, j, k)] = False\n",
    "        return False\n",
    "    \n",
    "    if grid[i][j] == pattern[k]:\n",
    "        res = False\n",
    "        for tup in [(i-1, j), (i+1, j), (i, j-1), (i, j+1)]:\n",
    "            if (0 <= tup[0] <= len(grid) - 1) and (0 <= tup[1] <= len(grid[0]) - 1) and ((tup[0], tup[1]) not in visited):\n",
    "                visited[(tup[0], tup[1])] = True\n",
    "                res = res or ExistsV(tup[0], tup[1], k+1, grid, pattern, memo, visited)\n",
    "                del visited[(tup[0], tup[1])]\n",
    "        memo[(i, j, k)] = res\n",
    "        return res\n",
    "    \n",
    "    else:\n",
    "        memo[(i, j, k)] = False\n",
    "        return False\n",
    "\n",
    "\n",
    "def ExistsInGridV(grid, pattern): \n",
    "    \n",
    "    memo={}\n",
    "    \n",
    "    for i in range(len(grid)):\n",
    "        for j in range(len(grid[0])):\n",
    "            visited = {}\n",
    "            ExistsV(i, j, 0, grid, pattern, memo, visited)\n",
    "\n",
    "\n",
    "    for tup in memo:\n",
    "        if tup[2] == len(pattern)-1 and memo[tup] == True:\n",
    "            return True\n",
    "    return False\n",
    "\n",
    "##################################################\n",
    "\n",
    "\n",
    "grid = [[1, 2, 3], \n",
    "        [3, 4, 5], \n",
    "        [5, 6, 7]]\n",
    "\n",
    "pattern = [1, 2]\n",
    "print(ExistsInGridV(grid, pattern))\n",
    "\n",
    "pattern = [1, 2, 3, 4]\n",
    "print(ExistsInGridV(grid, pattern))\n",
    "\n",
    "pattern = [1, 2, 3, 5, 7, 6, 5, 3, 1, 2, 4]\n",
    "print(ExistsInGridV(grid, pattern))\n",
    "\n"
   ]
  },
  {
   "cell_type": "code",
   "execution_count": 124,
   "metadata": {},
   "outputs": [
    {
     "name": "stdout",
     "output_type": "stream",
     "text": [
      "[[0, 0, 0, 0, 0, 60], [0, 0, 0, 50, 50, 60], [0, 0, 0, 50, 70, 70], [0, 0, 30, 50, 70, 80]]\n"
     ]
    },
    {
     "data": {
      "text/plain": [
       "80"
      ]
     },
     "execution_count": 124,
     "metadata": {},
     "output_type": "execute_result"
    }
   ],
   "source": [
    "### bottom up sol.  TC: O(|V|C), SC: O(|V|C)\n",
    "\n",
    "def KS(V, W, C):\n",
    "    memo = [[0]*(C+1) for _ in range(len(V))]\n",
    "    \n",
    "    ### initialize memo\n",
    "    for c in range(C+1):\n",
    "        if c-W[0] >= 0:\n",
    "            memo[0][c] = V[0]\n",
    "        else:\n",
    "            memo[0][c] = 0\n",
    "            \n",
    "    ###fill in memo bottom up\n",
    "    \n",
    "    for i in range(1, len(V)):\n",
    "        for c in range(C+1):\n",
    "            if c - W[i] < 0:\n",
    "                memo[i][c] = memo[i-1][c]\n",
    "            else:\n",
    "                memo[i][c] = max(memo[i-1][c-W[i]]+V[i], memo[i-1][c])\n",
    "    \n",
    "    print(memo)\n",
    "    return memo[len(V)-1][C]\n",
    "                \n",
    "V = [60, 50, 70, 30]\n",
    "W = [5, 3, 4, 2]\n",
    "KS(V, W, 5)"
   ]
  },
  {
   "cell_type": "code",
   "execution_count": 128,
   "metadata": {},
   "outputs": [
    {
     "data": {
      "text/plain": [
       "80"
      ]
     },
     "execution_count": 128,
     "metadata": {},
     "output_type": "execute_result"
    }
   ],
   "source": [
    "### bottom up sol.  TC: O(|V|C), SC: O(C)\n",
    "\n",
    "def KS2(V, W, C):\n",
    "    memo1 = [0]*(C+1)\n",
    "    memo2 = [0]*(C+1)\n",
    "    \n",
    "    ### initialize memo\n",
    "    for c in range(C+1):\n",
    "        if c-W[0] >= 0:\n",
    "            memo1[c] = V[0]\n",
    "        else:\n",
    "            memo1[c] = 0\n",
    "            \n",
    "    ###fill in memo bottom up\n",
    "    \n",
    "    for i in range(1, len(V)):\n",
    "        for c in range(C+1):\n",
    "            if c - W[i] < 0:\n",
    "                memo2[c] = memo1[c]\n",
    "            else:\n",
    "                memo2[c] = max(memo1[c-W[i]]+V[i], memo1[c])\n",
    "                \n",
    "        memo1, memo2 = memo2, memo1\n",
    "    \n",
    "    return memo1[-1]\n",
    "                \n",
    "V = [60, 50, 70, 30]\n",
    "W = [5, 3, 4, 2]\n",
    "KS2(V, W, 5)"
   ]
  },
  {
   "cell_type": "code",
   "execution_count": 134,
   "metadata": {},
   "outputs": [
    {
     "name": "stdout",
     "output_type": "stream",
     "text": [
      "True\n",
      "False\n"
     ]
    }
   ],
   "source": [
    "### TC: O(|V|S), SC: O(|V|S)\n",
    "def presidential(i, w, V, memo):\n",
    "    \n",
    "    ###check memo\n",
    "    if (i, w) in memo:\n",
    "        return memo[(i,w)]\n",
    "    \n",
    "    ###bases \n",
    "    if i == 0 and w-V[0]==0:\n",
    "        return True\n",
    "    if i == 0 and w-V[0]!=0:\n",
    "        return False\n",
    "    \n",
    "    ### recursion and memoize\n",
    "    \n",
    "    #case1\n",
    "    if w-V[0]<0:\n",
    "        memo[(i,w)] = presidential(i-1, w, V, memo)\n",
    "        return memo[(i,w)]\n",
    "    \n",
    "    #case2\n",
    "    memo[(i,w)] =presidential(i-1, w-V[i], V, memo) or presidential(i-1, w, V, memo)\n",
    "    return memo[(i,w)]\n",
    "\n",
    "def TiePossible(V):\n",
    "    S = sum(V)\n",
    "    if S % 2 == 1:\n",
    "        return False\n",
    "    \n",
    "    memo = {}\n",
    "    return presidential(len(V)-1, S//2, V, memo)\n",
    "\n",
    "\n",
    "V = [1, 2, 3]\n",
    "print(TiePossible(V))\n",
    "\n",
    "V = [3, 2, 3]\n",
    "print(TiePossible(V))"
   ]
  },
  {
   "cell_type": "markdown",
   "metadata": {},
   "source": [
    "As a first start, the following recurrence will provide the correct answer:\n",
    "\n",
    "\\begin{equation}\n",
    "  MinDiff(i, v_a, v_b)=\\begin{cases}\n",
    "    |v_a - v_b| & \\text{for $i=len(V)$}\\\\\n",
    "    min \\{ MinDiff(i+1, v_a+V[i], v_b), MinDiff(i+1, v_a, v_b+V[i]) \\} & \\text{otherwise}.\n",
    "  \\end{cases}\n",
    "\\end{equation}\n",
    "\n",
    "The TC here will be $O(|V|S^2)$, where $S$ is the sum of $V$.  I can easily beat down this complexity with a minor change to the recurrence.  Since there are 2 robbers we only need to keep track of 1.  Letting $S$ be the sum of V:\n",
    "\n",
    "\\begin{equation}\n",
    "  MinDiff(i, v_a)=\\begin{cases}\n",
    "    |2v_a - S| & \\text{for $i=len(V)$}\\\\\n",
    "    min \\{ MinDiff(i+1, v_a+V[i]), MinDiff(i+1, v_a) \\} & \\text{otherwise}.\n",
    "  \\end{cases}\n",
    "\\end{equation}\n",
    "\n",
    "The TC here is $O(|V|S)$, as is the space complexity."
   ]
  },
  {
   "cell_type": "code",
   "execution_count": 149,
   "metadata": {},
   "outputs": [
    {
     "name": "stdout",
     "output_type": "stream",
     "text": [
      "2\n",
      "0\n"
     ]
    }
   ],
   "source": [
    "def MinDiff(V):\n",
    "    S = sum(V)\n",
    "    \n",
    "    def MinDiffRec(i, a, S, memo):\n",
    "        if (i, a) in memo:\n",
    "            return memo[(i,a)]\n",
    "\n",
    "        if i == len(V):\n",
    "            return abs(2*a - S)\n",
    "\n",
    "        else:\n",
    "            memo[(i,a)] = min(MinDiffRec(i+1, a+V[i], S, memo), MinDiffRec(i+1, a, S, memo))\n",
    "            return memo[(i,a)]\n",
    "    \n",
    "    return MinDiffRec(0, 0, S, {})\n",
    "\n",
    "V=[50, 10, 50, 12]\n",
    "print(MinDiff(V))\n",
    "\n",
    "V=[20, 15, 2, 3, 40]\n",
    "print(MinDiff(V))"
   ]
  },
  {
   "cell_type": "code",
   "execution_count": 152,
   "metadata": {},
   "outputs": [
    {
     "name": "stdout",
     "output_type": "stream",
     "text": [
      "2\n",
      "inf\n",
      "5\n"
     ]
    }
   ],
   "source": [
    "def MinDiffSameNum(V):\n",
    "    S = sum(V)\n",
    "    \n",
    "    def MinDiffSameNumRec(i, a, na, S, memo):\n",
    "        if (i, a, na) in memo:\n",
    "            return memo[(i,a, na)]\n",
    "\n",
    "        if i == len(V) and na != len(V)/2:\n",
    "            return inf\n",
    "        \n",
    "        if i == len(V) and na == len(V)/2:\n",
    "            return abs(2*a - S)\n",
    "\n",
    "        else:\n",
    "            memo[(i,a)] = min(MinDiffSameNumRec(i+1, a+V[i], na+1, S, memo), MinDiffSameNumRec(i+1, a, na, S, memo))\n",
    "            return memo[(i,a)]\n",
    "    \n",
    "    return MinDiffSameNumRec(0, 0, 0, S, {})\n",
    "\n",
    "V=[50, 10, 50, 12]\n",
    "print(MinDiffSameNum(V))\n",
    "\n",
    "V=[20, 15, 2, 3, 40]\n",
    "print(MinDiffSameNum(V))\n",
    "\n",
    "V=[20, 15, 2, 3, 40, 1]\n",
    "print(MinDiffSameNum(V))"
   ]
  },
  {
   "cell_type": "code",
   "execution_count": 167,
   "metadata": {},
   "outputs": [
    {
     "name": "stdout",
     "output_type": "stream",
     "text": [
      "False\n",
      "True\n",
      "canal\n",
      "a\n",
      "plan\n",
      "a\n",
      "man\n",
      "a\n"
     ]
    }
   ],
   "source": [
    "#TC: O(n^3), SC: O(n)\n",
    "\n",
    "def IsPoss(i, s, D, memo, parent):\n",
    "    if i in memo:\n",
    "        return memo[i]\n",
    "    \n",
    "    if i == -1:\n",
    "        parent[i] = None\n",
    "        memo[i] = True\n",
    "        return True\n",
    "    \n",
    "    res = False\n",
    "    for k in range(0, i+1):\n",
    "        if s[k: i+1] in D:\n",
    "            if IsPoss(k-1, s, D, memo, parent):\n",
    "                res = True \n",
    "                parent[i] = (k-1, s[k: i+1])\n",
    "            \n",
    "    memo[i] = res\n",
    "    return res\n",
    "       \n",
    "    \n",
    "\n",
    "\n",
    "D = {'doug', 'joan', 'margot', 'man', 'plan', 'canal'}\n",
    "s = 'amanaplanacanal'\n",
    "parent = {}\n",
    "print(IsPoss(len(s)-1, s, D, {}, parent))\n",
    "\n",
    "D = {'doug', 'joan', 'margot', 'a', 'man', 'plan', 'canal'}\n",
    "s = 'amanaplanacanal'\n",
    "parent = {}\n",
    "print(IsPoss(len(s)-1, s, D, {}, parent))\n",
    "\n",
    "###print solution\n",
    "i = len(s)-1\n",
    "while i >-1:\n",
    "    print(parent[i][1])\n",
    "    i = parent[i][0]\n"
   ]
  },
  {
   "cell_type": "code",
   "execution_count": 175,
   "metadata": {},
   "outputs": [
    {
     "data": {
      "text/plain": [
       "4"
      ]
     },
     "execution_count": 175,
     "metadata": {},
     "output_type": "execute_result"
    }
   ],
   "source": [
    "###TC: O(n^3)\n",
    "\n",
    "def IsPal(s, j, l):\n",
    "    \n",
    "    while j < l:\n",
    "        if s[j] == s[l]:\n",
    "            j += 1; l -= 1\n",
    "        else:\n",
    "            return False\n",
    "    \n",
    "    return True\n",
    "\n",
    "def MD(i, s, memo):\n",
    "    if i in memo:\n",
    "        return memo[i]\n",
    "    \n",
    "    if i == -1:\n",
    "        return 0\n",
    "    \n",
    "    curr_min = inf\n",
    "    for k in range(0, i+1):\n",
    "        if IsPal(s, k, i):\n",
    "            curr_min = min(curr_min, MD(k-1, s, memo)+1)\n",
    "            \n",
    "    memo[i] = curr_min\n",
    "    return curr_min\n",
    "\n",
    "s = '0204451881'\n",
    "MD(len(s)-1, s, {})"
   ]
  },
  {
   "cell_type": "code",
   "execution_count": 176,
   "metadata": {},
   "outputs": [
    {
     "data": {
      "text/plain": [
       "15"
      ]
     },
     "execution_count": 176,
     "metadata": {},
     "output_type": "execute_result"
    }
   ],
   "source": [
    "#TC O(n^2)\n",
    "\n",
    "def MinPath(i,j, M, memo):\n",
    "    if (i,j) in memo:\n",
    "        return memo[(i,j)]\n",
    "    if i == len(M):\n",
    "        return 0\n",
    "    \n",
    "    memo[(i,j)] = M[i][j] + min(MinPath(i+1,j, M, memo), MinPath(i+1,j+1, M, memo))\n",
    "    return memo[(i,j)]\n",
    "\n",
    "M = [[2], [4, 4], [8, 5, 6], [4, 2, 6, 2], [1, 5, 2, 3, 4]]\n",
    "MinPath(0, 0, M, {})"
   ]
  }
 ],
 "metadata": {
  "kernelspec": {
   "display_name": "Python 3",
   "language": "python",
   "name": "python3"
  },
  "language_info": {
   "codemirror_mode": {
    "name": "ipython",
    "version": 3
   },
   "file_extension": ".py",
   "mimetype": "text/x-python",
   "name": "python",
   "nbconvert_exporter": "python",
   "pygments_lexer": "ipython3",
   "version": "3.6.5"
  }
 },
 "nbformat": 4,
 "nbformat_minor": 2
}
